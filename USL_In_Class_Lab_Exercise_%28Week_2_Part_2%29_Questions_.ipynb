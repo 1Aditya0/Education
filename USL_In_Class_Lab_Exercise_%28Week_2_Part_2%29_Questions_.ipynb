{
  "cells": [
    {
      "cell_type": "markdown",
      "metadata": {
        "id": "hjdZIFVvbf8w"
      },
      "source": [
        "<table align=\"center\" width=100%>\n",
        "    <tr>\n",
        "        <td width=\"20%\">\n",
        "            <img src=\"in_class.png\">\n",
        "        </td>\n",
        "        <td>\n",
        "            <div align=\"center\">\n",
        "                <font color=\"#21618C\" size=8px>\n",
        "                    <b> Inclass - Lab <br>(Week 2 - Part2)\n",
        "                    </b>\n",
        "                </font>\n",
        "            </div>\n",
        "        </td>\n",
        "         <td width=\"25%\">\n",
        "            <img src=\"GL-2.png\">\n",
        "        </td>\n",
        "    </tr>\n",
        "</table>"
      ]
    },
    {
      "cell_type": "markdown",
      "metadata": {
        "id": "13IkHWPLbf8y"
      },
      "source": [
        "### About the dataset (Rain prediction data)\n",
        "\n",
        "The dataset consists of various factors like temperature, humidity, a wind speed that are important in predicting the rainfall in the Indian subcontinent. \n",
        "\n",
        "**Temperature_min**: Minimum temperature for the day\n",
        "\n",
        "**Temperature_max**: Maximum temperature for the day\n",
        "\n",
        "**WindSpeedAt3am**: Today's speed of the wind at 3 am \n",
        "\n",
        "**WindSpeedAt10am**: Today's speed of the wind at 10 am\n",
        "\n",
        "**WindSpeedAt6pm**: Today's speed of the wind at 6 pm \n",
        "\n",
        "**HumidityLevelAt10am**: Today's humidity level at 10 am\n",
        "\n",
        "**HumidityAt6pm**: Today's humidity level at 6 pm\n",
        "\n",
        "**PressureAt10am**: Today's atmospheric pressure at 10 am\n",
        "\n",
        "**PressureAt6pm**: Today's atmospheric pressure at 6 pm\n",
        "\n",
        "**TemperatureAt10am**: Today's temperature at 10 am\n",
        "\n",
        "**TemperatureAt6pm**: Today's temperature at 6 pm\n",
        "\n",
        "**WillRainTomorrow?**: Will there be rain tomorrow? (Yes or No) (target/dependent variable)\n",
        "\n",
        "Use different dimension reduction techniques to transform the dataset into the lower dimension."
      ]
    },
    {
      "cell_type": "markdown",
      "metadata": {
        "id": "lU3_K_LIbf8z"
      },
      "source": [
        "## Table of Content\n",
        "\n",
        "1. **[Exploratory Data Analysis](#eda)**\n",
        "2. **[Principal Component Analysis (PCA)](#pca)**\n"
      ]
    },
    {
      "cell_type": "markdown",
      "metadata": {
        "id": "aOwiQlJLbf8z"
      },
      "source": [
        "**Import the required libraries**"
      ]
    },
    {
      "cell_type": "code",
      "execution_count": 1,
      "metadata": {
        "id": "NQ5CkAKWbf8z"
      },
      "outputs": [],
      "source": [
        "# write your code here\n",
        "import numpy as np\n",
        "import pandas as pd\n",
        "import seaborn as sns\n",
        "import matplotlib.pyplot as plt\n",
        "\n",
        "##PCA\n",
        "from sklearn.preprocessing import StandardScaler\n",
        "from numpy.linalg import eig\n",
        "\n",
        "##PCA Model\n",
        "from sklearn.decomposition import PCA\n",
        "\n",
        "#Classification libraries \n",
        "from sklearn.tree import DecisionTreeClassifier\n",
        "from sklearn.metrics import accuracy_score, roc_auc_score\n",
        "from sklearn.ensemble import RandomForestClassifier\n"
      ]
    },
    {
      "cell_type": "markdown",
      "metadata": {
        "id": "n7qXBNTJbf80"
      },
      "source": [
        "#### Load the csv file"
      ]
    },
    {
      "cell_type": "code",
      "execution_count": 2,
      "metadata": {
        "id": "mqLLXvhJbf80"
      },
      "outputs": [],
      "source": [
        "# write your code here\n",
        "df_rain = pd.read_csv('/content/Ind_Climate_RainPred.csv')\n"
      ]
    },
    {
      "cell_type": "code",
      "source": [
        "df_rain.head()"
      ],
      "metadata": {
        "colab": {
          "base_uri": "https://localhost:8080/",
          "height": 270
        },
        "id": "NwB1G2rZECAa",
        "outputId": "1b31edad-9b1b-4adf-b869-6307453b288a"
      },
      "execution_count": 3,
      "outputs": [
        {
          "output_type": "execute_result",
          "data": {
            "text/plain": [
              "   Temperature_min  Temperature_max  WindSpeedAt3am  WindSpeedAt10am  \\\n",
              "0             20.3             30.7              32                6   \n",
              "1             30.0             33.3              33               10   \n",
              "2             23.5             26.9              24               14   \n",
              "3             25.5             26.9              45               20   \n",
              "4             33.5             39.3              33                4   \n",
              "\n",
              "   WindSpeedAt6pm  HumidityLevelAt10am  HumidityAt6pm  PressureAt10am  \\\n",
              "0              17                  110             72          1025.2   \n",
              "1              20                   70             35          1032.6   \n",
              "2              20                   98             63          1025.5   \n",
              "3              30                   82             59          1019.3   \n",
              "4              12                   94             49          1027.3   \n",
              "\n",
              "   PressureAt6pm  TemperatureAt10am  TemperatureAt6pm WillRainTomorrow?  \n",
              "0         1015.4               26.6              40.4                No  \n",
              "1         1035.4               26.6              39.3                No  \n",
              "2         1026.0               29.8              34.6               Yes  \n",
              "3         1016.9               24.2              30.8                No  \n",
              "4         1022.2               33.6              43.6                No  "
            ],
            "text/html": [
              "\n",
              "  <div id=\"df-6b86d162-7db0-416d-a688-110469db7f66\">\n",
              "    <div class=\"colab-df-container\">\n",
              "      <div>\n",
              "<style scoped>\n",
              "    .dataframe tbody tr th:only-of-type {\n",
              "        vertical-align: middle;\n",
              "    }\n",
              "\n",
              "    .dataframe tbody tr th {\n",
              "        vertical-align: top;\n",
              "    }\n",
              "\n",
              "    .dataframe thead th {\n",
              "        text-align: right;\n",
              "    }\n",
              "</style>\n",
              "<table border=\"1\" class=\"dataframe\">\n",
              "  <thead>\n",
              "    <tr style=\"text-align: right;\">\n",
              "      <th></th>\n",
              "      <th>Temperature_min</th>\n",
              "      <th>Temperature_max</th>\n",
              "      <th>WindSpeedAt3am</th>\n",
              "      <th>WindSpeedAt10am</th>\n",
              "      <th>WindSpeedAt6pm</th>\n",
              "      <th>HumidityLevelAt10am</th>\n",
              "      <th>HumidityAt6pm</th>\n",
              "      <th>PressureAt10am</th>\n",
              "      <th>PressureAt6pm</th>\n",
              "      <th>TemperatureAt10am</th>\n",
              "      <th>TemperatureAt6pm</th>\n",
              "      <th>WillRainTomorrow?</th>\n",
              "    </tr>\n",
              "  </thead>\n",
              "  <tbody>\n",
              "    <tr>\n",
              "      <th>0</th>\n",
              "      <td>20.3</td>\n",
              "      <td>30.7</td>\n",
              "      <td>32</td>\n",
              "      <td>6</td>\n",
              "      <td>17</td>\n",
              "      <td>110</td>\n",
              "      <td>72</td>\n",
              "      <td>1025.2</td>\n",
              "      <td>1015.4</td>\n",
              "      <td>26.6</td>\n",
              "      <td>40.4</td>\n",
              "      <td>No</td>\n",
              "    </tr>\n",
              "    <tr>\n",
              "      <th>1</th>\n",
              "      <td>30.0</td>\n",
              "      <td>33.3</td>\n",
              "      <td>33</td>\n",
              "      <td>10</td>\n",
              "      <td>20</td>\n",
              "      <td>70</td>\n",
              "      <td>35</td>\n",
              "      <td>1032.6</td>\n",
              "      <td>1035.4</td>\n",
              "      <td>26.6</td>\n",
              "      <td>39.3</td>\n",
              "      <td>No</td>\n",
              "    </tr>\n",
              "    <tr>\n",
              "      <th>2</th>\n",
              "      <td>23.5</td>\n",
              "      <td>26.9</td>\n",
              "      <td>24</td>\n",
              "      <td>14</td>\n",
              "      <td>20</td>\n",
              "      <td>98</td>\n",
              "      <td>63</td>\n",
              "      <td>1025.5</td>\n",
              "      <td>1026.0</td>\n",
              "      <td>29.8</td>\n",
              "      <td>34.6</td>\n",
              "      <td>Yes</td>\n",
              "    </tr>\n",
              "    <tr>\n",
              "      <th>3</th>\n",
              "      <td>25.5</td>\n",
              "      <td>26.9</td>\n",
              "      <td>45</td>\n",
              "      <td>20</td>\n",
              "      <td>30</td>\n",
              "      <td>82</td>\n",
              "      <td>59</td>\n",
              "      <td>1019.3</td>\n",
              "      <td>1016.9</td>\n",
              "      <td>24.2</td>\n",
              "      <td>30.8</td>\n",
              "      <td>No</td>\n",
              "    </tr>\n",
              "    <tr>\n",
              "      <th>4</th>\n",
              "      <td>33.5</td>\n",
              "      <td>39.3</td>\n",
              "      <td>33</td>\n",
              "      <td>4</td>\n",
              "      <td>12</td>\n",
              "      <td>94</td>\n",
              "      <td>49</td>\n",
              "      <td>1027.3</td>\n",
              "      <td>1022.2</td>\n",
              "      <td>33.6</td>\n",
              "      <td>43.6</td>\n",
              "      <td>No</td>\n",
              "    </tr>\n",
              "  </tbody>\n",
              "</table>\n",
              "</div>\n",
              "      <button class=\"colab-df-convert\" onclick=\"convertToInteractive('df-6b86d162-7db0-416d-a688-110469db7f66')\"\n",
              "              title=\"Convert this dataframe to an interactive table.\"\n",
              "              style=\"display:none;\">\n",
              "        \n",
              "  <svg xmlns=\"http://www.w3.org/2000/svg\" height=\"24px\"viewBox=\"0 0 24 24\"\n",
              "       width=\"24px\">\n",
              "    <path d=\"M0 0h24v24H0V0z\" fill=\"none\"/>\n",
              "    <path d=\"M18.56 5.44l.94 2.06.94-2.06 2.06-.94-2.06-.94-.94-2.06-.94 2.06-2.06.94zm-11 1L8.5 8.5l.94-2.06 2.06-.94-2.06-.94L8.5 2.5l-.94 2.06-2.06.94zm10 10l.94 2.06.94-2.06 2.06-.94-2.06-.94-.94-2.06-.94 2.06-2.06.94z\"/><path d=\"M17.41 7.96l-1.37-1.37c-.4-.4-.92-.59-1.43-.59-.52 0-1.04.2-1.43.59L10.3 9.45l-7.72 7.72c-.78.78-.78 2.05 0 2.83L4 21.41c.39.39.9.59 1.41.59.51 0 1.02-.2 1.41-.59l7.78-7.78 2.81-2.81c.8-.78.8-2.07 0-2.86zM5.41 20L4 18.59l7.72-7.72 1.47 1.35L5.41 20z\"/>\n",
              "  </svg>\n",
              "      </button>\n",
              "      \n",
              "  <style>\n",
              "    .colab-df-container {\n",
              "      display:flex;\n",
              "      flex-wrap:wrap;\n",
              "      gap: 12px;\n",
              "    }\n",
              "\n",
              "    .colab-df-convert {\n",
              "      background-color: #E8F0FE;\n",
              "      border: none;\n",
              "      border-radius: 50%;\n",
              "      cursor: pointer;\n",
              "      display: none;\n",
              "      fill: #1967D2;\n",
              "      height: 32px;\n",
              "      padding: 0 0 0 0;\n",
              "      width: 32px;\n",
              "    }\n",
              "\n",
              "    .colab-df-convert:hover {\n",
              "      background-color: #E2EBFA;\n",
              "      box-shadow: 0px 1px 2px rgba(60, 64, 67, 0.3), 0px 1px 3px 1px rgba(60, 64, 67, 0.15);\n",
              "      fill: #174EA6;\n",
              "    }\n",
              "\n",
              "    [theme=dark] .colab-df-convert {\n",
              "      background-color: #3B4455;\n",
              "      fill: #D2E3FC;\n",
              "    }\n",
              "\n",
              "    [theme=dark] .colab-df-convert:hover {\n",
              "      background-color: #434B5C;\n",
              "      box-shadow: 0px 1px 3px 1px rgba(0, 0, 0, 0.15);\n",
              "      filter: drop-shadow(0px 1px 2px rgba(0, 0, 0, 0.3));\n",
              "      fill: #FFFFFF;\n",
              "    }\n",
              "  </style>\n",
              "\n",
              "      <script>\n",
              "        const buttonEl =\n",
              "          document.querySelector('#df-6b86d162-7db0-416d-a688-110469db7f66 button.colab-df-convert');\n",
              "        buttonEl.style.display =\n",
              "          google.colab.kernel.accessAllowed ? 'block' : 'none';\n",
              "\n",
              "        async function convertToInteractive(key) {\n",
              "          const element = document.querySelector('#df-6b86d162-7db0-416d-a688-110469db7f66');\n",
              "          const dataTable =\n",
              "            await google.colab.kernel.invokeFunction('convertToInteractive',\n",
              "                                                     [key], {});\n",
              "          if (!dataTable) return;\n",
              "\n",
              "          const docLinkHtml = 'Like what you see? Visit the ' +\n",
              "            '<a target=\"_blank\" href=https://colab.research.google.com/notebooks/data_table.ipynb>data table notebook</a>'\n",
              "            + ' to learn more about interactive tables.';\n",
              "          element.innerHTML = '';\n",
              "          dataTable['output_type'] = 'display_data';\n",
              "          await google.colab.output.renderOutput(dataTable, element);\n",
              "          const docLink = document.createElement('div');\n",
              "          docLink.innerHTML = docLinkHtml;\n",
              "          element.appendChild(docLink);\n",
              "        }\n",
              "      </script>\n",
              "    </div>\n",
              "  </div>\n",
              "  "
            ]
          },
          "metadata": {},
          "execution_count": 3
        }
      ]
    },
    {
      "cell_type": "markdown",
      "metadata": {
        "id": "VLE-3b78bf80"
      },
      "source": [
        "\n",
        "### Let's begin with some hands-on practice exercises"
      ]
    },
    {
      "cell_type": "markdown",
      "metadata": {
        "id": "mePGZ3I3bf81"
      },
      "source": [
        "<a id=\"eda\"> </a>\n",
        "## 1. Exploratory Data Analysis"
      ]
    },
    {
      "cell_type": "markdown",
      "metadata": {
        "collapsed": true,
        "id": "ZWB9SNGgbf81"
      },
      "source": [
        "<table align=\"left\">\n",
        "    <tr>\n",
        "        <td width=\"6%\">\n",
        "            <img src=\"question_icon.png\">\n",
        "        </td>\n",
        "        <td>\n",
        "            <div align=\"left\", style=\"font-size:120%\">\n",
        "                <font color=\"#21618C\">\n",
        "                    <b>1. Check the datatype of all the variables in the dataset. If the datatype is not as per the definition, do the needful.</b>\n",
        "                </font>\n",
        "            </div>\n",
        "        </td>\n",
        "    </tr>\n",
        "</table>"
      ]
    },
    {
      "cell_type": "code",
      "execution_count": 6,
      "metadata": {
        "id": "5-uDv7J1bf82",
        "colab": {
          "base_uri": "https://localhost:8080/"
        },
        "outputId": "d9d0bbd6-83d7-4055-c512-b7e8e66ae807"
      },
      "outputs": [
        {
          "output_type": "execute_result",
          "data": {
            "text/plain": [
              "Temperature_min        float64\n",
              "Temperature_max        float64\n",
              "WindSpeedAt3am           int64\n",
              "WindSpeedAt10am          int64\n",
              "WindSpeedAt6pm           int64\n",
              "HumidityLevelAt10am      int64\n",
              "HumidityAt6pm            int64\n",
              "PressureAt10am         float64\n",
              "PressureAt6pm          float64\n",
              "TemperatureAt10am      float64\n",
              "TemperatureAt6pm       float64\n",
              "WillRainTomorrow?       object\n",
              "dtype: object"
            ]
          },
          "metadata": {},
          "execution_count": 6
        }
      ],
      "source": [
        "# write your code here\n",
        "df_rain.dtypes"
      ]
    },
    {
      "cell_type": "markdown",
      "metadata": {
        "collapsed": true,
        "id": "WBPjkkYkbf82"
      },
      "source": [
        "<table align=\"left\">\n",
        "    <tr>\n",
        "        <td width=\"6%\">\n",
        "            <img src=\"question_icon.png\">\n",
        "        </td>\n",
        "        <td>\n",
        "            <div align=\"left\", style=\"font-size:120%\">\n",
        "                <font color=\"#21618C\">\n",
        "                    <b>2. Check the statistical summary of all the numerical variables.</b>\n",
        "                </font>\n",
        "            </div>\n",
        "        </td>\n",
        "    </tr>\n",
        "</table>"
      ]
    },
    {
      "cell_type": "code",
      "execution_count": 7,
      "metadata": {
        "id": "6Us4h3i8bf82",
        "colab": {
          "base_uri": "https://localhost:8080/",
          "height": 364
        },
        "outputId": "e9564232-bc41-496f-9829-257602c55d0a"
      },
      "outputs": [
        {
          "output_type": "execute_result",
          "data": {
            "text/plain": [
              "       Temperature_min  Temperature_max  WindSpeedAt3am  WindSpeedAt10am  \\\n",
              "count     10464.000000     10464.000000    10464.000000     10464.000000   \n",
              "mean         26.308964        30.309939       41.391820        15.379683   \n",
              "std           6.843041         7.424327       14.437279         7.449217   \n",
              "min           7.200000        13.200000        9.000000         2.000000   \n",
              "25%          21.300000        24.600000       31.000000        10.000000   \n",
              "50%          26.200000        29.500000       39.000000        14.000000   \n",
              "75%          31.500000        35.600000       49.000000        20.000000   \n",
              "max          47.300000        55.800000      131.000000        58.000000   \n",
              "\n",
              "       WindSpeedAt6pm  HumidityLevelAt10am  HumidityAt6pm  PressureAt10am  \\\n",
              "count    10464.000000         10464.000000   10464.000000    10464.000000   \n",
              "mean        20.394209            82.210627      60.992928     1023.362481   \n",
              "std          7.847386            18.557838      22.737736        7.536385   \n",
              "min          2.000000            11.000000       4.000000      993.700000   \n",
              "25%         15.000000            70.000000      44.000000     1018.400000   \n",
              "50%         20.000000            85.000000      59.000000     1023.400000   \n",
              "75%         25.000000            98.000000      77.000000     1028.600000   \n",
              "max         63.000000           110.000000     110.000000     1048.900000   \n",
              "\n",
              "       PressureAt6pm  TemperatureAt10am  TemperatureAt6pm  \n",
              "count   10464.000000       10464.000000      10464.000000  \n",
              "mean     1020.702332          30.713083         36.218626  \n",
              "std         7.433202           6.752840          7.723442  \n",
              "min       991.900000          10.300000         16.700000  \n",
              "25%      1015.600000          25.800000         30.600000  \n",
              "50%      1020.700000          30.800000         35.600000  \n",
              "75%      1025.700000          35.400000         41.400000  \n",
              "max      1046.400000          56.300000         63.300000  "
            ],
            "text/html": [
              "\n",
              "  <div id=\"df-6ac2c055-7f51-42e2-8f78-4bb219c27a31\">\n",
              "    <div class=\"colab-df-container\">\n",
              "      <div>\n",
              "<style scoped>\n",
              "    .dataframe tbody tr th:only-of-type {\n",
              "        vertical-align: middle;\n",
              "    }\n",
              "\n",
              "    .dataframe tbody tr th {\n",
              "        vertical-align: top;\n",
              "    }\n",
              "\n",
              "    .dataframe thead th {\n",
              "        text-align: right;\n",
              "    }\n",
              "</style>\n",
              "<table border=\"1\" class=\"dataframe\">\n",
              "  <thead>\n",
              "    <tr style=\"text-align: right;\">\n",
              "      <th></th>\n",
              "      <th>Temperature_min</th>\n",
              "      <th>Temperature_max</th>\n",
              "      <th>WindSpeedAt3am</th>\n",
              "      <th>WindSpeedAt10am</th>\n",
              "      <th>WindSpeedAt6pm</th>\n",
              "      <th>HumidityLevelAt10am</th>\n",
              "      <th>HumidityAt6pm</th>\n",
              "      <th>PressureAt10am</th>\n",
              "      <th>PressureAt6pm</th>\n",
              "      <th>TemperatureAt10am</th>\n",
              "      <th>TemperatureAt6pm</th>\n",
              "    </tr>\n",
              "  </thead>\n",
              "  <tbody>\n",
              "    <tr>\n",
              "      <th>count</th>\n",
              "      <td>10464.000000</td>\n",
              "      <td>10464.000000</td>\n",
              "      <td>10464.000000</td>\n",
              "      <td>10464.000000</td>\n",
              "      <td>10464.000000</td>\n",
              "      <td>10464.000000</td>\n",
              "      <td>10464.000000</td>\n",
              "      <td>10464.000000</td>\n",
              "      <td>10464.000000</td>\n",
              "      <td>10464.000000</td>\n",
              "      <td>10464.000000</td>\n",
              "    </tr>\n",
              "    <tr>\n",
              "      <th>mean</th>\n",
              "      <td>26.308964</td>\n",
              "      <td>30.309939</td>\n",
              "      <td>41.391820</td>\n",
              "      <td>15.379683</td>\n",
              "      <td>20.394209</td>\n",
              "      <td>82.210627</td>\n",
              "      <td>60.992928</td>\n",
              "      <td>1023.362481</td>\n",
              "      <td>1020.702332</td>\n",
              "      <td>30.713083</td>\n",
              "      <td>36.218626</td>\n",
              "    </tr>\n",
              "    <tr>\n",
              "      <th>std</th>\n",
              "      <td>6.843041</td>\n",
              "      <td>7.424327</td>\n",
              "      <td>14.437279</td>\n",
              "      <td>7.449217</td>\n",
              "      <td>7.847386</td>\n",
              "      <td>18.557838</td>\n",
              "      <td>22.737736</td>\n",
              "      <td>7.536385</td>\n",
              "      <td>7.433202</td>\n",
              "      <td>6.752840</td>\n",
              "      <td>7.723442</td>\n",
              "    </tr>\n",
              "    <tr>\n",
              "      <th>min</th>\n",
              "      <td>7.200000</td>\n",
              "      <td>13.200000</td>\n",
              "      <td>9.000000</td>\n",
              "      <td>2.000000</td>\n",
              "      <td>2.000000</td>\n",
              "      <td>11.000000</td>\n",
              "      <td>4.000000</td>\n",
              "      <td>993.700000</td>\n",
              "      <td>991.900000</td>\n",
              "      <td>10.300000</td>\n",
              "      <td>16.700000</td>\n",
              "    </tr>\n",
              "    <tr>\n",
              "      <th>25%</th>\n",
              "      <td>21.300000</td>\n",
              "      <td>24.600000</td>\n",
              "      <td>31.000000</td>\n",
              "      <td>10.000000</td>\n",
              "      <td>15.000000</td>\n",
              "      <td>70.000000</td>\n",
              "      <td>44.000000</td>\n",
              "      <td>1018.400000</td>\n",
              "      <td>1015.600000</td>\n",
              "      <td>25.800000</td>\n",
              "      <td>30.600000</td>\n",
              "    </tr>\n",
              "    <tr>\n",
              "      <th>50%</th>\n",
              "      <td>26.200000</td>\n",
              "      <td>29.500000</td>\n",
              "      <td>39.000000</td>\n",
              "      <td>14.000000</td>\n",
              "      <td>20.000000</td>\n",
              "      <td>85.000000</td>\n",
              "      <td>59.000000</td>\n",
              "      <td>1023.400000</td>\n",
              "      <td>1020.700000</td>\n",
              "      <td>30.800000</td>\n",
              "      <td>35.600000</td>\n",
              "    </tr>\n",
              "    <tr>\n",
              "      <th>75%</th>\n",
              "      <td>31.500000</td>\n",
              "      <td>35.600000</td>\n",
              "      <td>49.000000</td>\n",
              "      <td>20.000000</td>\n",
              "      <td>25.000000</td>\n",
              "      <td>98.000000</td>\n",
              "      <td>77.000000</td>\n",
              "      <td>1028.600000</td>\n",
              "      <td>1025.700000</td>\n",
              "      <td>35.400000</td>\n",
              "      <td>41.400000</td>\n",
              "    </tr>\n",
              "    <tr>\n",
              "      <th>max</th>\n",
              "      <td>47.300000</td>\n",
              "      <td>55.800000</td>\n",
              "      <td>131.000000</td>\n",
              "      <td>58.000000</td>\n",
              "      <td>63.000000</td>\n",
              "      <td>110.000000</td>\n",
              "      <td>110.000000</td>\n",
              "      <td>1048.900000</td>\n",
              "      <td>1046.400000</td>\n",
              "      <td>56.300000</td>\n",
              "      <td>63.300000</td>\n",
              "    </tr>\n",
              "  </tbody>\n",
              "</table>\n",
              "</div>\n",
              "      <button class=\"colab-df-convert\" onclick=\"convertToInteractive('df-6ac2c055-7f51-42e2-8f78-4bb219c27a31')\"\n",
              "              title=\"Convert this dataframe to an interactive table.\"\n",
              "              style=\"display:none;\">\n",
              "        \n",
              "  <svg xmlns=\"http://www.w3.org/2000/svg\" height=\"24px\"viewBox=\"0 0 24 24\"\n",
              "       width=\"24px\">\n",
              "    <path d=\"M0 0h24v24H0V0z\" fill=\"none\"/>\n",
              "    <path d=\"M18.56 5.44l.94 2.06.94-2.06 2.06-.94-2.06-.94-.94-2.06-.94 2.06-2.06.94zm-11 1L8.5 8.5l.94-2.06 2.06-.94-2.06-.94L8.5 2.5l-.94 2.06-2.06.94zm10 10l.94 2.06.94-2.06 2.06-.94-2.06-.94-.94-2.06-.94 2.06-2.06.94z\"/><path d=\"M17.41 7.96l-1.37-1.37c-.4-.4-.92-.59-1.43-.59-.52 0-1.04.2-1.43.59L10.3 9.45l-7.72 7.72c-.78.78-.78 2.05 0 2.83L4 21.41c.39.39.9.59 1.41.59.51 0 1.02-.2 1.41-.59l7.78-7.78 2.81-2.81c.8-.78.8-2.07 0-2.86zM5.41 20L4 18.59l7.72-7.72 1.47 1.35L5.41 20z\"/>\n",
              "  </svg>\n",
              "      </button>\n",
              "      \n",
              "  <style>\n",
              "    .colab-df-container {\n",
              "      display:flex;\n",
              "      flex-wrap:wrap;\n",
              "      gap: 12px;\n",
              "    }\n",
              "\n",
              "    .colab-df-convert {\n",
              "      background-color: #E8F0FE;\n",
              "      border: none;\n",
              "      border-radius: 50%;\n",
              "      cursor: pointer;\n",
              "      display: none;\n",
              "      fill: #1967D2;\n",
              "      height: 32px;\n",
              "      padding: 0 0 0 0;\n",
              "      width: 32px;\n",
              "    }\n",
              "\n",
              "    .colab-df-convert:hover {\n",
              "      background-color: #E2EBFA;\n",
              "      box-shadow: 0px 1px 2px rgba(60, 64, 67, 0.3), 0px 1px 3px 1px rgba(60, 64, 67, 0.15);\n",
              "      fill: #174EA6;\n",
              "    }\n",
              "\n",
              "    [theme=dark] .colab-df-convert {\n",
              "      background-color: #3B4455;\n",
              "      fill: #D2E3FC;\n",
              "    }\n",
              "\n",
              "    [theme=dark] .colab-df-convert:hover {\n",
              "      background-color: #434B5C;\n",
              "      box-shadow: 0px 1px 3px 1px rgba(0, 0, 0, 0.15);\n",
              "      filter: drop-shadow(0px 1px 2px rgba(0, 0, 0, 0.3));\n",
              "      fill: #FFFFFF;\n",
              "    }\n",
              "  </style>\n",
              "\n",
              "      <script>\n",
              "        const buttonEl =\n",
              "          document.querySelector('#df-6ac2c055-7f51-42e2-8f78-4bb219c27a31 button.colab-df-convert');\n",
              "        buttonEl.style.display =\n",
              "          google.colab.kernel.accessAllowed ? 'block' : 'none';\n",
              "\n",
              "        async function convertToInteractive(key) {\n",
              "          const element = document.querySelector('#df-6ac2c055-7f51-42e2-8f78-4bb219c27a31');\n",
              "          const dataTable =\n",
              "            await google.colab.kernel.invokeFunction('convertToInteractive',\n",
              "                                                     [key], {});\n",
              "          if (!dataTable) return;\n",
              "\n",
              "          const docLinkHtml = 'Like what you see? Visit the ' +\n",
              "            '<a target=\"_blank\" href=https://colab.research.google.com/notebooks/data_table.ipynb>data table notebook</a>'\n",
              "            + ' to learn more about interactive tables.';\n",
              "          element.innerHTML = '';\n",
              "          dataTable['output_type'] = 'display_data';\n",
              "          await google.colab.output.renderOutput(dataTable, element);\n",
              "          const docLink = document.createElement('div');\n",
              "          docLink.innerHTML = docLinkHtml;\n",
              "          element.appendChild(docLink);\n",
              "        }\n",
              "      </script>\n",
              "    </div>\n",
              "  </div>\n",
              "  "
            ]
          },
          "metadata": {},
          "execution_count": 7
        }
      ],
      "source": [
        "# write your code here\n",
        "df_rain.describe()"
      ]
    },
    {
      "cell_type": "markdown",
      "metadata": {
        "collapsed": true,
        "id": "rQvqRvHDbf83"
      },
      "source": [
        "<table align=\"left\">\n",
        "    <tr>\n",
        "        <td width=\"6%\">\n",
        "            <img src=\"question_icon.png\">\n",
        "        </td>\n",
        "        <td>\n",
        "            <div align=\"left\", style=\"font-size:120%\">\n",
        "                <font color=\"#21618C\">\n",
        "                    <b>3. Is the target variable highly imbalanced? </b>\n",
        "                </font>\n",
        "            </div>\n",
        "        </td>\n",
        "    </tr>\n",
        "</table>"
      ]
    },
    {
      "cell_type": "code",
      "execution_count": 8,
      "metadata": {
        "id": "7Ohm081fbf83",
        "colab": {
          "base_uri": "https://localhost:8080/"
        },
        "outputId": "f29f6bf5-9251-4f0b-af71-83459f9d906d"
      },
      "outputs": [
        {
          "output_type": "execute_result",
          "data": {
            "text/plain": [
              "No     5464\n",
              "Yes    5000\n",
              "Name: WillRainTomorrow?, dtype: int64"
            ]
          },
          "metadata": {},
          "execution_count": 8
        }
      ],
      "source": [
        "# write your code here\n",
        "df_rain['WillRainTomorrow?'].value_counts()"
      ]
    },
    {
      "cell_type": "markdown",
      "metadata": {
        "collapsed": true,
        "id": "Mt-7BCmRbf83"
      },
      "source": [
        "<table align=\"left\">\n",
        "    <tr>\n",
        "        <td width=\"6%\">\n",
        "            <img src=\"question_icon.png\">\n",
        "        </td>\n",
        "        <td>\n",
        "            <div align=\"left\", style=\"font-size:120%\">\n",
        "                <font color=\"#21618C\">\n",
        "                    <b>4. Check if any missing values are present in the data. If yes, do the needful.</b>\n",
        "                </font>\n",
        "            </div>\n",
        "        </td>\n",
        "    </tr>\n",
        "</table>"
      ]
    },
    {
      "cell_type": "code",
      "execution_count": 9,
      "metadata": {
        "id": "J4b-FmYXbf83",
        "colab": {
          "base_uri": "https://localhost:8080/"
        },
        "outputId": "364d655b-e9e1-48de-c323-5e369456ba9a"
      },
      "outputs": [
        {
          "output_type": "execute_result",
          "data": {
            "text/plain": [
              "Temperature_min        0\n",
              "Temperature_max        0\n",
              "WindSpeedAt3am         0\n",
              "WindSpeedAt10am        0\n",
              "WindSpeedAt6pm         0\n",
              "HumidityLevelAt10am    0\n",
              "HumidityAt6pm          0\n",
              "PressureAt10am         0\n",
              "PressureAt6pm          0\n",
              "TemperatureAt10am      0\n",
              "TemperatureAt6pm       0\n",
              "WillRainTomorrow?      0\n",
              "dtype: int64"
            ]
          },
          "metadata": {},
          "execution_count": 9
        }
      ],
      "source": [
        "# write your code here\n",
        "df_rain.isnull().sum()\n"
      ]
    },
    {
      "cell_type": "markdown",
      "metadata": {
        "collapsed": true,
        "id": "zMWyiZcebf84"
      },
      "source": [
        "<table align=\"left\">\n",
        "    <tr>\n",
        "        <td width=\"6%\">\n",
        "            <img src=\"question_icon.png\">\n",
        "        </td>\n",
        "        <td>\n",
        "            <div align=\"left\", style=\"font-size:120%\">\n",
        "                <font color=\"#21618C\">\n",
        "                    <b>5. Visualize the distribution of all the independent variables and identify the type of skewness.</b>\n",
        "                </font>\n",
        "            </div>\n",
        "        </td>\n",
        "    </tr>\n",
        "</table>"
      ]
    },
    {
      "cell_type": "code",
      "execution_count": 12,
      "metadata": {
        "id": "ic6mQkphbf84",
        "colab": {
          "base_uri": "https://localhost:8080/",
          "height": 297
        },
        "outputId": "080e23de-f3f0-4606-a641-89690c4660e8"
      },
      "outputs": [
        {
          "output_type": "display_data",
          "data": {
            "text/plain": [
              "<Figure size 432x288 with 12 Axes>"
            ],
            "image/png": "[encoded data removed]"
          },
          "metadata": {
            "needs_background": "light"
          }
        }
      ],
      "source": [
        "# write your code here\n",
        "df_rain.hist()\n",
        "plt.tight_layout()\n",
        "plt.show()"
      ]
    },
    {
      "cell_type": "markdown",
      "source": [
        "#normal destribution - \n",
        "Neg Skewness - HumidityLevelat10am\n",
        "Pos Skewness -Windspeedat10am, H6m, t6pm, tmax, ws3pm, ws6pm"
      ],
      "metadata": {
        "id": "Z4uL2_c4HNsM"
      }
    },
    {
      "cell_type": "markdown",
      "metadata": {
        "collapsed": true,
        "id": "pmr_a7svbf84"
      },
      "source": [
        "<table align=\"left\">\n",
        "    <tr>\n",
        "        <td width=\"6%\">\n",
        "            <img src=\"question_icon.png\">\n",
        "        </td>\n",
        "        <td>\n",
        "            <div align=\"left\", style=\"font-size:120%\">\n",
        "                <font color=\"#21618C\">\n",
        "                    <b>6. Transform the independent variables such that each variable will have a mean zero and standard deviation of 1.</b>\n",
        "                </font>\n",
        "            </div>\n",
        "        </td>\n",
        "    </tr>\n",
        "</table>"
      ]
    },
    {
      "cell_type": "code",
      "execution_count": 13,
      "metadata": {
        "id": "7XDwB1Uabf85"
      },
      "outputs": [],
      "source": [
        "# write your code here\n",
        "std_scaler = StandardScaler()\n",
        "scale_rain = std_scaler.fit_transform(df_rain.drop('WillRainTomorrow?', axis =1))"
      ]
    },
    {
      "cell_type": "code",
      "source": [
        "df_scaled_rain = pd.DataFrame(scale_rain, columns=df_rain.drop('WillRainTomorrow?', axis =1).columns)"
      ],
      "metadata": {
        "id": "dWIsO4NHJDqU"
      },
      "execution_count": 17,
      "outputs": []
    },
    {
      "cell_type": "code",
      "source": [
        "round(df_scaled_rain.describe())"
      ],
      "metadata": {
        "colab": {
          "base_uri": "https://localhost:8080/",
          "height": 364
        },
        "id": "Pmb9gIS9JOGH",
        "outputId": "e53504ff-df36-49d5-a6fa-608c8707e1e7"
      },
      "execution_count": 18,
      "outputs": [
        {
          "output_type": "execute_result",
          "data": {
            "text/plain": [
              "       Temperature_min  Temperature_max  WindSpeedAt3am  WindSpeedAt10am  \\\n",
              "count          10464.0          10464.0         10464.0          10464.0   \n",
              "mean              -0.0             -0.0             0.0              0.0   \n",
              "std                1.0              1.0             1.0              1.0   \n",
              "min               -3.0             -2.0            -2.0             -2.0   \n",
              "25%               -1.0             -1.0            -1.0             -1.0   \n",
              "50%               -0.0             -0.0            -0.0             -0.0   \n",
              "75%                1.0              1.0             1.0              1.0   \n",
              "max                3.0              3.0             6.0              6.0   \n",
              "\n",
              "       WindSpeedAt6pm  HumidityLevelAt10am  HumidityAt6pm  PressureAt10am  \\\n",
              "count         10464.0              10464.0        10464.0         10464.0   \n",
              "mean             -0.0                 -0.0           -0.0             0.0   \n",
              "std               1.0                  1.0            1.0             1.0   \n",
              "min              -2.0                 -4.0           -3.0            -4.0   \n",
              "25%              -1.0                 -1.0           -1.0            -1.0   \n",
              "50%              -0.0                  0.0           -0.0             0.0   \n",
              "75%               1.0                  1.0            1.0             1.0   \n",
              "max               5.0                  1.0            2.0             3.0   \n",
              "\n",
              "       PressureAt6pm  TemperatureAt10am  TemperatureAt6pm  \n",
              "count        10464.0            10464.0           10464.0  \n",
              "mean             0.0               -0.0              -0.0  \n",
              "std              1.0                1.0               1.0  \n",
              "min             -4.0               -3.0              -3.0  \n",
              "25%             -1.0               -1.0              -1.0  \n",
              "50%             -0.0                0.0              -0.0  \n",
              "75%              1.0                1.0               1.0  \n",
              "max              3.0                4.0               4.0  "
            ],
            "text/html": [
              "\n",
              "  <div id=\"df-5b9183cc-a03f-41b7-bc97-ee3d953b36a6\">\n",
              "    <div class=\"colab-df-container\">\n",
              "      <div>\n",
              "<style scoped>\n",
              "    .dataframe tbody tr th:only-of-type {\n",
              "        vertical-align: middle;\n",
              "    }\n",
              "\n",
              "    .dataframe tbody tr th {\n",
              "        vertical-align: top;\n",
              "    }\n",
              "\n",
              "    .dataframe thead th {\n",
              "        text-align: right;\n",
              "    }\n",
              "</style>\n",
              "<table border=\"1\" class=\"dataframe\">\n",
              "  <thead>\n",
              "    <tr style=\"text-align: right;\">\n",
              "      <th></th>\n",
              "      <th>Temperature_min</th>\n",
              "      <th>Temperature_max</th>\n",
              "      <th>WindSpeedAt3am</th>\n",
              "      <th>WindSpeedAt10am</th>\n",
              "      <th>WindSpeedAt6pm</th>\n",
              "      <th>HumidityLevelAt10am</th>\n",
              "      <th>HumidityAt6pm</th>\n",
              "      <th>PressureAt10am</th>\n",
              "      <th>PressureAt6pm</th>\n",
              "      <th>TemperatureAt10am</th>\n",
              "      <th>TemperatureAt6pm</th>\n",
              "    </tr>\n",
              "  </thead>\n",
              "  <tbody>\n",
              "    <tr>\n",
              "      <th>count</th>\n",
              "      <td>10464.0</td>\n",
              "      <td>10464.0</td>\n",
              "      <td>10464.0</td>\n",
              "      <td>10464.0</td>\n",
              "      <td>10464.0</td>\n",
              "      <td>10464.0</td>\n",
              "      <td>10464.0</td>\n",
              "      <td>10464.0</td>\n",
              "      <td>10464.0</td>\n",
              "      <td>10464.0</td>\n",
              "      <td>10464.0</td>\n",
              "    </tr>\n",
              "    <tr>\n",
              "      <th>mean</th>\n",
              "      <td>-0.0</td>\n",
              "      <td>-0.0</td>\n",
              "      <td>0.0</td>\n",
              "      <td>0.0</td>\n",
              "      <td>-0.0</td>\n",
              "      <td>-0.0</td>\n",
              "      <td>-0.0</td>\n",
              "      <td>0.0</td>\n",
              "      <td>0.0</td>\n",
              "      <td>-0.0</td>\n",
              "      <td>-0.0</td>\n",
              "    </tr>\n",
              "    <tr>\n",
              "      <th>std</th>\n",
              "      <td>1.0</td>\n",
              "      <td>1.0</td>\n",
              "      <td>1.0</td>\n",
              "      <td>1.0</td>\n",
              "      <td>1.0</td>\n",
              "      <td>1.0</td>\n",
              "      <td>1.0</td>\n",
              "      <td>1.0</td>\n",
              "      <td>1.0</td>\n",
              "      <td>1.0</td>\n",
              "      <td>1.0</td>\n",
              "    </tr>\n",
              "    <tr>\n",
              "      <th>min</th>\n",
              "      <td>-3.0</td>\n",
              "      <td>-2.0</td>\n",
              "      <td>-2.0</td>\n",
              "      <td>-2.0</td>\n",
              "      <td>-2.0</td>\n",
              "      <td>-4.0</td>\n",
              "      <td>-3.0</td>\n",
              "      <td>-4.0</td>\n",
              "      <td>-4.0</td>\n",
              "      <td>-3.0</td>\n",
              "      <td>-3.0</td>\n",
              "    </tr>\n",
              "    <tr>\n",
              "      <th>25%</th>\n",
              "      <td>-1.0</td>\n",
              "      <td>-1.0</td>\n",
              "      <td>-1.0</td>\n",
              "      <td>-1.0</td>\n",
              "      <td>-1.0</td>\n",
              "      <td>-1.0</td>\n",
              "      <td>-1.0</td>\n",
              "      <td>-1.0</td>\n",
              "      <td>-1.0</td>\n",
              "      <td>-1.0</td>\n",
              "      <td>-1.0</td>\n",
              "    </tr>\n",
              "    <tr>\n",
              "      <th>50%</th>\n",
              "      <td>-0.0</td>\n",
              "      <td>-0.0</td>\n",
              "      <td>-0.0</td>\n",
              "      <td>-0.0</td>\n",
              "      <td>-0.0</td>\n",
              "      <td>0.0</td>\n",
              "      <td>-0.0</td>\n",
              "      <td>0.0</td>\n",
              "      <td>-0.0</td>\n",
              "      <td>0.0</td>\n",
              "      <td>-0.0</td>\n",
              "    </tr>\n",
              "    <tr>\n",
              "      <th>75%</th>\n",
              "      <td>1.0</td>\n",
              "      <td>1.0</td>\n",
              "      <td>1.0</td>\n",
              "      <td>1.0</td>\n",
              "      <td>1.0</td>\n",
              "      <td>1.0</td>\n",
              "      <td>1.0</td>\n",
              "      <td>1.0</td>\n",
              "      <td>1.0</td>\n",
              "      <td>1.0</td>\n",
              "      <td>1.0</td>\n",
              "    </tr>\n",
              "    <tr>\n",
              "      <th>max</th>\n",
              "      <td>3.0</td>\n",
              "      <td>3.0</td>\n",
              "      <td>6.0</td>\n",
              "      <td>6.0</td>\n",
              "      <td>5.0</td>\n",
              "      <td>1.0</td>\n",
              "      <td>2.0</td>\n",
              "      <td>3.0</td>\n",
              "      <td>3.0</td>\n",
              "      <td>4.0</td>\n",
              "      <td>4.0</td>\n",
              "    </tr>\n",
              "  </tbody>\n",
              "</table>\n",
              "</div>\n",
              "      <button class=\"colab-df-convert\" onclick=\"convertToInteractive('df-5b9183cc-a03f-41b7-bc97-ee3d953b36a6')\"\n",
              "              title=\"Convert this dataframe to an interactive table.\"\n",
              "              style=\"display:none;\">\n",
              "        \n",
              "  <svg xmlns=\"http://www.w3.org/2000/svg\" height=\"24px\"viewBox=\"0 0 24 24\"\n",
              "       width=\"24px\">\n",
              "    <path d=\"M0 0h24v24H0V0z\" fill=\"none\"/>\n",
              "    <path d=\"M18.56 5.44l.94 2.06.94-2.06 2.06-.94-2.06-.94-.94-2.06-.94 2.06-2.06.94zm-11 1L8.5 8.5l.94-2.06 2.06-.94-2.06-.94L8.5 2.5l-.94 2.06-2.06.94zm10 10l.94 2.06.94-2.06 2.06-.94-2.06-.94-.94-2.06-.94 2.06-2.06.94z\"/><path d=\"M17.41 7.96l-1.37-1.37c-.4-.4-.92-.59-1.43-.59-.52 0-1.04.2-1.43.59L10.3 9.45l-7.72 7.72c-.78.78-.78 2.05 0 2.83L4 21.41c.39.39.9.59 1.41.59.51 0 1.02-.2 1.41-.59l7.78-7.78 2.81-2.81c.8-.78.8-2.07 0-2.86zM5.41 20L4 18.59l7.72-7.72 1.47 1.35L5.41 20z\"/>\n",
              "  </svg>\n",
              "      </button>\n",
              "      \n",
              "  <style>\n",
              "    .colab-df-container {\n",
              "      display:flex;\n",
              "      flex-wrap:wrap;\n",
              "      gap: 12px;\n",
              "    }\n",
              "\n",
              "    .colab-df-convert {\n",
              "      background-color: #E8F0FE;\n",
              "      border: none;\n",
              "      border-radius: 50%;\n",
              "      cursor: pointer;\n",
              "      display: none;\n",
              "      fill: #1967D2;\n",
              "      height: 32px;\n",
              "      padding: 0 0 0 0;\n",
              "      width: 32px;\n",
              "    }\n",
              "\n",
              "    .colab-df-convert:hover {\n",
              "      background-color: #E2EBFA;\n",
              "      box-shadow: 0px 1px 2px rgba(60, 64, 67, 0.3), 0px 1px 3px 1px rgba(60, 64, 67, 0.15);\n",
              "      fill: #174EA6;\n",
              "    }\n",
              "\n",
              "    [theme=dark] .colab-df-convert {\n",
              "      background-color: #3B4455;\n",
              "      fill: #D2E3FC;\n",
              "    }\n",
              "\n",
              "    [theme=dark] .colab-df-convert:hover {\n",
              "      background-color: #434B5C;\n",
              "      box-shadow: 0px 1px 3px 1px rgba(0, 0, 0, 0.15);\n",
              "      filter: drop-shadow(0px 1px 2px rgba(0, 0, 0, 0.3));\n",
              "      fill: #FFFFFF;\n",
              "    }\n",
              "  </style>\n",
              "\n",
              "      <script>\n",
              "        const buttonEl =\n",
              "          document.querySelector('#df-5b9183cc-a03f-41b7-bc97-ee3d953b36a6 button.colab-df-convert');\n",
              "        buttonEl.style.display =\n",
              "          google.colab.kernel.accessAllowed ? 'block' : 'none';\n",
              "\n",
              "        async function convertToInteractive(key) {\n",
              "          const element = document.querySelector('#df-5b9183cc-a03f-41b7-bc97-ee3d953b36a6');\n",
              "          const dataTable =\n",
              "            await google.colab.kernel.invokeFunction('convertToInteractive',\n",
              "                                                     [key], {});\n",
              "          if (!dataTable) return;\n",
              "\n",
              "          const docLinkHtml = 'Like what you see? Visit the ' +\n",
              "            '<a target=\"_blank\" href=https://colab.research.google.com/notebooks/data_table.ipynb>data table notebook</a>'\n",
              "            + ' to learn more about interactive tables.';\n",
              "          element.innerHTML = '';\n",
              "          dataTable['output_type'] = 'display_data';\n",
              "          await google.colab.output.renderOutput(dataTable, element);\n",
              "          const docLink = document.createElement('div');\n",
              "          docLink.innerHTML = docLinkHtml;\n",
              "          element.appendChild(docLink);\n",
              "        }\n",
              "      </script>\n",
              "    </div>\n",
              "  </div>\n",
              "  "
            ]
          },
          "metadata": {},
          "execution_count": 18
        }
      ]
    },
    {
      "cell_type": "markdown",
      "metadata": {
        "id": "NjFfZJM-bf85"
      },
      "source": [
        "<a id=\"pca\"> </a>\n",
        "## 2. Principal Component Analysis (PCA)"
      ]
    },
    {
      "cell_type": "markdown",
      "metadata": {
        "collapsed": true,
        "id": "JcUi2gpdbf85"
      },
      "source": [
        "<table align=\"left\">\n",
        "    <tr>\n",
        "        <td width=\"6%\">\n",
        "            <img src=\"question_icon.png\">\n",
        "        </td>\n",
        "        <td>\n",
        "            <div align=\"left\", style=\"font-size:120%\">\n",
        "                <font color=\"#21618C\">\n",
        "                    <b>7. Find the covariance matrix of the standardized data.</b>\n",
        "                </font>\n",
        "            </div>\n",
        "        </td>\n",
        "    </tr>\n",
        "</table>"
      ]
    },
    {
      "cell_type": "code",
      "execution_count": 19,
      "metadata": {
        "id": "kfvWAsb1bf85"
      },
      "outputs": [],
      "source": [
        "# write your code here\n",
        "cov_matrix = np.cov(df_scaled_rain.T)"
      ]
    },
    {
      "cell_type": "code",
      "source": [
        "cov_matrix[0:5]"
      ],
      "metadata": {
        "colab": {
          "base_uri": "https://localhost:8080/"
        },
        "id": "p5O_QCCWKiJg",
        "outputId": "b519ee2e-fb21-484d-d539-934d8ab51b60"
      },
      "execution_count": 20,
      "outputs": [
        {
          "output_type": "execute_result",
          "data": {
            "text/plain": [
              "array([[ 1.00009557,  0.62986804,  0.2774717 ,  0.19188583,  0.10114221,\n",
              "        -0.25035675, -0.05795163, -0.3635111 , -0.34036162,  0.71612149,\n",
              "         0.54811355],\n",
              "       [ 0.62986804,  1.00009557,  0.23626203, -0.01431146,  0.07161277,\n",
              "        -0.50728072, -0.55772371, -0.24497184, -0.29854472,  0.76966307,\n",
              "         0.8658169 ],\n",
              "       [ 0.2774717 ,  0.23626203,  1.00009557,  0.42037333,  0.57176138,\n",
              "        -0.27611053, -0.11724591, -0.47841125, -0.47563157,  0.27207988,\n",
              "         0.17209019],\n",
              "       [ 0.19188583, -0.01431146,  0.42037333,  1.00009557,  0.33458778,\n",
              "        -0.31749763, -0.00663469, -0.25165481, -0.18433562,  0.14168084,\n",
              "        -0.0391036 ],\n",
              "       [ 0.10114221,  0.07161277,  0.57176138,  0.33458778,  1.00009557,\n",
              "        -0.19684857, -0.15049059, -0.33940416, -0.30875067,  0.10542863,\n",
              "         0.04909065]])"
            ]
          },
          "metadata": {},
          "execution_count": 20
        }
      ]
    },
    {
      "cell_type": "code",
      "source": [
        "cov_matrix.shape"
      ],
      "metadata": {
        "colab": {
          "base_uri": "https://localhost:8080/"
        },
        "id": "Q0MH33hgK_pc",
        "outputId": "d7738084-0424-43a2-a081-795d9d8d6a4a"
      },
      "execution_count": 21,
      "outputs": [
        {
          "output_type": "execute_result",
          "data": {
            "text/plain": [
              "(11, 11)"
            ]
          },
          "metadata": {},
          "execution_count": 21
        }
      ]
    },
    {
      "cell_type": "markdown",
      "metadata": {
        "collapsed": true,
        "id": "JmhKRmKubf85"
      },
      "source": [
        "<table align=\"left\">\n",
        "    <tr>\n",
        "        <td width=\"6%\">\n",
        "            <img src=\"question_icon.png\">\n",
        "        </td>\n",
        "        <td>\n",
        "            <div align=\"left\", style=\"font-size:120%\">\n",
        "                <font color=\"#21618C\">\n",
        "                    <b>8. Compute the eigenvalues and eigenvectors of the above covariance matrix.</b>\n",
        "                </font>\n",
        "            </div>\n",
        "        </td>\n",
        "    </tr>\n",
        "</table>"
      ]
    },
    {
      "cell_type": "code",
      "execution_count": 22,
      "metadata": {
        "id": "ZX8sUMiZbf85"
      },
      "outputs": [],
      "source": [
        "# write your code here\n",
        "eigenvalue, eigenvector = np.linalg.eig(cov_matrix)\n",
        "\n"
      ]
    },
    {
      "cell_type": "code",
      "source": [
        "print(eigenvalue)"
      ],
      "metadata": {
        "colab": {
          "base_uri": "https://localhost:8080/"
        },
        "id": "avKoWIJNMDpk",
        "outputId": "7cfd654b-c5d3-4e22-e26c-377f5d73189d"
      },
      "execution_count": 23,
      "outputs": [
        {
          "output_type": "stream",
          "name": "stdout",
          "text": [
            "[4.37827342 2.20537611 1.4028951  0.93909121 0.69185977 0.38762838\n",
            " 0.34242384 0.24329175 0.11262274 0.13748201 0.160107  ]\n"
          ]
        }
      ]
    },
    {
      "cell_type": "code",
      "source": [
        "print(eigenvector)"
      ],
      "metadata": {
        "colab": {
          "base_uri": "https://localhost:8080/"
        },
        "id": "AkmnQBwGMWeT",
        "outputId": "8f91858a-f469-477d-e83d-7338e1e2c221"
      },
      "execution_count": 24,
      "outputs": [
        {
          "output_type": "stream",
          "name": "stdout",
          "text": [
            "[[ 0.33781785  0.03549082  0.35858565 -0.42444298  0.13644818  0.14320347\n",
            "  -0.03924682  0.7102148   0.1131725  -0.11587593 -0.06766114]\n",
            " [ 0.40087506  0.28485778  0.10425574  0.03376955  0.1189962  -0.08118397\n",
            "   0.15405941 -0.11028839 -0.82752819 -0.0604924   0.03216514]\n",
            " [ 0.26666777 -0.38120744 -0.1908883  -0.02705605  0.31592881 -0.78707893\n",
            "  -0.12571969  0.05588588  0.05942134  0.04255307 -0.05314346]\n",
            " [ 0.14561644 -0.32320401 -0.33544556 -0.59156622 -0.38842204  0.06004674\n",
            "   0.47855507 -0.14902074 -0.05799504 -0.04274979 -0.03114975]\n",
            " [ 0.17812567 -0.3671682  -0.34917199  0.09189247  0.61597616  0.55598391\n",
            "  -0.01913024 -0.05338958 -0.03795733 -0.01323056  0.09857223]\n",
            " [-0.3093895  -0.14948994  0.44585592  0.03061406  0.38031984 -0.06731708\n",
            "   0.58995926 -0.13531557  0.03534899 -0.07698165 -0.39936631]\n",
            " [-0.24976325 -0.30898812  0.45624609 -0.36844966  0.09207514 -0.01787154\n",
            "  -0.23378475 -0.23506779 -0.17196895  0.16355004  0.56850478]\n",
            " [-0.27406409  0.40143674 -0.25274467 -0.30171211  0.3001498  -0.14722646\n",
            "   0.01395408 -0.06669288  0.08751121 -0.65207056  0.24405929]\n",
            " [-0.28205479  0.36137641 -0.26688296 -0.38869691  0.27424017 -0.02518643\n",
            "  -0.05866258  0.06810348 -0.09611842  0.65166705 -0.22295802]\n",
            " [ 0.38706309  0.15069408  0.20620235 -0.26766507  0.06056677  0.09685816\n",
            "  -0.35164425 -0.59654261  0.25826243 -0.07595066 -0.38506476]\n",
            " [ 0.37221806  0.31737997  0.07134515  0.09554306  0.12257873 -0.06436221\n",
            "   0.44670135 -0.12936102  0.42383332  0.30131517  0.49054575]]\n"
          ]
        }
      ]
    },
    {
      "cell_type": "markdown",
      "metadata": {
        "collapsed": true,
        "id": "jvVlDsk5bf86"
      },
      "source": [
        "<table align=\"left\">\n",
        "    <tr>\n",
        "        <td width=\"6%\">\n",
        "            <img src=\"question_icon.png\">\n",
        "        </td>\n",
        "        <td>\n",
        "            <div align=\"left\", style=\"font-size:120%\">\n",
        "                <font color=\"#21618C\">\n",
        "                    <b>9. Use the Kaiser criterion to identify the optimal number of principal components.</b>\n",
        "                </font>\n",
        "            </div>\n",
        "        </td>\n",
        "    </tr>\n",
        "</table>"
      ]
    },
    {
      "cell_type": "code",
      "execution_count": 30,
      "metadata": {
        "id": "xJY1nOQxbf86"
      },
      "outputs": [],
      "source": [
        "# write your code here\n",
        "list_eigenvalues = eigenvalue.tolist()\n",
        "list_eigenvalues.sort(reverse =True)"
      ]
    },
    {
      "cell_type": "code",
      "source": [
        "print(list_eigenvalues)"
      ],
      "metadata": {
        "colab": {
          "base_uri": "https://localhost:8080/"
        },
        "id": "BJxTPOIzQuN-",
        "outputId": "f593c5e3-be40-4d4b-d750-9eb785d47486"
      },
      "execution_count": 31,
      "outputs": [
        {
          "output_type": "stream",
          "name": "stdout",
          "text": [
            "[4.378273424761767, 2.2053761142853303, 1.402895095728115, 0.9390912080234725, 0.691859773871442, 0.38762837994450405, 0.34242383692492634, 0.24329174527626726, 0.16010699746005705, 0.1374820058100321, 0.11262274162621093]\n"
          ]
        }
      ]
    },
    {
      "cell_type": "markdown",
      "metadata": {
        "collapsed": true,
        "id": "_2JI-RsIbf86"
      },
      "source": [
        "<table align=\"left\">\n",
        "    <tr>\n",
        "        <td width=\"6%\">\n",
        "            <img src=\"question_icon.png\">\n",
        "        </td>\n",
        "        <td>\n",
        "            <div align=\"left\", style=\"font-size:120%\">\n",
        "                <font color=\"#21618C\">\n",
        "                    <b>10. How many minimum principal components are required to explain at least 80% of the variation in the data?</b>\n",
        "                </font>\n",
        "            </div>\n",
        "        </td>\n",
        "    </tr>\n",
        "</table>"
      ]
    },
    {
      "cell_type": "code",
      "execution_count": 32,
      "metadata": {
        "id": "-RKlZ1fBbf86",
        "colab": {
          "base_uri": "https://localhost:8080/"
        },
        "outputId": "cd875a67-8da3-46e2-8e6f-e6f30b01db57"
      },
      "outputs": [
        {
          "output_type": "execute_result",
          "data": {
            "text/plain": [
              "[39.798681925287035,\n",
              " 20.046957780587483,\n",
              " 12.752372972792669,\n",
              " 8.53637693698707,\n",
              " 6.2890332343071496,\n",
              " 3.5235575995268174,\n",
              " 3.1126464812217693,\n",
              " 2.211531771984975,\n",
              " 1.4553790610444273,\n",
              " 1.2497169749012775,\n",
              " 1.0237452613593319]"
            ]
          },
          "metadata": {},
          "execution_count": 32
        }
      ],
      "source": [
        "# write your code here\n",
        "per_var = []\n",
        "for i in list_eigenvalues:\n",
        "  variation = i/sum(list_eigenvalues)*100\n",
        "  per_var.append(variation)\n",
        "\n",
        "per_var\n"
      ]
    },
    {
      "cell_type": "markdown",
      "source": [
        "First 4 principal components are explaining 81.11 % variation "
      ],
      "metadata": {
        "id": "v-xPnyQESNbG"
      }
    },
    {
      "cell_type": "markdown",
      "metadata": {
        "collapsed": true,
        "id": "iSm0tA0cbf86"
      },
      "source": [
        "<table align=\"left\">\n",
        "    <tr>\n",
        "        <td width=\"6%\">\n",
        "            <img src=\"question_icon.png\">\n",
        "        </td>\n",
        "        <td>\n",
        "            <div align=\"left\", style=\"font-size:120%\">\n",
        "                <font color=\"#21618C\">\n",
        "                    <b>11. Create a dataframe of the transformed data with 4 principal components.</b>\n",
        "                </font>\n",
        "            </div>\n",
        "        </td>\n",
        "    </tr>\n",
        "</table>"
      ]
    },
    {
      "cell_type": "code",
      "execution_count": 33,
      "metadata": {
        "id": "bL9Cixk5bf86"
      },
      "outputs": [],
      "source": [
        "# write your code here\n",
        "eig_vec_4 = eigenvector[:,0:4]\n",
        "new_data = np.dot(df_scaled_rain, eig_vec_4)\n",
        "df_pca =  pd.DataFrame(new_data, columns =['PC1','PC2','PC3','PC4'])"
      ]
    },
    {
      "cell_type": "code",
      "source": [
        "df_pca.head()"
      ],
      "metadata": {
        "colab": {
          "base_uri": "https://localhost:8080/",
          "height": 206
        },
        "id": "sAuun6MVTM0L",
        "outputId": "d76ef6e2-a468-4365-beee-beb2e6f456b8"
      },
      "execution_count": 34,
      "outputs": [
        {
          "output_type": "execute_result",
          "data": {
            "text/plain": [
              "        PC1       PC2       PC3       PC4\n",
              "0 -1.193577  0.344281  1.318532  1.383219\n",
              "1 -0.417268  2.300435 -1.143463 -0.313206\n",
              "2 -1.374390  0.522208  0.229444 -0.056650\n",
              "3 -0.166105 -1.620767 -0.794714  0.358037\n",
              "4  0.528825  2.208708  1.513146  0.370726"
            ],
            "text/html": [
              "\n",
              "  <div id=\"df-d6111a00-12ab-410c-8bd2-8e7b7a594b97\">\n",
              "    <div class=\"colab-df-container\">\n",
              "      <div>\n",
              "<style scoped>\n",
              "    .dataframe tbody tr th:only-of-type {\n",
              "        vertical-align: middle;\n",
              "    }\n",
              "\n",
              "    .dataframe tbody tr th {\n",
              "        vertical-align: top;\n",
              "    }\n",
              "\n",
              "    .dataframe thead th {\n",
              "        text-align: right;\n",
              "    }\n",
              "</style>\n",
              "<table border=\"1\" class=\"dataframe\">\n",
              "  <thead>\n",
              "    <tr style=\"text-align: right;\">\n",
              "      <th></th>\n",
              "      <th>PC1</th>\n",
              "      <th>PC2</th>\n",
              "      <th>PC3</th>\n",
              "      <th>PC4</th>\n",
              "    </tr>\n",
              "  </thead>\n",
              "  <tbody>\n",
              "    <tr>\n",
              "      <th>0</th>\n",
              "      <td>-1.193577</td>\n",
              "      <td>0.344281</td>\n",
              "      <td>1.318532</td>\n",
              "      <td>1.383219</td>\n",
              "    </tr>\n",
              "    <tr>\n",
              "      <th>1</th>\n",
              "      <td>-0.417268</td>\n",
              "      <td>2.300435</td>\n",
              "      <td>-1.143463</td>\n",
              "      <td>-0.313206</td>\n",
              "    </tr>\n",
              "    <tr>\n",
              "      <th>2</th>\n",
              "      <td>-1.374390</td>\n",
              "      <td>0.522208</td>\n",
              "      <td>0.229444</td>\n",
              "      <td>-0.056650</td>\n",
              "    </tr>\n",
              "    <tr>\n",
              "      <th>3</th>\n",
              "      <td>-0.166105</td>\n",
              "      <td>-1.620767</td>\n",
              "      <td>-0.794714</td>\n",
              "      <td>0.358037</td>\n",
              "    </tr>\n",
              "    <tr>\n",
              "      <th>4</th>\n",
              "      <td>0.528825</td>\n",
              "      <td>2.208708</td>\n",
              "      <td>1.513146</td>\n",
              "      <td>0.370726</td>\n",
              "    </tr>\n",
              "  </tbody>\n",
              "</table>\n",
              "</div>\n",
              "      <button class=\"colab-df-convert\" onclick=\"convertToInteractive('df-d6111a00-12ab-410c-8bd2-8e7b7a594b97')\"\n",
              "              title=\"Convert this dataframe to an interactive table.\"\n",
              "              style=\"display:none;\">\n",
              "        \n",
              "  <svg xmlns=\"http://www.w3.org/2000/svg\" height=\"24px\"viewBox=\"0 0 24 24\"\n",
              "       width=\"24px\">\n",
              "    <path d=\"M0 0h24v24H0V0z\" fill=\"none\"/>\n",
              "    <path d=\"M18.56 5.44l.94 2.06.94-2.06 2.06-.94-2.06-.94-.94-2.06-.94 2.06-2.06.94zm-11 1L8.5 8.5l.94-2.06 2.06-.94-2.06-.94L8.5 2.5l-.94 2.06-2.06.94zm10 10l.94 2.06.94-2.06 2.06-.94-2.06-.94-.94-2.06-.94 2.06-2.06.94z\"/><path d=\"M17.41 7.96l-1.37-1.37c-.4-.4-.92-.59-1.43-.59-.52 0-1.04.2-1.43.59L10.3 9.45l-7.72 7.72c-.78.78-.78 2.05 0 2.83L4 21.41c.39.39.9.59 1.41.59.51 0 1.02-.2 1.41-.59l7.78-7.78 2.81-2.81c.8-.78.8-2.07 0-2.86zM5.41 20L4 18.59l7.72-7.72 1.47 1.35L5.41 20z\"/>\n",
              "  </svg>\n",
              "      </button>\n",
              "      \n",
              "  <style>\n",
              "    .colab-df-container {\n",
              "      display:flex;\n",
              "      flex-wrap:wrap;\n",
              "      gap: 12px;\n",
              "    }\n",
              "\n",
              "    .colab-df-convert {\n",
              "      background-color: #E8F0FE;\n",
              "      border: none;\n",
              "      border-radius: 50%;\n",
              "      cursor: pointer;\n",
              "      display: none;\n",
              "      fill: #1967D2;\n",
              "      height: 32px;\n",
              "      padding: 0 0 0 0;\n",
              "      width: 32px;\n",
              "    }\n",
              "\n",
              "    .colab-df-convert:hover {\n",
              "      background-color: #E2EBFA;\n",
              "      box-shadow: 0px 1px 2px rgba(60, 64, 67, 0.3), 0px 1px 3px 1px rgba(60, 64, 67, 0.15);\n",
              "      fill: #174EA6;\n",
              "    }\n",
              "\n",
              "    [theme=dark] .colab-df-convert {\n",
              "      background-color: #3B4455;\n",
              "      fill: #D2E3FC;\n",
              "    }\n",
              "\n",
              "    [theme=dark] .colab-df-convert:hover {\n",
              "      background-color: #434B5C;\n",
              "      box-shadow: 0px 1px 3px 1px rgba(0, 0, 0, 0.15);\n",
              "      filter: drop-shadow(0px 1px 2px rgba(0, 0, 0, 0.3));\n",
              "      fill: #FFFFFF;\n",
              "    }\n",
              "  </style>\n",
              "\n",
              "      <script>\n",
              "        const buttonEl =\n",
              "          document.querySelector('#df-d6111a00-12ab-410c-8bd2-8e7b7a594b97 button.colab-df-convert');\n",
              "        buttonEl.style.display =\n",
              "          google.colab.kernel.accessAllowed ? 'block' : 'none';\n",
              "\n",
              "        async function convertToInteractive(key) {\n",
              "          const element = document.querySelector('#df-d6111a00-12ab-410c-8bd2-8e7b7a594b97');\n",
              "          const dataTable =\n",
              "            await google.colab.kernel.invokeFunction('convertToInteractive',\n",
              "                                                     [key], {});\n",
              "          if (!dataTable) return;\n",
              "\n",
              "          const docLinkHtml = 'Like what you see? Visit the ' +\n",
              "            '<a target=\"_blank\" href=https://colab.research.google.com/notebooks/data_table.ipynb>data table notebook</a>'\n",
              "            + ' to learn more about interactive tables.';\n",
              "          element.innerHTML = '';\n",
              "          dataTable['output_type'] = 'display_data';\n",
              "          await google.colab.output.renderOutput(dataTable, element);\n",
              "          const docLink = document.createElement('div');\n",
              "          docLink.innerHTML = docLinkHtml;\n",
              "          element.appendChild(docLink);\n",
              "        }\n",
              "      </script>\n",
              "    </div>\n",
              "  </div>\n",
              "  "
            ]
          },
          "metadata": {},
          "execution_count": 34
        }
      ]
    },
    {
      "cell_type": "markdown",
      "metadata": {
        "collapsed": true,
        "id": "_5cOxEnhbf87"
      },
      "source": [
        "<table align=\"left\">\n",
        "    <tr>\n",
        "        <td width=\"6%\">\n",
        "            <img src=\"question_icon.png\">\n",
        "        </td>\n",
        "        <td>\n",
        "            <div align=\"left\", style=\"font-size:120%\">\n",
        "                <font color=\"#21618C\">\n",
        "                    <b>12. Visualize the rain prediction data by transforming it to 2-dimensions using the python library. Also, display the classes of the target variables with different colors.</b>\n",
        "                </font>\n",
        "            </div>\n",
        "        </td>\n",
        "    </tr>\n",
        "</table>"
      ]
    },
    {
      "cell_type": "code",
      "execution_count": 37,
      "metadata": {
        "id": "1vm-YmRQbf87",
        "colab": {
          "base_uri": "https://localhost:8080/",
          "height": 297
        },
        "outputId": "f36b58fb-fe77-4868-f793-9bfe882441ae"
      },
      "outputs": [
        {
          "output_type": "execute_result",
          "data": {
            "text/plain": [
              "<matplotlib.axes._subplots.AxesSubplot at 0x7faa290a7f50>"
            ]
          },
          "metadata": {},
          "execution_count": 37
        },
        {
          "output_type": "display_data",
          "data": {
            "text/plain": [
              "<Figure size 432x288 with 1 Axes>"
            ],
            "image/png": "[encoded data removed]"
          },
          "metadata": {
            "needs_background": "light"
          }
        }
      ],
      "source": [
        "# write your code here\n",
        "sns.scatterplot(x='PC1', y='PC4', data = df_pca, hue = df_rain['WillRainTomorrow?'])\n"
      ]
    },
    {
      "cell_type": "markdown",
      "metadata": {
        "collapsed": true,
        "id": "enkxoBZfbf87"
      },
      "source": [
        "<table align=\"left\">\n",
        "    <tr>\n",
        "        <td width=\"6%\">\n",
        "            <img src=\"question_icon.png\">\n",
        "        </td>\n",
        "        <td>\n",
        "            <div align=\"left\", style=\"font-size:120%\">\n",
        "                <font color=\"#21618C\">\n",
        "                    <b>13. Split the dataset of the 11 standardized features into the train and test sets of proportion 70:30.</b>\n",
        "                </font>\n",
        "            </div>\n",
        "        </td>\n",
        "    </tr>\n",
        "</table>"
      ]
    },
    {
      "cell_type": "code",
      "execution_count": 43,
      "metadata": {
        "id": "X8wFNW7Kbf87"
      },
      "outputs": [],
      "source": [
        "# write your code here\n",
        "y = df_rain['WillRainTomorrow?']\n",
        " "
      ]
    },
    {
      "cell_type": "code",
      "source": [
        "from sklearn.model_selection import train_test_split\n",
        "X_train, X_test, y_train, y_test = train_test_split(df_scaled_rain, y, test_size =0.3)"
      ],
      "metadata": {
        "id": "WYWwg_tYWdzw"
      },
      "execution_count": 45,
      "outputs": []
    },
    {
      "cell_type": "code",
      "source": [
        ""
      ],
      "metadata": {
        "id": "hED3cN9vW2iC"
      },
      "execution_count": null,
      "outputs": []
    },
    {
      "cell_type": "markdown",
      "metadata": {
        "collapsed": true,
        "id": "LFvEMFdzbf87"
      },
      "source": [
        "<table align=\"left\">\n",
        "    <tr>\n",
        "        <td width=\"6%\">\n",
        "            <img src=\"question_icon.png\">\n",
        "        </td>\n",
        "        <td>\n",
        "            <div align=\"left\", style=\"font-size:120%\">\n",
        "                <font color=\"#21618C\">\n",
        "                    <b>14. Reduce the number of features in the train and test sets to 3 using the python library.</b>\n",
        "                </font>\n",
        "            </div>\n",
        "        </td>\n",
        "    </tr>\n",
        "</table>"
      ]
    },
    {
      "cell_type": "code",
      "execution_count": 38,
      "metadata": {
        "id": "TcWOcwgCbf87"
      },
      "outputs": [],
      "source": [
        "# write your code here\n",
        "pca = PCA(n_components = 3, random_state = 10)"
      ]
    },
    {
      "cell_type": "code",
      "source": [
        "pca_train = pca.fit_transform(X_train)\n",
        "pca_test = pca.transform(X_test)"
      ],
      "metadata": {
        "id": "VeZbHg3OVhJH"
      },
      "execution_count": 46,
      "outputs": []
    },
    {
      "cell_type": "code",
      "source": [
        ""
      ],
      "metadata": {
        "colab": {
          "base_uri": "https://localhost:8080/"
        },
        "id": "lG3O2aSaVw_2",
        "outputId": "9949d617-362d-4e65-dc75-1d382b039354"
      },
      "execution_count": 42,
      "outputs": [
        {
          "output_type": "execute_result",
          "data": {
            "text/plain": [
              "(10464, 3)"
            ]
          },
          "metadata": {},
          "execution_count": 42
        }
      ]
    },
    {
      "cell_type": "markdown",
      "metadata": {
        "collapsed": true,
        "id": "m0fBMSo5bf87"
      },
      "source": [
        "<table align=\"left\">\n",
        "    <tr>\n",
        "        <td width=\"6%\">\n",
        "            <img src=\"question_icon.png\">\n",
        "        </td>\n",
        "        <td>\n",
        "            <div align=\"left\", style=\"font-size:120%\">\n",
        "                <font color=\"#21618C\">\n",
        "                    <b>15. Write a generalized function that builds the random forest classification algorithm and returns the accuracy of the algorithm on the test set.</b>\n",
        "                </font>\n",
        "            </div>\n",
        "        </td>\n",
        "    </tr>\n",
        "</table>"
      ]
    },
    {
      "cell_type": "code",
      "execution_count": 47,
      "metadata": {
        "id": "DTiF9OfLbf87"
      },
      "outputs": [],
      "source": [
        "# write your code here\n",
        "def randomforest_model(X_train, X_test, y_train, y_test):\n",
        "  rf_clf = RandomForestClassifier()\n",
        "  rf_clf.fit(X_train, y_train)\n",
        "  y_pred = rf_clf.predict(X_test)\n",
        "  test_acc = accuracy_score(y_test, y_pred)\n",
        "  print(test_acc)\n"
      ]
    },
    {
      "cell_type": "markdown",
      "metadata": {
        "collapsed": true,
        "id": "Vvj1tGdbbf88"
      },
      "source": [
        "<table align=\"left\">\n",
        "    <tr>\n",
        "        <td width=\"6%\">\n",
        "            <img src=\"question_icon.png\">\n",
        "        </td>\n",
        "        <td>\n",
        "            <div align=\"left\", style=\"font-size:120%\">\n",
        "                <font color=\"#21618C\">\n",
        "                    <b>16. Build a random forest model on the original data (without PCA transformation) and find the accuracy of the model on the test data. Also, calculate the time required to execute the code.</b>\n",
        "                </font>\n",
        "            </div>\n",
        "        </td>\n",
        "    </tr>\n",
        "</table>"
      ]
    },
    {
      "cell_type": "code",
      "execution_count": 50,
      "metadata": {
        "id": "p7hTXjanbf88",
        "colab": {
          "base_uri": "https://localhost:8080/"
        },
        "outputId": "afbfa709-16d7-4d64-9ee9-19b15c40309f"
      },
      "outputs": [
        {
          "output_type": "stream",
          "name": "stdout",
          "text": [
            "0.9528662420382166\n",
            "CPU times: user 1.96 s, sys: 3.45 ms, total: 1.96 s\n",
            "Wall time: 2.54 s\n"
          ]
        }
      ],
      "source": [
        "# write your code here\n",
        "%%time\n",
        "randomforest_model(X_train, X_test, y_train, y_test)"
      ]
    },
    {
      "cell_type": "markdown",
      "metadata": {
        "collapsed": true,
        "id": "vXSbtXxwbf88"
      },
      "source": [
        "<table align=\"left\">\n",
        "    <tr>\n",
        "        <td width=\"6%\">\n",
        "            <img src=\"question_icon.png\">\n",
        "        </td>\n",
        "        <td>\n",
        "            <div align=\"left\", style=\"font-size:120%\">\n",
        "                <font color=\"#21618C\">\n",
        "                    <b>17. Build a random forest model on the dataset transformed using PCA and find the accuracy of the model on the test data. Also, calculate the time required to execute the code.</b>\n",
        "                </font>\n",
        "            </div>\n",
        "        </td>\n",
        "    </tr>\n",
        "</table>"
      ]
    },
    {
      "cell_type": "code",
      "execution_count": 51,
      "metadata": {
        "id": "tTFv6BgZbf88",
        "colab": {
          "base_uri": "https://localhost:8080/"
        },
        "outputId": "3eb5444b-298e-48d4-9eff-f91935cbe9b8"
      },
      "outputs": [
        {
          "output_type": "stream",
          "name": "stdout",
          "text": [
            "0.9235668789808917\n",
            "CPU times: user 1.48 s, sys: 3.64 ms, total: 1.49 s\n",
            "Wall time: 2.16 s\n"
          ]
        }
      ],
      "source": [
        "# write your code here\n",
        "%%time\n",
        "randomforest_model(pca_train, pca_test, y_train, y_test)"
      ]
    }
  ],
  "metadata": {
    "kernelspec": {
      "display_name": "Python 3 (ipykernel)",
      "language": "python",
      "name": "python3"
    },
    "language_info": {
      "codemirror_mode": {
        "name": "ipython",
        "version": 3
      },
      "file_extension": ".py",
      "mimetype": "text/x-python",
      "name": "python",
      "nbconvert_exporter": "python",
      "pygments_lexer": "ipython3",
      "version": "3.9.12"
    },
    "colab": {
      "name": "USL - In-Class Lab Exercise (Week-2-Part-2) - Questions .ipynb",
      "provenance": [],
      "collapsed_sections": []
    }
  },
  "nbformat": 4,
  "nbformat_minor": 0
}