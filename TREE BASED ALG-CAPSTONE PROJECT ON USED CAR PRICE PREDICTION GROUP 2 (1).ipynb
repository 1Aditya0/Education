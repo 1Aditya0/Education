{
 "cells": [
  {
   "cell_type": "markdown",
   "id": "82a5bca3",
   "metadata": {},
   "source": [
    "# TREE BASED ALG-CAPSTONE PROJECT ON \"USED CAR PRICE PREDICTION\" - GROUP 2"
   ]
  },
  {
   "cell_type": "code",
   "execution_count": 2,
   "id": "9da918c7",
   "metadata": {},
   "outputs": [],
   "source": [
    "#import required libraries\n",
    "    \n",
    "import numpy as np\n",
    "import pandas as pd\n",
    "import seaborn as sns\n",
    "import matplotlib.pyplot as plt\n",
    "import warnings\n",
    "\n",
    "warnings.filterwarnings('ignore')"
   ]
  },
  {
   "cell_type": "code",
   "execution_count": null,
   "id": "07e2de5d",
   "metadata": {},
   "outputs": [
    {
     "name": "stdout",
     "output_type": "stream",
     "text": [
      "Collecting streamlit\n",
      "  Downloading streamlit-1.12.2-py2.py3-none-any.whl (9.1 MB)\n",
      "\u001b[2K     \u001b[90m━━━━━━━━━━━━━━━━━━━━━━━━━━━━━━━━━━━━━━━━\u001b[0m \u001b[32m9.1/9.1 MB\u001b[0m \u001b[31m5.5 MB/s\u001b[0m eta \u001b[36m0:00:00\u001b[0m00:01\u001b[0m00:01\u001b[0m\n",
      "\u001b[?25hRequirement already satisfied: importlib-metadata>=1.4 in /Users/adityajadon/opt/anaconda3/lib/python3.8/site-packages (from streamlit) (4.12.0)\n",
      "Requirement already satisfied: pandas>=0.21.0 in /Users/adityajadon/opt/anaconda3/lib/python3.8/site-packages (from streamlit) (1.2.4)\n",
      "Collecting pyarrow>=4.0\n",
      "  Downloading pyarrow-9.0.0-cp38-cp38-macosx_10_13_x86_64.whl (24.0 MB)\n",
      "\u001b[2K     \u001b[90m━━━━━━━━━━━━━━━━━━━━━━━━━━━━━━━━━━━━━━━━\u001b[0m \u001b[32m24.0/24.0 MB\u001b[0m \u001b[31m4.3 MB/s\u001b[0m eta \u001b[36m0:00:00\u001b[0m00:01\u001b[0m00:01\u001b[0m\n",
      "\u001b[?25hCollecting typing-extensions>=3.10.0.0\n",
      "  Downloading typing_extensions-4.3.0-py3-none-any.whl (25 kB)\n",
      "Requirement already satisfied: packaging>=14.1 in /Users/adityajadon/opt/anaconda3/lib/python3.8/site-packages (from streamlit) (20.9)\n",
      "Requirement already satisfied: click>=7.0 in /Users/adityajadon/opt/anaconda3/lib/python3.8/site-packages (from streamlit) (7.1.2)\n",
      "Requirement already satisfied: requests>=2.4 in /Users/adityajadon/opt/anaconda3/lib/python3.8/site-packages (from streamlit) (2.25.1)\n",
      "Collecting gitpython!=3.1.19\n",
      "  Downloading GitPython-3.1.27-py3-none-any.whl (181 kB)\n",
      "\u001b[2K     \u001b[90m━━━━━━━━━━━━━━━━━━━━━━━━━━━━━━━━━━━━━━━\u001b[0m \u001b[32m181.2/181.2 kB\u001b[0m \u001b[31m2.8 MB/s\u001b[0m eta \u001b[36m0:00:00\u001b[0ma \u001b[36m0:00:01\u001b[0m\n",
      "\u001b[?25hCollecting pympler>=0.9\n",
      "  Downloading Pympler-1.0.1-py3-none-any.whl (164 kB)\n",
      "\u001b[2K     \u001b[90m━━━━━━━━━━━━━━━━━━━━━━━━━━━━━━━━━━━━━━━\u001b[0m \u001b[32m164.8/164.8 kB\u001b[0m \u001b[31m3.0 MB/s\u001b[0m eta \u001b[36m0:00:00\u001b[0m00:01\u001b[0m\n",
      "\u001b[?25hCollecting validators>=0.2\n",
      "  Downloading validators-0.20.0.tar.gz (30 kB)\n",
      "  Preparing metadata (setup.py) ... \u001b[?25ldone\n",
      "\u001b[?25hRequirement already satisfied: tornado>=5.0 in /Users/adityajadon/opt/anaconda3/lib/python3.8/site-packages (from streamlit) (6.1)\n",
      "Collecting pydeck>=0.1.dev5\n",
      "  Downloading pydeck-0.8.0b1-py2.py3-none-any.whl (4.7 MB)\n",
      "\u001b[2K     \u001b[90m━━━━━━━━━━━━━━━━━━━━━━━━━━━━━━━━━━━━━━━━\u001b[0m \u001b[32m4.7/4.7 MB\u001b[0m \u001b[31m4.2 MB/s\u001b[0m eta \u001b[36m0:00:00\u001b[0m00:01\u001b[0m00:01\u001b[0m\n",
      "\u001b[?25hCollecting altair>=3.2.0\n",
      "  Downloading altair-4.2.0-py3-none-any.whl (812 kB)\n",
      "\u001b[2K     \u001b[90m━━━━━━━━━━━━━━━━━━━━━━━━━━━━━━━━━━━━━━━\u001b[0m \u001b[32m812.8/812.8 kB\u001b[0m \u001b[31m4.0 MB/s\u001b[0m eta \u001b[36m0:00:00\u001b[0m00:01\u001b[0m00:01\u001b[0m\n",
      "\u001b[?25hRequirement already satisfied: python-dateutil in /Users/adityajadon/opt/anaconda3/lib/python3.8/site-packages (from streamlit) (2.8.1)\n",
      "Collecting blinker>=1.0.0\n",
      "  Downloading blinker-1.5-py2.py3-none-any.whl (12 kB)\n",
      "Collecting semver\n",
      "  Downloading semver-2.13.0-py2.py3-none-any.whl (12 kB)\n",
      "Requirement already satisfied: pillow>=6.2.0 in /Users/adityajadon/opt/anaconda3/lib/python3.8/site-packages (from streamlit) (8.2.0)\n",
      "Requirement already satisfied: toml in /Users/adityajadon/opt/anaconda3/lib/python3.8/site-packages (from streamlit) (0.10.2)\n",
      "Collecting rich>=10.11.0\n",
      "  Downloading rich-12.5.1-py3-none-any.whl (235 kB)\n",
      "\u001b[2K     \u001b[90m━━━━━━━━━━━━━━━━━━━━━━━━━━━━━━━━━━━━━━━\u001b[0m \u001b[32m235.6/235.6 kB\u001b[0m \u001b[31m3.5 MB/s\u001b[0m eta \u001b[36m0:00:00\u001b[0ma \u001b[36m0:00:01\u001b[0m\n",
      "\u001b[?25hRequirement already satisfied: cachetools>=4.0 in /Users/adityajadon/opt/anaconda3/lib/python3.8/site-packages (from streamlit) (5.2.0)\n",
      "Collecting tzlocal>=1.1\n",
      "  Downloading tzlocal-4.2-py3-none-any.whl (19 kB)\n",
      "Requirement already satisfied: numpy in /Users/adityajadon/opt/anaconda3/lib/python3.8/site-packages (from streamlit) (1.20.1)\n",
      "Requirement already satisfied: protobuf<4,>=3.12 in /Users/adityajadon/opt/anaconda3/lib/python3.8/site-packages (from streamlit) (3.19.4)\n",
      "Requirement already satisfied: jinja2 in /Users/adityajadon/opt/anaconda3/lib/python3.8/site-packages (from altair>=3.2.0->streamlit) (2.11.3)\n",
      "Requirement already satisfied: toolz in /Users/adityajadon/opt/anaconda3/lib/python3.8/site-packages (from altair>=3.2.0->streamlit) (0.11.1)\n",
      "Requirement already satisfied: jsonschema>=3.0 in /Users/adityajadon/opt/anaconda3/lib/python3.8/site-packages (from altair>=3.2.0->streamlit) (3.2.0)\n",
      "Requirement already satisfied: entrypoints in /Users/adityajadon/opt/anaconda3/lib/python3.8/site-packages (from altair>=3.2.0->streamlit) (0.3)\n",
      "Collecting gitdb<5,>=4.0.1\n",
      "  Downloading gitdb-4.0.9-py3-none-any.whl (63 kB)\n",
      "\u001b[2K     \u001b[90m━━━━━━━━━━━━━━━━━━━━━━━━━━━━━━━━━━━━━━━━\u001b[0m \u001b[32m63.1/63.1 kB\u001b[0m \u001b[31m1.7 MB/s\u001b[0m eta \u001b[36m0:00:00\u001b[0m\n",
      "\u001b[?25hRequirement already satisfied: zipp>=0.5 in /Users/adityajadon/opt/anaconda3/lib/python3.8/site-packages (from importlib-metadata>=1.4->streamlit) (3.4.1)\n",
      "Requirement already satisfied: pyparsing>=2.0.2 in /Users/adityajadon/opt/anaconda3/lib/python3.8/site-packages (from packaging>=14.1->streamlit) (2.4.7)\n",
      "Requirement already satisfied: pytz>=2017.3 in /Users/adityajadon/opt/anaconda3/lib/python3.8/site-packages (from pandas>=0.21.0->streamlit) (2021.1)\n",
      "Requirement already satisfied: six>=1.5 in /Users/adityajadon/opt/anaconda3/lib/python3.8/site-packages (from python-dateutil->streamlit) (1.15.0)\n",
      "Requirement already satisfied: chardet<5,>=3.0.2 in /Users/adityajadon/opt/anaconda3/lib/python3.8/site-packages (from requests>=2.4->streamlit) (4.0.0)\n",
      "Requirement already satisfied: certifi>=2017.4.17 in /Users/adityajadon/opt/anaconda3/lib/python3.8/site-packages (from requests>=2.4->streamlit) (2020.12.5)\n",
      "Requirement already satisfied: urllib3<1.27,>=1.21.1 in /Users/adityajadon/opt/anaconda3/lib/python3.8/site-packages (from requests>=2.4->streamlit) (1.26.4)\n",
      "Requirement already satisfied: idna<3,>=2.5 in /Users/adityajadon/opt/anaconda3/lib/python3.8/site-packages (from requests>=2.4->streamlit) (2.10)\n",
      "Collecting commonmark<0.10.0,>=0.9.0\n",
      "  Downloading commonmark-0.9.1-py2.py3-none-any.whl (51 kB)\n",
      "\u001b[2K     \u001b[90m━━━━━━━━━━━━━━━━━━━━━━━━━━━━━━━━━━━━━━━━\u001b[0m \u001b[32m51.1/51.1 kB\u001b[0m \u001b[31m1.5 MB/s\u001b[0m eta \u001b[36m0:00:00\u001b[0m\n",
      "\u001b[?25hRequirement already satisfied: pygments<3.0.0,>=2.6.0 in /Users/adityajadon/opt/anaconda3/lib/python3.8/site-packages (from rich>=10.11.0->streamlit) (2.8.1)\n",
      "Collecting pytz-deprecation-shim\n",
      "  Downloading pytz_deprecation_shim-0.1.0.post0-py2.py3-none-any.whl (15 kB)\n",
      "Collecting backports.zoneinfo\n",
      "  Downloading backports.zoneinfo-0.2.1-cp38-cp38-macosx_10_14_x86_64.whl (35 kB)\n",
      "Requirement already satisfied: decorator>=3.4.0 in /Users/adityajadon/opt/anaconda3/lib/python3.8/site-packages (from validators>=0.2->streamlit) (5.0.6)\n",
      "Collecting smmap<6,>=3.0.1\n",
      "  Downloading smmap-5.0.0-py3-none-any.whl (24 kB)\n",
      "Requirement already satisfied: MarkupSafe>=0.23 in /Users/adityajadon/opt/anaconda3/lib/python3.8/site-packages (from jinja2->altair>=3.2.0->streamlit) (1.1.1)\n",
      "Requirement already satisfied: setuptools in /Users/adityajadon/opt/anaconda3/lib/python3.8/site-packages (from jsonschema>=3.0->altair>=3.2.0->streamlit) (52.0.0.post20210125)\n",
      "Requirement already satisfied: pyrsistent>=0.14.0 in /Users/adityajadon/opt/anaconda3/lib/python3.8/site-packages (from jsonschema>=3.0->altair>=3.2.0->streamlit) (0.17.3)\n",
      "Requirement already satisfied: attrs>=17.4.0 in /Users/adityajadon/opt/anaconda3/lib/python3.8/site-packages (from jsonschema>=3.0->altair>=3.2.0->streamlit) (20.3.0)\n",
      "Collecting tzdata\n",
      "  Downloading tzdata-2022.2-py2.py3-none-any.whl (336 kB)\n",
      "\u001b[2K     \u001b[90m━━━━━━━━━━━━━━━━━━━━━━━━━━━━━━━━━━━━━━━\u001b[0m \u001b[32m336.4/336.4 kB\u001b[0m \u001b[31m3.5 MB/s\u001b[0m eta \u001b[36m0:00:00\u001b[0ma \u001b[36m0:00:01\u001b[0m\n",
      "\u001b[?25hBuilding wheels for collected packages: validators\n",
      "  Building wheel for validators (setup.py) ... \u001b[?25ldone\n",
      "\u001b[?25h  Created wheel for validators: filename=validators-0.20.0-py3-none-any.whl size=19567 sha256=17655efef30cc9ef0cccee04bb7cecd9b867523ad71e5d246e236dd86d9087bc\n",
      "  Stored in directory: /Users/adityajadon/Library/Caches/pip/wheels/19/09/72/3eb74d236bb48bd0f3c6c3c83e4e0c5bbfcbcad7c6c3539db8\n",
      "Successfully built validators\n",
      "Installing collected packages: commonmark, validators, tzdata, typing-extensions, smmap, semver, pympler, pyarrow, blinker, backports.zoneinfo, rich, pytz-deprecation-shim, pydeck, gitdb, tzlocal, gitpython, altair, streamlit\n",
      "  Attempting uninstall: typing-extensions\n",
      "    Found existing installation: typing-extensions 3.7.4.3\n",
      "    Uninstalling typing-extensions-3.7.4.3:\n"
     ]
    },
    {
     "name": "stdout",
     "output_type": "stream",
     "text": [
      "      Successfully uninstalled typing-extensions-3.7.4.3\n",
      "Successfully installed altair-4.2.0 backports.zoneinfo-0.2.1 blinker-1.5 commonmark-0.9.1 gitdb-4.0.9 gitpython-3.1.27 pyarrow-9.0.0 pydeck-0.8.0b1 pympler-1.0.1 pytz-deprecation-shim-0.1.0.post0 rich-12.5.1 semver-2.13.0 smmap-5.0.0 streamlit-1.12.2 typing-extensions-4.3.0 tzdata-2022.2 tzlocal-4.2 validators-0.20.0\n",
      "\n",
      "  👋 \u001b[1mWelcome to Streamlit!\u001b[0m\n",
      "\n",
      "  If you're one of our development partners or you're interested in getting\n",
      "  personal technical support or Streamlit updates, please enter your email\n",
      "  address below. Otherwise, you may leave the field blank.\n",
      "\n",
      "  \u001b[34mEmail: \u001b[0m"
     ]
    }
   ],
   "source": [
    "! pip install streamlit\n",
    "! streamlit hello"
   ]
  },
  {
   "cell_type": "code",
   "execution_count": 5,
   "id": "978a6e07",
   "metadata": {},
   "outputs": [],
   "source": [
    "df=pd.read_csv('train.csv')"
   ]
  },
  {
   "cell_type": "code",
   "execution_count": 6,
   "id": "5f86a5b8",
   "metadata": {},
   "outputs": [
    {
     "data": {
      "text/html": [
       "<div>\n",
       "<style scoped>\n",
       "    .dataframe tbody tr th:only-of-type {\n",
       "        vertical-align: middle;\n",
       "    }\n",
       "\n",
       "    .dataframe tbody tr th {\n",
       "        vertical-align: top;\n",
       "    }\n",
       "\n",
       "    .dataframe thead th {\n",
       "        text-align: right;\n",
       "    }\n",
       "</style>\n",
       "<table border=\"1\" class=\"dataframe\">\n",
       "  <thead>\n",
       "    <tr style=\"text-align: right;\">\n",
       "      <th></th>\n",
       "      <th>ID</th>\n",
       "      <th>Price</th>\n",
       "      <th>Levy</th>\n",
       "      <th>Manufacturer</th>\n",
       "      <th>Model</th>\n",
       "      <th>Prod. year</th>\n",
       "      <th>Category</th>\n",
       "      <th>Leather interior</th>\n",
       "      <th>Fuel type</th>\n",
       "      <th>Engine volume</th>\n",
       "      <th>Mileage</th>\n",
       "      <th>Cylinders</th>\n",
       "      <th>Gear box type</th>\n",
       "      <th>Drive wheels</th>\n",
       "      <th>Doors</th>\n",
       "      <th>Wheel</th>\n",
       "      <th>Color</th>\n",
       "      <th>Airbags</th>\n",
       "    </tr>\n",
       "  </thead>\n",
       "  <tbody>\n",
       "    <tr>\n",
       "      <th>0</th>\n",
       "      <td>45654403</td>\n",
       "      <td>13328</td>\n",
       "      <td>1399</td>\n",
       "      <td>LEXUS</td>\n",
       "      <td>RX 450</td>\n",
       "      <td>2010</td>\n",
       "      <td>Jeep</td>\n",
       "      <td>Yes</td>\n",
       "      <td>Hybrid</td>\n",
       "      <td>3.5</td>\n",
       "      <td>186005 km</td>\n",
       "      <td>6.0</td>\n",
       "      <td>Automatic</td>\n",
       "      <td>4x4</td>\n",
       "      <td>04-May</td>\n",
       "      <td>Left wheel</td>\n",
       "      <td>Silver</td>\n",
       "      <td>12</td>\n",
       "    </tr>\n",
       "    <tr>\n",
       "      <th>1</th>\n",
       "      <td>44731507</td>\n",
       "      <td>16621</td>\n",
       "      <td>1018</td>\n",
       "      <td>CHEVROLET</td>\n",
       "      <td>Equinox</td>\n",
       "      <td>2011</td>\n",
       "      <td>Jeep</td>\n",
       "      <td>No</td>\n",
       "      <td>Petrol</td>\n",
       "      <td>3</td>\n",
       "      <td>192000 km</td>\n",
       "      <td>6.0</td>\n",
       "      <td>Tiptronic</td>\n",
       "      <td>4x4</td>\n",
       "      <td>04-May</td>\n",
       "      <td>Left wheel</td>\n",
       "      <td>Black</td>\n",
       "      <td>8</td>\n",
       "    </tr>\n",
       "    <tr>\n",
       "      <th>2</th>\n",
       "      <td>45774419</td>\n",
       "      <td>8467</td>\n",
       "      <td>-</td>\n",
       "      <td>HONDA</td>\n",
       "      <td>FIT</td>\n",
       "      <td>2006</td>\n",
       "      <td>Hatchback</td>\n",
       "      <td>No</td>\n",
       "      <td>Petrol</td>\n",
       "      <td>1.3</td>\n",
       "      <td>200000 km</td>\n",
       "      <td>4.0</td>\n",
       "      <td>Variator</td>\n",
       "      <td>Front</td>\n",
       "      <td>04-May</td>\n",
       "      <td>Right-hand drive</td>\n",
       "      <td>Black</td>\n",
       "      <td>2</td>\n",
       "    </tr>\n",
       "    <tr>\n",
       "      <th>3</th>\n",
       "      <td>45769185</td>\n",
       "      <td>3607</td>\n",
       "      <td>862</td>\n",
       "      <td>FORD</td>\n",
       "      <td>Escape</td>\n",
       "      <td>2011</td>\n",
       "      <td>Jeep</td>\n",
       "      <td>Yes</td>\n",
       "      <td>Hybrid</td>\n",
       "      <td>2.5</td>\n",
       "      <td>168966 km</td>\n",
       "      <td>4.0</td>\n",
       "      <td>Automatic</td>\n",
       "      <td>4x4</td>\n",
       "      <td>04-May</td>\n",
       "      <td>Left wheel</td>\n",
       "      <td>White</td>\n",
       "      <td>0</td>\n",
       "    </tr>\n",
       "    <tr>\n",
       "      <th>4</th>\n",
       "      <td>45809263</td>\n",
       "      <td>11726</td>\n",
       "      <td>446</td>\n",
       "      <td>HONDA</td>\n",
       "      <td>FIT</td>\n",
       "      <td>2014</td>\n",
       "      <td>Hatchback</td>\n",
       "      <td>Yes</td>\n",
       "      <td>Petrol</td>\n",
       "      <td>1.3</td>\n",
       "      <td>91901 km</td>\n",
       "      <td>4.0</td>\n",
       "      <td>Automatic</td>\n",
       "      <td>Front</td>\n",
       "      <td>04-May</td>\n",
       "      <td>Left wheel</td>\n",
       "      <td>Silver</td>\n",
       "      <td>4</td>\n",
       "    </tr>\n",
       "  </tbody>\n",
       "</table>\n",
       "</div>"
      ],
      "text/plain": [
       "         ID  Price  Levy Manufacturer    Model  Prod. year   Category  \\\n",
       "0  45654403  13328  1399        LEXUS   RX 450        2010       Jeep   \n",
       "1  44731507  16621  1018    CHEVROLET  Equinox        2011       Jeep   \n",
       "2  45774419   8467     -        HONDA      FIT        2006  Hatchback   \n",
       "3  45769185   3607   862         FORD   Escape        2011       Jeep   \n",
       "4  45809263  11726   446        HONDA      FIT        2014  Hatchback   \n",
       "\n",
       "  Leather interior Fuel type Engine volume    Mileage  Cylinders  \\\n",
       "0              Yes    Hybrid           3.5  186005 km        6.0   \n",
       "1               No    Petrol             3  192000 km        6.0   \n",
       "2               No    Petrol           1.3  200000 km        4.0   \n",
       "3              Yes    Hybrid           2.5  168966 km        4.0   \n",
       "4              Yes    Petrol           1.3   91901 km        4.0   \n",
       "\n",
       "  Gear box type Drive wheels   Doors             Wheel   Color  Airbags  \n",
       "0     Automatic          4x4  04-May        Left wheel  Silver       12  \n",
       "1     Tiptronic          4x4  04-May        Left wheel   Black        8  \n",
       "2      Variator        Front  04-May  Right-hand drive   Black        2  \n",
       "3     Automatic          4x4  04-May        Left wheel   White        0  \n",
       "4     Automatic        Front  04-May        Left wheel  Silver        4  "
      ]
     },
     "execution_count": 6,
     "metadata": {},
     "output_type": "execute_result"
    }
   ],
   "source": [
    "df.head()"
   ]
  },
  {
   "cell_type": "code",
   "execution_count": 7,
   "id": "06476006",
   "metadata": {},
   "outputs": [
    {
     "data": {
      "text/plain": [
       "ID                  0\n",
       "Price               0\n",
       "Levy                0\n",
       "Manufacturer        0\n",
       "Model               0\n",
       "Prod. year          0\n",
       "Category            0\n",
       "Leather interior    0\n",
       "Fuel type           0\n",
       "Engine volume       0\n",
       "Mileage             0\n",
       "Cylinders           0\n",
       "Gear box type       0\n",
       "Drive wheels        0\n",
       "Doors               0\n",
       "Wheel               0\n",
       "Color               0\n",
       "Airbags             0\n",
       "dtype: int64"
      ]
     },
     "execution_count": 7,
     "metadata": {},
     "output_type": "execute_result"
    }
   ],
   "source": [
    " #Checking for null values\n",
    "df.isnull().sum()"
   ]
  },
  {
   "cell_type": "code",
   "execution_count": 8,
   "id": "113950aa",
   "metadata": {},
   "outputs": [
    {
     "data": {
      "text/plain": [
       "<AxesSubplot:>"
      ]
     },
     "execution_count": 8,
     "metadata": {},
     "output_type": "execute_result"
    },
    {
     "data": {
      "image/png": "[encoded data removed]",
      "text/plain": [
       "<Figure size 576x360 with 1 Axes>"
      ]
     },
     "metadata": {
      "needs_background": "light"
     },
     "output_type": "display_data"
    }
   ],
   "source": [
    "#Cehcking for null values in heatmap\n",
    "plt.figure(figsize=(8,5))\n",
    "sns.heatmap(df.isnull(),cbar=False)"
   ]
  },
  {
   "cell_type": "markdown",
   "id": "c5d2cb9f",
   "metadata": {},
   "source": [
    "INFERENCE : There are no missing values in the varibales ,however it further needs to be investigated in the dataset ,missing value might be available"
   ]
  },
  {
   "cell_type": "code",
   "execution_count": 9,
   "id": "e40989cd",
   "metadata": {},
   "outputs": [
    {
     "data": {
      "text/plain": [
       "0"
      ]
     },
     "execution_count": 9,
     "metadata": {},
     "output_type": "execute_result"
    }
   ],
   "source": [
    "#Checking duplicates\n",
    "\n",
    "df.duplicated().sum()\n",
    "\n",
    "#There are 313 duplicates value out of 19237 rows , roughly 1.62% values ,hence dropping the duplicate values\n",
    "\n",
    "df.drop_duplicates(keep=False,inplace=True)\n",
    "df.duplicated().sum()"
   ]
  },
  {
   "cell_type": "markdown",
   "id": "d8f765d8",
   "metadata": {},
   "source": [
    "INFERENCE :We found 313 duplicate entries & hence the same entries have been dropped ,after dropping the duplicates we are left with 18704 rows"
   ]
  },
  {
   "cell_type": "code",
   "execution_count": 10,
   "id": "c47d31ad",
   "metadata": {},
   "outputs": [],
   "source": [
    "# Lets drop the column ID\n",
    "\n",
    "df.drop('ID',axis=1,inplace=True)"
   ]
  },
  {
   "cell_type": "code",
   "execution_count": 11,
   "id": "6a4ed544",
   "metadata": {},
   "outputs": [],
   "source": [
    "#Dropping duplicates\n",
    "\n",
    "#df.drop(df[df.duplicated()].index,inplace=True)"
   ]
  },
  {
   "cell_type": "code",
   "execution_count": 12,
   "id": "1c7c6eb1",
   "metadata": {},
   "outputs": [
    {
     "data": {
      "text/plain": [
       "(18704, 17)"
      ]
     },
     "execution_count": 12,
     "metadata": {},
     "output_type": "execute_result"
    }
   ],
   "source": [
    "df.shape"
   ]
  },
  {
   "cell_type": "code",
   "execution_count": 13,
   "id": "937593c4",
   "metadata": {},
   "outputs": [],
   "source": [
    "# Lets reset the index \n",
    "#df.reset_index(inplace=True)"
   ]
  },
  {
   "cell_type": "code",
   "execution_count": 14,
   "id": "7a68dd32",
   "metadata": {},
   "outputs": [],
   "source": [
    "# Lets drop the column Index\n",
    "#df.drop('index',axis=1,inplace=True)"
   ]
  },
  {
   "cell_type": "code",
   "execution_count": 15,
   "id": "a3642fc3",
   "metadata": {},
   "outputs": [
    {
     "data": {
      "text/plain": [
       "Price                 int64\n",
       "Levy                 object\n",
       "Manufacturer         object\n",
       "Model                object\n",
       "Prod. year            int64\n",
       "Category             object\n",
       "Leather interior     object\n",
       "Fuel type            object\n",
       "Engine volume        object\n",
       "Mileage              object\n",
       "Cylinders           float64\n",
       "Gear box type        object\n",
       "Drive wheels         object\n",
       "Doors                object\n",
       "Wheel                object\n",
       "Color                object\n",
       "Airbags               int64\n",
       "dtype: object"
      ]
     },
     "execution_count": 15,
     "metadata": {},
     "output_type": "execute_result"
    }
   ],
   "source": [
    "#Checking datatypes\n",
    "df.dtypes"
   ]
  },
  {
   "cell_type": "code",
   "execution_count": 16,
   "id": "60030072",
   "metadata": {},
   "outputs": [
    {
     "data": {
      "text/plain": [
       "-       5651\n",
       "765      481\n",
       "891      448\n",
       "639      396\n",
       "640      391\n",
       "        ... \n",
       "2269       1\n",
       "866        1\n",
       "7058       1\n",
       "972        1\n",
       "3329       1\n",
       "Name: Levy, Length: 559, dtype: int64"
      ]
     },
     "execution_count": 16,
     "metadata": {},
     "output_type": "execute_result"
    }
   ],
   "source": [
    "#As we need to change the datatype of 'Levy' column ,we need to check the variable for any wrong values\n",
    "\n",
    "df['Levy'].value_counts()"
   ]
  },
  {
   "cell_type": "code",
   "execution_count": 17,
   "id": "35ae9d67",
   "metadata": {},
   "outputs": [],
   "source": [
    "#As we can see that the variable contains a wrong value which is '-' ,\n",
    "\n",
    "#we need to impute the '-' with null values so that we can carry out the datatype converrrsion\n",
    "\n",
    "df['Levy'].replace(\"-\",np.nan,inplace=True)\n",
    "\n",
    "#Since this seems to be an object column ,Lets try and convert it into numeric\n",
    "\n",
    "df['Levy']=pd.to_numeric(df['Levy'])"
   ]
  },
  {
   "cell_type": "code",
   "execution_count": 18,
   "id": "8afa4b57",
   "metadata": {},
   "outputs": [],
   "source": [
    "# Imputing null values with 0 considering the Levy for those particular Cars as zero\n",
    "\n",
    "df['Levy'].replace(np.nan,0,inplace=True)"
   ]
  },
  {
   "cell_type": "code",
   "execution_count": 19,
   "id": "f288417e",
   "metadata": {},
   "outputs": [
    {
     "data": {
      "text/plain": [
       "count    18704.000000\n",
       "mean       632.444985\n",
       "std        569.018150\n",
       "min          0.000000\n",
       "25%          0.000000\n",
       "50%        642.000000\n",
       "75%        915.000000\n",
       "max      11714.000000\n",
       "Name: Levy, dtype: float64"
      ]
     },
     "execution_count": 19,
     "metadata": {},
     "output_type": "execute_result"
    }
   ],
   "source": [
    "df.describe()['Levy']"
   ]
  },
  {
   "cell_type": "code",
   "execution_count": 20,
   "id": "786c1e6d",
   "metadata": {},
   "outputs": [],
   "source": [
    "#Since the Levy column is assumed to be Tax applied on the cars price ,this column will be dropped from analysis citing following \n",
    "#Reasons\n",
    "\n",
    "#There are extreme outliers in the Levy column also\n",
    "\n",
    "#1.The Prediction of car price can be done using the price variable only excluding the tax as the tax is applied on the basic price of the car.\n",
    "\n",
    "#2.Tax percentage on the used cars varies from states-to-states in the US ,since our dataset doesn't contain the geographical location information of the cars the Levy variable should be dropped\n",
    "\n",
    "#df.drop('Levy',axis=1,inplace=True)"
   ]
  },
  {
   "cell_type": "code",
   "execution_count": 21,
   "id": "0c9c4c39",
   "metadata": {},
   "outputs": [
    {
     "data": {
      "text/plain": [
       "2            3807\n",
       "2.5          2223\n",
       "1.8          1726\n",
       "1.6          1430\n",
       "1.5          1268\n",
       "             ... \n",
       "1.1 Turbo       1\n",
       "6.8             1\n",
       "0.8 Turbo       1\n",
       "7.3             1\n",
       "0.3 Turbo       1\n",
       "Name: Engine volume, Length: 107, dtype: int64"
      ]
     },
     "execution_count": 21,
     "metadata": {},
     "output_type": "execute_result"
    }
   ],
   "source": [
    "#Checking for Engine Volume column\n",
    "df['Engine volume'].value_counts()"
   ]
  },
  {
   "cell_type": "markdown",
   "id": "14b520cc",
   "metadata": {},
   "source": [
    "INFERENCCE : We can see that there 2 values with a string named 'Turbo' right next to varibale value ,seem to have been an unnecessary input."
   ]
  },
  {
   "cell_type": "code",
   "execution_count": 22,
   "id": "c7682cf0",
   "metadata": {},
   "outputs": [],
   "source": [
    "#Lets remove 'Turbo' string & convert the Engine volume datatype from 'Object' to 'float'\n",
    "\n",
    "df['Engine volume']=df['Engine volume'].apply(lambda x:x.split(' ')[0])\n",
    "df['Engine volume']=df['Engine volume'].astype('float')"
   ]
  },
  {
   "cell_type": "code",
   "execution_count": 23,
   "id": "d00fd282",
   "metadata": {},
   "outputs": [
    {
     "data": {
      "text/plain": [
       "2.0    4206\n",
       "2.5    2313\n",
       "1.8    1899\n",
       "1.6    1546\n",
       "1.5    1331\n",
       "       ... \n",
       "3.1       1\n",
       "0.5       1\n",
       "6.8       1\n",
       "6.7       1\n",
       "5.2       1\n",
       "Name: Engine volume, Length: 65, dtype: int64"
      ]
     },
     "execution_count": 23,
     "metadata": {},
     "output_type": "execute_result"
    }
   ],
   "source": [
    "#Recheck removal of string 'Turbo'\n",
    "df['Engine volume'].value_counts()"
   ]
  },
  {
   "cell_type": "code",
   "execution_count": 24,
   "id": "7787636e",
   "metadata": {},
   "outputs": [
    {
     "data": {
      "text/plain": [
       "dtype('float64')"
      ]
     },
     "execution_count": 24,
     "metadata": {},
     "output_type": "execute_result"
    }
   ],
   "source": [
    "#Recheck the dattype conversion\n",
    "df['Engine volume'].dtypes"
   ]
  },
  {
   "cell_type": "code",
   "execution_count": 25,
   "id": "2dded81a",
   "metadata": {},
   "outputs": [
    {
     "data": {
      "text/plain": [
       "0 km         712\n",
       "200000 km    179\n",
       "150000 km    157\n",
       "160000 km    120\n",
       "180000 km    116\n",
       "            ... \n",
       "148769 km      1\n",
       "89617 km       1\n",
       "52320 km       1\n",
       "19050 km       1\n",
       "18700 km       1\n",
       "Name: Mileage, Length: 7586, dtype: int64"
      ]
     },
     "execution_count": 25,
     "metadata": {},
     "output_type": "execute_result"
    }
   ],
   "source": [
    "df['Mileage'].value_counts()"
   ]
  },
  {
   "cell_type": "markdown",
   "id": "728d0397",
   "metadata": {},
   "source": [
    "INFERENCE : We can see that there values with a string named 'km' right next to varibale value in almost each entry ,seem to have been an uneessary input "
   ]
  },
  {
   "cell_type": "code",
   "execution_count": 26,
   "id": "bbe45446",
   "metadata": {},
   "outputs": [],
   "source": [
    "#Lets remove 'km' string & convert the Milleage datatype from 'Object' to 'float'\n",
    "df['Mileage']=df['Mileage'].apply(lambda x:x.split(' ')[0])\n",
    "df['Mileage']=df['Mileage'].astype('float')"
   ]
  },
  {
   "cell_type": "code",
   "execution_count": 27,
   "id": "05e0d8bc",
   "metadata": {},
   "outputs": [
    {
     "data": {
      "text/plain": [
       "0.0          712\n",
       "200000.0     179\n",
       "150000.0     157\n",
       "160000.0     120\n",
       "180000.0     116\n",
       "            ... \n",
       "1100000.0      1\n",
       "125047.0       1\n",
       "56629.0        1\n",
       "82990.0        1\n",
       "165442.0       1\n",
       "Name: Mileage, Length: 7586, dtype: int64"
      ]
     },
     "execution_count": 27,
     "metadata": {},
     "output_type": "execute_result"
    }
   ],
   "source": [
    "#Recheck removal of string 'km'\n",
    "df['Mileage'].value_counts()"
   ]
  },
  {
   "cell_type": "code",
   "execution_count": 28,
   "id": "9422d6f0",
   "metadata": {},
   "outputs": [
    {
     "data": {
      "text/plain": [
       "dtype('float64')"
      ]
     },
     "execution_count": 28,
     "metadata": {},
     "output_type": "execute_result"
    }
   ],
   "source": [
    "#Recheck the datatype conversion\n",
    "df['Mileage'].dtypes"
   ]
  },
  {
   "cell_type": "markdown",
   "id": "22481f3c",
   "metadata": {},
   "source": [
    "link : https://www.valulinecars.com/content/good-mileage-on-a-used-car#:~:text=Mileage%20will%20vary%20between%20vehicles,that's%20about%2010%20years%20old."
   ]
  },
  {
   "cell_type": "code",
   "execution_count": 29,
   "id": "96d62a08",
   "metadata": {},
   "outputs": [
    {
     "data": {
      "text/plain": [
       "Front    12553\n",
       "4x4       3922\n",
       "Rear      2229\n",
       "Name: Drive wheels, dtype: int64"
      ]
     },
     "execution_count": 29,
     "metadata": {},
     "output_type": "execute_result"
    }
   ],
   "source": [
    "#Checking Drive wheels column\n",
    "\n",
    "df['Drive wheels'].value_counts()"
   ]
  },
  {
   "cell_type": "markdown",
   "id": "603f4861",
   "metadata": {},
   "source": [
    "INFERENCE : Drive Wheels seems okay as a categorical column , no changes required"
   ]
  },
  {
   "cell_type": "code",
   "execution_count": 30,
   "id": "8fcc2cec",
   "metadata": {},
   "outputs": [
    {
     "data": {
      "text/plain": [
       "04-May    17822\n",
       "02-Mar      759\n",
       ">5          123\n",
       "Name: Doors, dtype: int64"
      ]
     },
     "execution_count": 30,
     "metadata": {},
     "output_type": "execute_result"
    }
   ],
   "source": [
    "#Doors column seems to be unclean ,lets clean it \n",
    "\n",
    "df['Doors'].value_counts()"
   ]
  },
  {
   "cell_type": "markdown",
   "id": "247a34b1",
   "metadata": {},
   "source": [
    "INFERENCE : The Door column typicaly should contain number of doors but we can see that the values are inserted wrongly"
   ]
  },
  {
   "cell_type": "code",
   "execution_count": 31,
   "id": "044009da",
   "metadata": {},
   "outputs": [],
   "source": [
    "#Asumption 1: '04-May' means '4-5' Doors\n",
    "\n",
    "#Asumption 2: '02-Mar' means '2-3' Doors\n",
    "\n",
    "#Asumption 3: '>5' means '<=5' Doors"
   ]
  },
  {
   "cell_type": "code",
   "execution_count": 32,
   "id": "277177fd",
   "metadata": {},
   "outputs": [],
   "source": [
    "#Lets clean the column by imputing correct values\n",
    "\n",
    "df['Doors'].replace('04-May','4-5',inplace=True)\n",
    "df['Doors'].replace('02-Mar','2-3',inplace=True)\n",
    "df['Doors'].replace('>5','<=5',inplace=True)"
   ]
  },
  {
   "cell_type": "code",
   "execution_count": 33,
   "id": "05dad566",
   "metadata": {},
   "outputs": [
    {
     "data": {
      "text/plain": [
       "4-5    17822\n",
       "2-3      759\n",
       "<=5      123\n",
       "Name: Doors, dtype: int64"
      ]
     },
     "execution_count": 33,
     "metadata": {},
     "output_type": "execute_result"
    }
   ],
   "source": [
    "df['Doors'].value_counts()"
   ]
  },
  {
   "cell_type": "code",
   "execution_count": 34,
   "id": "4b2a630b",
   "metadata": {},
   "outputs": [
    {
     "data": {
      "text/html": [
       "<div>\n",
       "<style scoped>\n",
       "    .dataframe tbody tr th:only-of-type {\n",
       "        vertical-align: middle;\n",
       "    }\n",
       "\n",
       "    .dataframe tbody tr th {\n",
       "        vertical-align: top;\n",
       "    }\n",
       "\n",
       "    .dataframe thead th {\n",
       "        text-align: right;\n",
       "    }\n",
       "</style>\n",
       "<table border=\"1\" class=\"dataframe\">\n",
       "  <thead>\n",
       "    <tr style=\"text-align: right;\">\n",
       "      <th></th>\n",
       "      <th>Price</th>\n",
       "      <th>Levy</th>\n",
       "      <th>Manufacturer</th>\n",
       "      <th>Model</th>\n",
       "      <th>Prod. year</th>\n",
       "      <th>Category</th>\n",
       "      <th>Leather interior</th>\n",
       "      <th>Fuel type</th>\n",
       "      <th>Engine volume</th>\n",
       "      <th>Mileage</th>\n",
       "      <th>Cylinders</th>\n",
       "      <th>Gear box type</th>\n",
       "      <th>Drive wheels</th>\n",
       "      <th>Doors</th>\n",
       "      <th>Wheel</th>\n",
       "      <th>Color</th>\n",
       "      <th>Airbags</th>\n",
       "    </tr>\n",
       "  </thead>\n",
       "  <tbody>\n",
       "    <tr>\n",
       "      <th>0</th>\n",
       "      <td>13328</td>\n",
       "      <td>1399.0</td>\n",
       "      <td>LEXUS</td>\n",
       "      <td>RX 450</td>\n",
       "      <td>2010</td>\n",
       "      <td>Jeep</td>\n",
       "      <td>Yes</td>\n",
       "      <td>Hybrid</td>\n",
       "      <td>3.5</td>\n",
       "      <td>186005.0</td>\n",
       "      <td>6.0</td>\n",
       "      <td>Automatic</td>\n",
       "      <td>4x4</td>\n",
       "      <td>4-5</td>\n",
       "      <td>Left wheel</td>\n",
       "      <td>Silver</td>\n",
       "      <td>12</td>\n",
       "    </tr>\n",
       "    <tr>\n",
       "      <th>2</th>\n",
       "      <td>8467</td>\n",
       "      <td>0.0</td>\n",
       "      <td>HONDA</td>\n",
       "      <td>FIT</td>\n",
       "      <td>2006</td>\n",
       "      <td>Hatchback</td>\n",
       "      <td>No</td>\n",
       "      <td>Petrol</td>\n",
       "      <td>1.3</td>\n",
       "      <td>200000.0</td>\n",
       "      <td>4.0</td>\n",
       "      <td>Variator</td>\n",
       "      <td>Front</td>\n",
       "      <td>4-5</td>\n",
       "      <td>Right-hand drive</td>\n",
       "      <td>Black</td>\n",
       "      <td>2</td>\n",
       "    </tr>\n",
       "    <tr>\n",
       "      <th>3</th>\n",
       "      <td>3607</td>\n",
       "      <td>862.0</td>\n",
       "      <td>FORD</td>\n",
       "      <td>Escape</td>\n",
       "      <td>2011</td>\n",
       "      <td>Jeep</td>\n",
       "      <td>Yes</td>\n",
       "      <td>Hybrid</td>\n",
       "      <td>2.5</td>\n",
       "      <td>168966.0</td>\n",
       "      <td>4.0</td>\n",
       "      <td>Automatic</td>\n",
       "      <td>4x4</td>\n",
       "      <td>4-5</td>\n",
       "      <td>Left wheel</td>\n",
       "      <td>White</td>\n",
       "      <td>0</td>\n",
       "    </tr>\n",
       "    <tr>\n",
       "      <th>4</th>\n",
       "      <td>11726</td>\n",
       "      <td>446.0</td>\n",
       "      <td>HONDA</td>\n",
       "      <td>FIT</td>\n",
       "      <td>2014</td>\n",
       "      <td>Hatchback</td>\n",
       "      <td>Yes</td>\n",
       "      <td>Petrol</td>\n",
       "      <td>1.3</td>\n",
       "      <td>91901.0</td>\n",
       "      <td>4.0</td>\n",
       "      <td>Automatic</td>\n",
       "      <td>Front</td>\n",
       "      <td>4-5</td>\n",
       "      <td>Left wheel</td>\n",
       "      <td>Silver</td>\n",
       "      <td>4</td>\n",
       "    </tr>\n",
       "    <tr>\n",
       "      <th>5</th>\n",
       "      <td>39493</td>\n",
       "      <td>891.0</td>\n",
       "      <td>HYUNDAI</td>\n",
       "      <td>Santa FE</td>\n",
       "      <td>2016</td>\n",
       "      <td>Jeep</td>\n",
       "      <td>Yes</td>\n",
       "      <td>Diesel</td>\n",
       "      <td>2.0</td>\n",
       "      <td>160931.0</td>\n",
       "      <td>4.0</td>\n",
       "      <td>Automatic</td>\n",
       "      <td>Front</td>\n",
       "      <td>4-5</td>\n",
       "      <td>Left wheel</td>\n",
       "      <td>White</td>\n",
       "      <td>4</td>\n",
       "    </tr>\n",
       "  </tbody>\n",
       "</table>\n",
       "</div>"
      ],
      "text/plain": [
       "   Price    Levy Manufacturer     Model  Prod. year   Category  \\\n",
       "0  13328  1399.0        LEXUS    RX 450        2010       Jeep   \n",
       "2   8467     0.0        HONDA       FIT        2006  Hatchback   \n",
       "3   3607   862.0         FORD    Escape        2011       Jeep   \n",
       "4  11726   446.0        HONDA       FIT        2014  Hatchback   \n",
       "5  39493   891.0      HYUNDAI  Santa FE        2016       Jeep   \n",
       "\n",
       "  Leather interior Fuel type  Engine volume   Mileage  Cylinders  \\\n",
       "0              Yes    Hybrid            3.5  186005.0        6.0   \n",
       "2               No    Petrol            1.3  200000.0        4.0   \n",
       "3              Yes    Hybrid            2.5  168966.0        4.0   \n",
       "4              Yes    Petrol            1.3   91901.0        4.0   \n",
       "5              Yes    Diesel            2.0  160931.0        4.0   \n",
       "\n",
       "  Gear box type Drive wheels Doors             Wheel   Color  Airbags  \n",
       "0     Automatic          4x4   4-5        Left wheel  Silver       12  \n",
       "2      Variator        Front   4-5  Right-hand drive   Black        2  \n",
       "3     Automatic          4x4   4-5        Left wheel   White        0  \n",
       "4     Automatic        Front   4-5        Left wheel  Silver        4  \n",
       "5     Automatic        Front   4-5        Left wheel   White        4  "
      ]
     },
     "execution_count": 34,
     "metadata": {},
     "output_type": "execute_result"
    }
   ],
   "source": [
    "df.head()"
   ]
  },
  {
   "cell_type": "code",
   "execution_count": 35,
   "id": "4c7b731a",
   "metadata": {},
   "outputs": [],
   "source": [
    "#Lets convert the column Prod Year into age of the car, Considering the data was published in the year of 2021 , We shall consider\n",
    "#Age of the cars from the year of manufacturing till 2021 as individual car's age"
   ]
  },
  {
   "cell_type": "code",
   "execution_count": 36,
   "id": "7702da8b",
   "metadata": {},
   "outputs": [],
   "source": [
    "#Converting the Prod year column to age of the cars in years\n",
    "\n",
    "df['Age']=2021-df['Prod. year']"
   ]
  },
  {
   "cell_type": "code",
   "execution_count": 37,
   "id": "4f85ce7f",
   "metadata": {},
   "outputs": [],
   "source": [
    "#Lest drop production year column now\n",
    "\n",
    "df.drop('Prod. year',axis=1,inplace=True)"
   ]
  },
  {
   "cell_type": "code",
   "execution_count": 38,
   "id": "1197dc4e",
   "metadata": {},
   "outputs": [
    {
     "data": {
      "text/plain": [
       "(18704, 17)"
      ]
     },
     "execution_count": 38,
     "metadata": {},
     "output_type": "execute_result"
    }
   ],
   "source": [
    "df.shape"
   ]
  },
  {
   "cell_type": "markdown",
   "id": "d918104c",
   "metadata": {},
   "source": [
    "# UNIVARIATE & BI-VARIATE ANALYSIS"
   ]
  },
  {
   "cell_type": "code",
   "execution_count": 39,
   "id": "8b3300fb",
   "metadata": {},
   "outputs": [
    {
     "data": {
      "image/png": "[encoded data removed]",
      "text/plain": [
       "<Figure size 720x720 with 9 Axes>"
      ]
     },
     "metadata": {
      "needs_background": "light"
     },
     "output_type": "display_data"
    }
   ],
   "source": [
    "plt.rcParams['figure.figsize']=[10,10]\n",
    "df.select_dtypes(include=np.number).hist()\n",
    "plt.show()"
   ]
  },
  {
   "cell_type": "code",
   "execution_count": 40,
   "id": "4a1002f5",
   "metadata": {},
   "outputs": [
    {
     "data": {
      "text/plain": [
       "Price            134.620020\n",
       "Levy               2.421327\n",
       "Engine volume      2.218416\n",
       "Mileage           38.353208\n",
       "Cylinders          2.114989\n",
       "Airbags            0.088982\n",
       "Age                2.085867\n",
       "dtype: float64"
      ]
     },
     "execution_count": 40,
     "metadata": {},
     "output_type": "execute_result"
    }
   ],
   "source": [
    "#Checking skewness\n",
    "\n",
    "df.select_dtypes(include=np.number).skew()"
   ]
  },
  {
   "cell_type": "markdown",
   "id": "af159def",
   "metadata": {},
   "source": [
    "1.Column Price & Mileage --> Heavily Right Skewed\n",
    "\n",
    "2.Column Engine Volume & Cylinder --> Right Skewed\n",
    "\n",
    "3.Age ---> Right Skewed\n",
    "\n",
    "4.Column Airbags --> Close to normal distrubtion"
   ]
  },
  {
   "cell_type": "code",
   "execution_count": 41,
   "id": "dda4c6a8",
   "metadata": {},
   "outputs": [
    {
     "data": {
      "text/plain": [
       "Price            18312.655122\n",
       "Levy                29.783446\n",
       "Engine volume       19.771846\n",
       "Mileage           1554.338145\n",
       "Cylinders            6.635373\n",
       "Airbags             -1.330967\n",
       "Age                 11.470812\n",
       "dtype: float64"
      ]
     },
     "execution_count": 41,
     "metadata": {},
     "output_type": "execute_result"
    }
   ],
   "source": [
    "#Checking Kurtosis\n",
    "\n",
    "df.select_dtypes(include=np.number).kurt()"
   ]
  },
  {
   "cell_type": "markdown",
   "id": "1cf04246",
   "metadata": {},
   "source": [
    "1.All the columns except Airbags are Leptokurtic which means heavy tails & extreme outliers\n",
    "\n",
    "2.Column Airbag is platykurtic which means lighter tails & less extreme outliers or no outliers at all"
   ]
  },
  {
   "cell_type": "code",
   "execution_count": 42,
   "id": "bdfe399b",
   "metadata": {},
   "outputs": [
    {
     "data": {
      "text/plain": [
       "Int64Index([2010, 3105, 3516, 4814, 7022, 7685, 10603, 12917, 14642, 17375], dtype='int64')"
      ]
     },
     "execution_count": 42,
     "metadata": {},
     "output_type": "execute_result"
    }
   ],
   "source": [
    "#Finding indices with Engine volume as '0' which is practically not possible\n",
    "\n",
    "df[df['Engine volume']==0].index"
   ]
  },
  {
   "cell_type": "code",
   "execution_count": 43,
   "id": "331d65a4",
   "metadata": {},
   "outputs": [],
   "source": [
    "#Dropping the rows with Engine voume as '0'\n",
    "\n",
    "df.drop([2010, 3105, 3516, 4814, 7685, 10603, 12917, 14642, 17375],axis=0,inplace=True)"
   ]
  },
  {
   "cell_type": "code",
   "execution_count": 44,
   "id": "fc14d8de",
   "metadata": {},
   "outputs": [],
   "source": [
    "#Putting manufacturer's as per Luxary cars segment\n",
    "\n",
    "df['Manufacturer'].replace(['MERCEDES-BENZ','PORSCHE','LEXUS','AUDI','BMW','LAND ROVER','MINI','JAGUAR','TESLA','CADILLAC',\n",
    "'BENTLEY','VOLVO','HUMMER','CITROEN','ROVER','MASERATI','FERRARI','LAMBORGHINI','ROLLS-ROYCE','ASTON MARTIN'],\n",
    "'Luxary',inplace=True)\n",
    "\n",
    "#Putting rest of the manufacturer's in non-Luxary cars segment\n",
    "\n",
    "df['Manufacturer'].replace(['HONDA', 'FORD', 'HYUNDAI', 'TOYOTA', 'OPEL', 'JEEP', 'VOLKSWAGEN', 'RENAULT', 'NISSAN', 'CHEVROLET',\n",
    "'SUBARU', 'DAEWOO', 'KIA', 'MITSUBISHI', 'SSANGYONG', 'MAZDA', 'GMC', 'FIAT', 'INFINITI', 'ALFA ROMEO', 'SUZUKI', 'ACURA', \n",
    "'LINCOLN', 'VAZ', 'GAZ', 'DODGE', 'CHRYSLER', 'ISUZU', 'SKODA', 'DAIHATSU', 'BUICK', 'PEUGEOT', 'სხვა', 'HAVAL', 'SCION', \n",
    "'UAZ', 'MERCURY', 'ZAZ', 'SEAT', 'LANCIA', 'MOSKVICH', 'SAAB', 'PONTIAC', 'SATURN', 'GREATWALL'],'Non-Luxary',inplace=True)"
   ]
  },
  {
   "cell_type": "code",
   "execution_count": 45,
   "id": "0e22398d",
   "metadata": {},
   "outputs": [
    {
     "data": {
      "image/png": "[encoded data removed]",
      "text/plain": [
       "<Figure size 504x360 with 1 Axes>"
      ]
     },
     "metadata": {
      "needs_background": "light"
     },
     "output_type": "display_data"
    }
   ],
   "source": [
    "plt.rcParams['figure.figsize']=(7,5)\n",
    "sns.countplot(df['Manufacturer'])\n",
    "plt.title('Manufacturers segmentation')\n",
    "plt.show()"
   ]
  },
  {
   "cell_type": "code",
   "execution_count": 46,
   "id": "c54fc6b5",
   "metadata": {},
   "outputs": [],
   "source": [
    "#Converting categories of cars into 'other' category\n",
    "\n",
    "df.replace(['Coupe', 'Universal','Microbus', 'Goods wagon', 'Pickup', 'Cabriolet', 'Limousine'],'Other',inplace=True)"
   ]
  },
  {
   "cell_type": "code",
   "execution_count": 47,
   "id": "14edc355",
   "metadata": {},
   "outputs": [
    {
     "data": {
      "image/png": "[encoded data removed]",
      "text/plain": [
       "<Figure size 504x360 with 1 Axes>"
      ]
     },
     "metadata": {
      "needs_background": "light"
     },
     "output_type": "display_data"
    }
   ],
   "source": [
    "plt.rcParams['figure.figsize']=(7,5)\n",
    "sns.countplot(df['Category'])\n",
    "plt.title('Cars Category segmentation')\n",
    "plt.show()"
   ]
  },
  {
   "cell_type": "code",
   "execution_count": 48,
   "id": "199f6427",
   "metadata": {},
   "outputs": [],
   "source": [
    "#Converting Fuel type of cars 'other' category\n",
    "\n",
    "df.replace(['LPG', 'CNG', 'Plug-in Hybrid','Hydrogen'],'Other',inplace=True)"
   ]
  },
  {
   "cell_type": "code",
   "execution_count": 49,
   "id": "40ca85a5",
   "metadata": {},
   "outputs": [
    {
     "data": {
      "image/png": "[encoded data removed]",
      "text/plain": [
       "<Figure size 504x360 with 1 Axes>"
      ]
     },
     "metadata": {
      "needs_background": "light"
     },
     "output_type": "display_data"
    }
   ],
   "source": [
    "plt.rcParams['figure.figsize']=(7,5)\n",
    "sns.countplot(df['Fuel type'])\n",
    "plt.title('Fuel type segmentation')\n",
    "plt.show()"
   ]
  },
  {
   "cell_type": "code",
   "execution_count": 50,
   "id": "b5d29a0b",
   "metadata": {},
   "outputs": [],
   "source": [
    "#Converting Colors of the cars 'other' category\n",
    "\n",
    "df.replace(['Red', 'Green', 'Orange','Brown', 'Carnelian red', 'Golden', 'Beige', 'Sky blue', 'Yellow','Purple', 'Pink'],'Other',inplace=True)"
   ]
  },
  {
   "cell_type": "code",
   "execution_count": 51,
   "id": "0a883934",
   "metadata": {},
   "outputs": [
    {
     "data": {
      "image/png": "[encoded data removed]",
      "text/plain": [
       "<Figure size 504x360 with 1 Axes>"
      ]
     },
     "metadata": {
      "needs_background": "light"
     },
     "output_type": "display_data"
    }
   ],
   "source": [
    "plt.rcParams['figure.figsize']=(7,5)\n",
    "sns.countplot(df['Color'])\n",
    "plt.title('Color wise segmentation')\n",
    "plt.show()"
   ]
  },
  {
   "cell_type": "code",
   "execution_count": 52,
   "id": "61bf536d",
   "metadata": {},
   "outputs": [],
   "source": [
    "#Dropping Models owing to large no of records\n",
    "\n",
    "df.drop('Model',axis=1,inplace=True)"
   ]
  },
  {
   "cell_type": "code",
   "execution_count": 53,
   "id": "133fca09",
   "metadata": {},
   "outputs": [
    {
     "data": {
      "text/plain": [
       "Price            134.588631\n",
       "Levy               2.421391\n",
       "Engine volume      2.233960\n",
       "Mileage           38.343963\n",
       "Cylinders          2.115935\n",
       "Airbags            0.089210\n",
       "Age                2.085561\n",
       "dtype: float64"
      ]
     },
     "execution_count": 53,
     "metadata": {},
     "output_type": "execute_result"
    }
   ],
   "source": [
    "#Checking the skewness\n",
    "\n",
    "df.skew()"
   ]
  },
  {
   "cell_type": "code",
   "execution_count": 54,
   "id": "84620bad",
   "metadata": {},
   "outputs": [
    {
     "data": {
      "text/plain": [
       "Levy            -0.823338\n",
       "Engine volume   -0.113154\n",
       "Mileage         -0.843052\n",
       "Cylinders        1.053768\n",
       "Age              0.047689\n",
       "dtype: float64"
      ]
     },
     "execution_count": 54,
     "metadata": {},
     "output_type": "execute_result"
    }
   ],
   "source": [
    "#Treating the skewness\n",
    "\n",
    "df_skew=df[['Levy','Engine volume','Mileage','Cylinders','Age']]\n",
    "df_skew=np.power((df_skew),(1/7.1))\n",
    "df_skew.skew()"
   ]
  },
  {
   "cell_type": "code",
   "execution_count": 55,
   "id": "3e5bb1cb",
   "metadata": {},
   "outputs": [],
   "source": [
    "#Encoding continuos variables by get dummies\n",
    "\n",
    "df_cat_2=df.select_dtypes('object')\n",
    "df_cat=pd.get_dummies(df_cat_2,drop_first=True)"
   ]
  },
  {
   "cell_type": "code",
   "execution_count": 67,
   "id": "1fa8833b",
   "metadata": {},
   "outputs": [
    {
     "data": {
      "text/plain": [
       "<bound method NDFrame.head of        Manufacturer_Non-Luxary  Category_Jeep  Category_Minivan  \\\n",
       "0                            0              1                 0   \n",
       "2                            1              0                 0   \n",
       "3                            1              1                 0   \n",
       "4                            1              0                 0   \n",
       "5                            1              1                 0   \n",
       "...                        ...            ...               ...   \n",
       "19232                        0              0                 0   \n",
       "19233                        1              0                 0   \n",
       "19234                        1              1                 0   \n",
       "19235                        1              1                 0   \n",
       "19236                        1              0                 0   \n",
       "\n",
       "       Category_Other  Category_Sedan  Leather interior_Yes  Fuel type_Hybrid  \\\n",
       "0                   0               0                     1                 1   \n",
       "2                   0               0                     0                 0   \n",
       "3                   0               0                     1                 1   \n",
       "4                   0               0                     1                 0   \n",
       "5                   0               0                     1                 0   \n",
       "...               ...             ...                   ...               ...   \n",
       "19232               1               0                     1                 0   \n",
       "19233               0               1                     1                 0   \n",
       "19234               0               0                     1                 0   \n",
       "19235               0               0                     1                 0   \n",
       "19236               0               1                     1                 1   \n",
       "\n",
       "       Fuel type_Other  Fuel type_Petrol  Gear box type_Manual  ...  \\\n",
       "0                    0                 0                     0  ...   \n",
       "2                    0                 1                     0  ...   \n",
       "3                    0                 0                     0  ...   \n",
       "4                    0                 1                     0  ...   \n",
       "5                    0                 0                     0  ...   \n",
       "...                ...               ...                   ...  ...   \n",
       "19232                1                 0                     1  ...   \n",
       "19233                0                 1                     0  ...   \n",
       "19234                0                 0                     0  ...   \n",
       "19235                0                 0                     0  ...   \n",
       "19236                0                 0                     0  ...   \n",
       "\n",
       "       Drive wheels_Front  Drive wheels_Rear  Doors_4-5  Doors_<=5  \\\n",
       "0                       0                  0          1          0   \n",
       "2                       1                  0          1          0   \n",
       "3                       0                  0          1          0   \n",
       "4                       1                  0          1          0   \n",
       "5                       1                  0          1          0   \n",
       "...                   ...                ...        ...        ...   \n",
       "19232                   0                  1          0          0   \n",
       "19233                   1                  0          1          0   \n",
       "19234                   1                  0          1          0   \n",
       "19235                   1                  0          1          0   \n",
       "19236                   1                  0          1          0   \n",
       "\n",
       "       Wheel_Right-hand drive  Color_Blue  Color_Grey  Color_Other  \\\n",
       "0                           0           0           0            0   \n",
       "2                           1           0           0            0   \n",
       "3                           0           0           0            0   \n",
       "4                           0           0           0            0   \n",
       "5                           0           0           0            0   \n",
       "...                       ...         ...         ...          ...   \n",
       "19232                       0           0           0            0   \n",
       "19233                       0           0           0            1   \n",
       "19234                       0           0           1            0   \n",
       "19235                       0           0           0            0   \n",
       "19236                       0           0           0            0   \n",
       "\n",
       "       Color_Silver  Color_White  \n",
       "0                 1            0  \n",
       "2                 0            0  \n",
       "3                 0            1  \n",
       "4                 1            0  \n",
       "5                 0            1  \n",
       "...             ...          ...  \n",
       "19232             1            0  \n",
       "19233             0            0  \n",
       "19234             0            0  \n",
       "19235             0            0  \n",
       "19236             0            1  \n",
       "\n",
       "[18695 rows x 22 columns]>"
      ]
     },
     "execution_count": 67,
     "metadata": {},
     "output_type": "execute_result"
    }
   ],
   "source": [
    "df_cat.head"
   ]
  },
  {
   "cell_type": "code",
   "execution_count": 68,
   "id": "49e12f10",
   "metadata": {},
   "outputs": [
    {
     "data": {
      "text/html": [
       "<div>\n",
       "<style scoped>\n",
       "    .dataframe tbody tr th:only-of-type {\n",
       "        vertical-align: middle;\n",
       "    }\n",
       "\n",
       "    .dataframe tbody tr th {\n",
       "        vertical-align: top;\n",
       "    }\n",
       "\n",
       "    .dataframe thead th {\n",
       "        text-align: right;\n",
       "    }\n",
       "</style>\n",
       "<table border=\"1\" class=\"dataframe\">\n",
       "  <thead>\n",
       "    <tr style=\"text-align: right;\">\n",
       "      <th></th>\n",
       "      <th>Price</th>\n",
       "      <th>Levy</th>\n",
       "      <th>Engine volume</th>\n",
       "      <th>Mileage</th>\n",
       "      <th>Cylinders</th>\n",
       "      <th>Age</th>\n",
       "      <th>Airbags</th>\n",
       "      <th>Manufacturer</th>\n",
       "      <th>Category</th>\n",
       "      <th>Leather interior</th>\n",
       "      <th>Fuel type</th>\n",
       "      <th>Gear box type</th>\n",
       "      <th>Drive wheels</th>\n",
       "      <th>Doors</th>\n",
       "      <th>Wheel</th>\n",
       "      <th>Color</th>\n",
       "    </tr>\n",
       "  </thead>\n",
       "  <tbody>\n",
       "    <tr>\n",
       "      <th>0</th>\n",
       "      <td>13328</td>\n",
       "      <td>2.773786</td>\n",
       "      <td>1.192969</td>\n",
       "      <td>5.523147</td>\n",
       "      <td>1.287060</td>\n",
       "      <td>1.401764</td>\n",
       "      <td>12</td>\n",
       "      <td>Luxary</td>\n",
       "      <td>Jeep</td>\n",
       "      <td>Yes</td>\n",
       "      <td>Hybrid</td>\n",
       "      <td>Automatic</td>\n",
       "      <td>4x4</td>\n",
       "      <td>4-5</td>\n",
       "      <td>Left wheel</td>\n",
       "      <td>Silver</td>\n",
       "    </tr>\n",
       "    <tr>\n",
       "      <th>2</th>\n",
       "      <td>8467</td>\n",
       "      <td>0.000000</td>\n",
       "      <td>1.037644</td>\n",
       "      <td>5.579868</td>\n",
       "      <td>1.215618</td>\n",
       "      <td>1.464356</td>\n",
       "      <td>2</td>\n",
       "      <td>Non-Luxary</td>\n",
       "      <td>Hatchback</td>\n",
       "      <td>No</td>\n",
       "      <td>Petrol</td>\n",
       "      <td>Variator</td>\n",
       "      <td>Front</td>\n",
       "      <td>4-5</td>\n",
       "      <td>Right-hand drive</td>\n",
       "      <td>Black</td>\n",
       "    </tr>\n",
       "    <tr>\n",
       "      <th>3</th>\n",
       "      <td>3607</td>\n",
       "      <td>2.590906</td>\n",
       "      <td>1.137753</td>\n",
       "      <td>5.448912</td>\n",
       "      <td>1.215618</td>\n",
       "      <td>1.383073</td>\n",
       "      <td>0</td>\n",
       "      <td>Non-Luxary</td>\n",
       "      <td>Jeep</td>\n",
       "      <td>Yes</td>\n",
       "      <td>Hybrid</td>\n",
       "      <td>Automatic</td>\n",
       "      <td>4x4</td>\n",
       "      <td>4-5</td>\n",
       "      <td>Left wheel</td>\n",
       "      <td>White</td>\n",
       "    </tr>\n",
       "    <tr>\n",
       "      <th>4</th>\n",
       "      <td>11726</td>\n",
       "      <td>2.361271</td>\n",
       "      <td>1.037644</td>\n",
       "      <td>5.001027</td>\n",
       "      <td>1.215618</td>\n",
       "      <td>1.315309</td>\n",
       "      <td>4</td>\n",
       "      <td>Non-Luxary</td>\n",
       "      <td>Hatchback</td>\n",
       "      <td>Yes</td>\n",
       "      <td>Petrol</td>\n",
       "      <td>Automatic</td>\n",
       "      <td>Front</td>\n",
       "      <td>4-5</td>\n",
       "      <td>Left wheel</td>\n",
       "      <td>Silver</td>\n",
       "    </tr>\n",
       "    <tr>\n",
       "      <th>5</th>\n",
       "      <td>39493</td>\n",
       "      <td>2.603009</td>\n",
       "      <td>1.102551</td>\n",
       "      <td>5.411648</td>\n",
       "      <td>1.215618</td>\n",
       "      <td>1.254430</td>\n",
       "      <td>4</td>\n",
       "      <td>Non-Luxary</td>\n",
       "      <td>Jeep</td>\n",
       "      <td>Yes</td>\n",
       "      <td>Diesel</td>\n",
       "      <td>Automatic</td>\n",
       "      <td>Front</td>\n",
       "      <td>4-5</td>\n",
       "      <td>Left wheel</td>\n",
       "      <td>White</td>\n",
       "    </tr>\n",
       "  </tbody>\n",
       "</table>\n",
       "</div>"
      ],
      "text/plain": [
       "   Price      Levy  Engine volume   Mileage  Cylinders       Age  Airbags  \\\n",
       "0  13328  2.773786       1.192969  5.523147   1.287060  1.401764       12   \n",
       "2   8467  0.000000       1.037644  5.579868   1.215618  1.464356        2   \n",
       "3   3607  2.590906       1.137753  5.448912   1.215618  1.383073        0   \n",
       "4  11726  2.361271       1.037644  5.001027   1.215618  1.315309        4   \n",
       "5  39493  2.603009       1.102551  5.411648   1.215618  1.254430        4   \n",
       "\n",
       "  Manufacturer   Category Leather interior Fuel type Gear box type  \\\n",
       "0       Luxary       Jeep              Yes    Hybrid     Automatic   \n",
       "2   Non-Luxary  Hatchback               No    Petrol      Variator   \n",
       "3   Non-Luxary       Jeep              Yes    Hybrid     Automatic   \n",
       "4   Non-Luxary  Hatchback              Yes    Petrol     Automatic   \n",
       "5   Non-Luxary       Jeep              Yes    Diesel     Automatic   \n",
       "\n",
       "  Drive wheels Doors             Wheel   Color  \n",
       "0          4x4   4-5        Left wheel  Silver  \n",
       "2        Front   4-5  Right-hand drive   Black  \n",
       "3          4x4   4-5        Left wheel   White  \n",
       "4        Front   4-5        Left wheel  Silver  \n",
       "5        Front   4-5        Left wheel   White  "
      ]
     },
     "execution_count": 68,
     "metadata": {},
     "output_type": "execute_result"
    }
   ],
   "source": [
    "#Concatenating all the variables\n",
    "\n",
    "df_fin=pd.concat([df['Price'],df_skew,df['Airbags'],df_cat_2],axis=1)\n",
    "df_fin.head()"
   ]
  },
  {
   "cell_type": "code",
   "execution_count": 57,
   "id": "59c0758a",
   "metadata": {},
   "outputs": [],
   "source": [
    "#RFE_model=RFE(DecisionTreeRegressor(),n_features_to_select=4)\n",
    "#RFE_model=RFE_model.fit(X.iloc[0:,0:5],y)"
   ]
  },
  {
   "cell_type": "code",
   "execution_count": 58,
   "id": "bd500b67",
   "metadata": {},
   "outputs": [],
   "source": [
    "#feat_index = pd.Series(data = RFE_model.ranking_, index = X.iloc[0:,0:5].columns)\n",
    "#significant_features = feat_index[feat_index == 1].index\n",
    "#significant_features"
   ]
  },
  {
   "cell_type": "code",
   "execution_count": 59,
   "id": "2cd78966",
   "metadata": {},
   "outputs": [],
   "source": [
    "#Initiating variables to X,y\n",
    "\n",
    "X=df_fin.drop('Price',axis=1)\n",
    "y=df_fin['Price']"
   ]
  },
  {
   "cell_type": "code",
   "execution_count": 61,
   "id": "cee731bf",
   "metadata": {},
   "outputs": [],
   "source": [
    "#Splitting the dataset in 70:30\n",
    "from sklearn.model_selection import train_test_split\n",
    "X_train,X_test,y_train,y_test=train_test_split(X,y,random_state=1,test_size=0.3)"
   ]
  },
  {
   "cell_type": "code",
   "execution_count": 62,
   "id": "6ba16d15",
   "metadata": {},
   "outputs": [
    {
     "name": "stdout",
     "output_type": "stream",
     "text": [
      "69.99732548809843\n",
      "30.002674511901578\n"
     ]
    }
   ],
   "source": [
    "#Checking the data split for X variable\n",
    "\n",
    "print(X_train.shape[0]/len(df_fin)*100)\n",
    "print(X_test.shape[0]/len(df_fin)*100)"
   ]
  },
  {
   "cell_type": "code",
   "execution_count": 69,
   "id": "a30b6a0e",
   "metadata": {},
   "outputs": [
    {
     "data": {
      "text/html": [
       "<div>\n",
       "<style scoped>\n",
       "    .dataframe tbody tr th:only-of-type {\n",
       "        vertical-align: middle;\n",
       "    }\n",
       "\n",
       "    .dataframe tbody tr th {\n",
       "        vertical-align: top;\n",
       "    }\n",
       "\n",
       "    .dataframe thead th {\n",
       "        text-align: right;\n",
       "    }\n",
       "</style>\n",
       "<table border=\"1\" class=\"dataframe\">\n",
       "  <thead>\n",
       "    <tr style=\"text-align: right;\">\n",
       "      <th></th>\n",
       "      <th>Levy</th>\n",
       "      <th>Engine volume</th>\n",
       "      <th>Mileage</th>\n",
       "      <th>Cylinders</th>\n",
       "      <th>Age</th>\n",
       "      <th>Airbags</th>\n",
       "      <th>Manufacturer</th>\n",
       "      <th>Category</th>\n",
       "      <th>Leather interior</th>\n",
       "      <th>Fuel type</th>\n",
       "      <th>Gear box type</th>\n",
       "      <th>Drive wheels</th>\n",
       "      <th>Doors</th>\n",
       "      <th>Wheel</th>\n",
       "      <th>Color</th>\n",
       "    </tr>\n",
       "  </thead>\n",
       "  <tbody>\n",
       "    <tr>\n",
       "      <th>8153</th>\n",
       "      <td>0.000000</td>\n",
       "      <td>1.117451</td>\n",
       "      <td>5.222454</td>\n",
       "      <td>1.215618</td>\n",
       "      <td>1.362700</td>\n",
       "      <td>1</td>\n",
       "      <td>Non-Luxary</td>\n",
       "      <td>Other</td>\n",
       "      <td>No</td>\n",
       "      <td>Diesel</td>\n",
       "      <td>Manual</td>\n",
       "      <td>Front</td>\n",
       "      <td>4-5</td>\n",
       "      <td>Left wheel</td>\n",
       "      <td>White</td>\n",
       "    </tr>\n",
       "    <tr>\n",
       "      <th>12677</th>\n",
       "      <td>2.553298</td>\n",
       "      <td>1.137753</td>\n",
       "      <td>5.513586</td>\n",
       "      <td>1.215618</td>\n",
       "      <td>1.315309</td>\n",
       "      <td>4</td>\n",
       "      <td>Non-Luxary</td>\n",
       "      <td>Minivan</td>\n",
       "      <td>Yes</td>\n",
       "      <td>Diesel</td>\n",
       "      <td>Automatic</td>\n",
       "      <td>Front</td>\n",
       "      <td>4-5</td>\n",
       "      <td>Left wheel</td>\n",
       "      <td>Silver</td>\n",
       "    </tr>\n",
       "    <tr>\n",
       "      <th>9157</th>\n",
       "      <td>2.753220</td>\n",
       "      <td>1.215618</td>\n",
       "      <td>4.901114</td>\n",
       "      <td>1.287060</td>\n",
       "      <td>1.383073</td>\n",
       "      <td>6</td>\n",
       "      <td>Non-Luxary</td>\n",
       "      <td>Jeep</td>\n",
       "      <td>Yes</td>\n",
       "      <td>Petrol</td>\n",
       "      <td>Automatic</td>\n",
       "      <td>4x4</td>\n",
       "      <td>4-5</td>\n",
       "      <td>Left wheel</td>\n",
       "      <td>Silver</td>\n",
       "    </tr>\n",
       "    <tr>\n",
       "      <th>4476</th>\n",
       "      <td>2.554223</td>\n",
       "      <td>1.137753</td>\n",
       "      <td>5.675015</td>\n",
       "      <td>1.215618</td>\n",
       "      <td>1.340281</td>\n",
       "      <td>12</td>\n",
       "      <td>Non-Luxary</td>\n",
       "      <td>Sedan</td>\n",
       "      <td>Yes</td>\n",
       "      <td>Hybrid</td>\n",
       "      <td>Automatic</td>\n",
       "      <td>Front</td>\n",
       "      <td>4-5</td>\n",
       "      <td>Left wheel</td>\n",
       "      <td>White</td>\n",
       "    </tr>\n",
       "    <tr>\n",
       "      <th>2397</th>\n",
       "      <td>2.705474</td>\n",
       "      <td>1.192969</td>\n",
       "      <td>6.019376</td>\n",
       "      <td>1.287060</td>\n",
       "      <td>1.383073</td>\n",
       "      <td>12</td>\n",
       "      <td>Non-Luxary</td>\n",
       "      <td>Jeep</td>\n",
       "      <td>Yes</td>\n",
       "      <td>Hybrid</td>\n",
       "      <td>Automatic</td>\n",
       "      <td>4x4</td>\n",
       "      <td>4-5</td>\n",
       "      <td>Left wheel</td>\n",
       "      <td>Black</td>\n",
       "    </tr>\n",
       "  </tbody>\n",
       "</table>\n",
       "</div>"
      ],
      "text/plain": [
       "           Levy  Engine volume   Mileage  Cylinders       Age  Airbags  \\\n",
       "8153   0.000000       1.117451  5.222454   1.215618  1.362700        1   \n",
       "12677  2.553298       1.137753  5.513586   1.215618  1.315309        4   \n",
       "9157   2.753220       1.215618  4.901114   1.287060  1.383073        6   \n",
       "4476   2.554223       1.137753  5.675015   1.215618  1.340281       12   \n",
       "2397   2.705474       1.192969  6.019376   1.287060  1.383073       12   \n",
       "\n",
       "      Manufacturer Category Leather interior Fuel type Gear box type  \\\n",
       "8153    Non-Luxary    Other               No    Diesel        Manual   \n",
       "12677   Non-Luxary  Minivan              Yes    Diesel     Automatic   \n",
       "9157    Non-Luxary     Jeep              Yes    Petrol     Automatic   \n",
       "4476    Non-Luxary    Sedan              Yes    Hybrid     Automatic   \n",
       "2397    Non-Luxary     Jeep              Yes    Hybrid     Automatic   \n",
       "\n",
       "      Drive wheels Doors       Wheel   Color  \n",
       "8153         Front   4-5  Left wheel   White  \n",
       "12677        Front   4-5  Left wheel  Silver  \n",
       "9157           4x4   4-5  Left wheel  Silver  \n",
       "4476         Front   4-5  Left wheel   White  \n",
       "2397           4x4   4-5  Left wheel   Black  "
      ]
     },
     "execution_count": 69,
     "metadata": {},
     "output_type": "execute_result"
    }
   ],
   "source": [
    "X_train.head()"
   ]
  },
  {
   "cell_type": "code",
   "execution_count": 63,
   "id": "9f2fb4c7",
   "metadata": {},
   "outputs": [
    {
     "name": "stdout",
     "output_type": "stream",
     "text": [
      "69.99732548809843\n",
      "30.002674511901578\n"
     ]
    }
   ],
   "source": [
    "#Checking the data split for y variable\n",
    "\n",
    "print(y_train.shape[0]/len(df_fin)*100)\n",
    "print(y_test.shape[0]/len(df_fin)*100)"
   ]
  },
  {
   "cell_type": "code",
   "execution_count": 64,
   "id": "9df4a5ce",
   "metadata": {},
   "outputs": [],
   "source": [
    "#importing Libraries\n",
    "\n",
    "from sklearn.model_selection import train_test_split\n",
    "from sklearn.tree import DecisionTreeRegressor\n",
    "from sklearn.ensemble import RandomForestRegressor\n",
    "from sklearn.ensemble import AdaBoostRegressor\n",
    "from sklearn.ensemble import GradientBoostingRegressor\n",
    "from sklearn.feature_selection import RFE\n",
    "from xgboost import XGBRegressor\n",
    "from sklearn.model_selection import GridSearchCV\n",
    "from sklearn.metrics import mean_absolute_error,mean_absolute_percentage_error,r2_score"
   ]
  },
  {
   "cell_type": "code",
   "execution_count": 65,
   "id": "3bcb70fb",
   "metadata": {},
   "outputs": [
    {
     "name": "stdout",
     "output_type": "stream",
     "text": [
      "Requirement already satisfied: xgboost in /Users/adityajadon/opt/anaconda3/lib/python3.8/site-packages (1.6.1)\n",
      "Requirement already satisfied: scipy in /Users/adityajadon/opt/anaconda3/lib/python3.8/site-packages (from xgboost) (1.6.2)\n",
      "Requirement already satisfied: numpy in /Users/adityajadon/opt/anaconda3/lib/python3.8/site-packages (from xgboost) (1.20.1)\n",
      "Note: you may need to restart the kernel to use updated packages.\n"
     ]
    }
   ],
   "source": [
    "pip install xgboost"
   ]
  },
  {
   "cell_type": "markdown",
   "id": "f6304018",
   "metadata": {},
   "source": [
    "# DECISION TREE REGRESSOR BASE MODEL"
   ]
  },
  {
   "cell_type": "code",
   "execution_count": 66,
   "id": "a3727ab9",
   "metadata": {},
   "outputs": [
    {
     "ename": "ValueError",
     "evalue": "could not convert string to float: 'Non-Luxary'",
     "output_type": "error",
     "traceback": [
      "\u001b[0;31m---------------------------------------------------------------------------\u001b[0m",
      "\u001b[0;31mValueError\u001b[0m                                Traceback (most recent call last)",
      "\u001b[0;32m<ipython-input-66-af63470a38d3>\u001b[0m in \u001b[0;36m<module>\u001b[0;34m\u001b[0m\n\u001b[1;32m      5\u001b[0m \u001b[0;31m#fitting the model\u001b[0m\u001b[0;34m\u001b[0m\u001b[0;34m\u001b[0m\u001b[0;34m\u001b[0m\u001b[0m\n\u001b[1;32m      6\u001b[0m \u001b[0;34m\u001b[0m\u001b[0m\n\u001b[0;32m----> 7\u001b[0;31m \u001b[0mDTR_model\u001b[0m\u001b[0;34m=\u001b[0m\u001b[0mDTR\u001b[0m\u001b[0;34m.\u001b[0m\u001b[0mfit\u001b[0m\u001b[0;34m(\u001b[0m\u001b[0mX_train\u001b[0m\u001b[0;34m,\u001b[0m\u001b[0my_train\u001b[0m\u001b[0;34m)\u001b[0m\u001b[0;34m\u001b[0m\u001b[0;34m\u001b[0m\u001b[0m\n\u001b[0m\u001b[1;32m      8\u001b[0m \u001b[0;34m\u001b[0m\u001b[0m\n\u001b[1;32m      9\u001b[0m \u001b[0;31m#Checking the train score\u001b[0m\u001b[0;34m\u001b[0m\u001b[0;34m\u001b[0m\u001b[0;34m\u001b[0m\u001b[0m\n",
      "\u001b[0;32m~/opt/anaconda3/lib/python3.8/site-packages/sklearn/tree/_classes.py\u001b[0m in \u001b[0;36mfit\u001b[0;34m(self, X, y, sample_weight, check_input)\u001b[0m\n\u001b[1;32m   1340\u001b[0m         \"\"\"\n\u001b[1;32m   1341\u001b[0m \u001b[0;34m\u001b[0m\u001b[0m\n\u001b[0;32m-> 1342\u001b[0;31m         super().fit(\n\u001b[0m\u001b[1;32m   1343\u001b[0m             \u001b[0mX\u001b[0m\u001b[0;34m,\u001b[0m\u001b[0;34m\u001b[0m\u001b[0;34m\u001b[0m\u001b[0m\n\u001b[1;32m   1344\u001b[0m             \u001b[0my\u001b[0m\u001b[0;34m,\u001b[0m\u001b[0;34m\u001b[0m\u001b[0;34m\u001b[0m\u001b[0m\n",
      "\u001b[0;32m~/opt/anaconda3/lib/python3.8/site-packages/sklearn/tree/_classes.py\u001b[0m in \u001b[0;36mfit\u001b[0;34m(self, X, y, sample_weight, check_input)\u001b[0m\n\u001b[1;32m    170\u001b[0m             \u001b[0mcheck_X_params\u001b[0m \u001b[0;34m=\u001b[0m \u001b[0mdict\u001b[0m\u001b[0;34m(\u001b[0m\u001b[0mdtype\u001b[0m\u001b[0;34m=\u001b[0m\u001b[0mDTYPE\u001b[0m\u001b[0;34m,\u001b[0m \u001b[0maccept_sparse\u001b[0m\u001b[0;34m=\u001b[0m\u001b[0;34m\"csc\"\u001b[0m\u001b[0;34m)\u001b[0m\u001b[0;34m\u001b[0m\u001b[0;34m\u001b[0m\u001b[0m\n\u001b[1;32m    171\u001b[0m             \u001b[0mcheck_y_params\u001b[0m \u001b[0;34m=\u001b[0m \u001b[0mdict\u001b[0m\u001b[0;34m(\u001b[0m\u001b[0mensure_2d\u001b[0m\u001b[0;34m=\u001b[0m\u001b[0;32mFalse\u001b[0m\u001b[0;34m,\u001b[0m \u001b[0mdtype\u001b[0m\u001b[0;34m=\u001b[0m\u001b[0;32mNone\u001b[0m\u001b[0;34m)\u001b[0m\u001b[0;34m\u001b[0m\u001b[0;34m\u001b[0m\u001b[0m\n\u001b[0;32m--> 172\u001b[0;31m             X, y = self._validate_data(\n\u001b[0m\u001b[1;32m    173\u001b[0m                 \u001b[0mX\u001b[0m\u001b[0;34m,\u001b[0m \u001b[0my\u001b[0m\u001b[0;34m,\u001b[0m \u001b[0mvalidate_separately\u001b[0m\u001b[0;34m=\u001b[0m\u001b[0;34m(\u001b[0m\u001b[0mcheck_X_params\u001b[0m\u001b[0;34m,\u001b[0m \u001b[0mcheck_y_params\u001b[0m\u001b[0;34m)\u001b[0m\u001b[0;34m\u001b[0m\u001b[0;34m\u001b[0m\u001b[0m\n\u001b[1;32m    174\u001b[0m             )\n",
      "\u001b[0;32m~/opt/anaconda3/lib/python3.8/site-packages/sklearn/base.py\u001b[0m in \u001b[0;36m_validate_data\u001b[0;34m(self, X, y, reset, validate_separately, **check_params)\u001b[0m\n\u001b[1;32m    589\u001b[0m                 \u001b[0;32mif\u001b[0m \u001b[0;34m\"estimator\"\u001b[0m \u001b[0;32mnot\u001b[0m \u001b[0;32min\u001b[0m \u001b[0mcheck_X_params\u001b[0m\u001b[0;34m:\u001b[0m\u001b[0;34m\u001b[0m\u001b[0;34m\u001b[0m\u001b[0m\n\u001b[1;32m    590\u001b[0m                     \u001b[0mcheck_X_params\u001b[0m \u001b[0;34m=\u001b[0m \u001b[0;34m{\u001b[0m\u001b[0;34m**\u001b[0m\u001b[0mdefault_check_params\u001b[0m\u001b[0;34m,\u001b[0m \u001b[0;34m**\u001b[0m\u001b[0mcheck_X_params\u001b[0m\u001b[0;34m}\u001b[0m\u001b[0;34m\u001b[0m\u001b[0;34m\u001b[0m\u001b[0m\n\u001b[0;32m--> 591\u001b[0;31m                 \u001b[0mX\u001b[0m \u001b[0;34m=\u001b[0m \u001b[0mcheck_array\u001b[0m\u001b[0;34m(\u001b[0m\u001b[0mX\u001b[0m\u001b[0;34m,\u001b[0m \u001b[0minput_name\u001b[0m\u001b[0;34m=\u001b[0m\u001b[0;34m\"X\"\u001b[0m\u001b[0;34m,\u001b[0m \u001b[0;34m**\u001b[0m\u001b[0mcheck_X_params\u001b[0m\u001b[0;34m)\u001b[0m\u001b[0;34m\u001b[0m\u001b[0;34m\u001b[0m\u001b[0m\n\u001b[0m\u001b[1;32m    592\u001b[0m                 \u001b[0;32mif\u001b[0m \u001b[0;34m\"estimator\"\u001b[0m \u001b[0;32mnot\u001b[0m \u001b[0;32min\u001b[0m \u001b[0mcheck_y_params\u001b[0m\u001b[0;34m:\u001b[0m\u001b[0;34m\u001b[0m\u001b[0;34m\u001b[0m\u001b[0m\n\u001b[1;32m    593\u001b[0m                     \u001b[0mcheck_y_params\u001b[0m \u001b[0;34m=\u001b[0m \u001b[0;34m{\u001b[0m\u001b[0;34m**\u001b[0m\u001b[0mdefault_check_params\u001b[0m\u001b[0;34m,\u001b[0m \u001b[0;34m**\u001b[0m\u001b[0mcheck_y_params\u001b[0m\u001b[0;34m}\u001b[0m\u001b[0;34m\u001b[0m\u001b[0;34m\u001b[0m\u001b[0m\n",
      "\u001b[0;32m~/opt/anaconda3/lib/python3.8/site-packages/sklearn/utils/validation.py\u001b[0m in \u001b[0;36mcheck_array\u001b[0;34m(array, accept_sparse, accept_large_sparse, dtype, order, copy, force_all_finite, ensure_2d, allow_nd, ensure_min_samples, ensure_min_features, estimator, input_name)\u001b[0m\n\u001b[1;32m    854\u001b[0m                     \u001b[0marray\u001b[0m \u001b[0;34m=\u001b[0m \u001b[0marray\u001b[0m\u001b[0;34m.\u001b[0m\u001b[0mastype\u001b[0m\u001b[0;34m(\u001b[0m\u001b[0mdtype\u001b[0m\u001b[0;34m,\u001b[0m \u001b[0mcasting\u001b[0m\u001b[0;34m=\u001b[0m\u001b[0;34m\"unsafe\"\u001b[0m\u001b[0;34m,\u001b[0m \u001b[0mcopy\u001b[0m\u001b[0;34m=\u001b[0m\u001b[0;32mFalse\u001b[0m\u001b[0;34m)\u001b[0m\u001b[0;34m\u001b[0m\u001b[0;34m\u001b[0m\u001b[0m\n\u001b[1;32m    855\u001b[0m                 \u001b[0;32melse\u001b[0m\u001b[0;34m:\u001b[0m\u001b[0;34m\u001b[0m\u001b[0;34m\u001b[0m\u001b[0m\n\u001b[0;32m--> 856\u001b[0;31m                     \u001b[0marray\u001b[0m \u001b[0;34m=\u001b[0m \u001b[0mnp\u001b[0m\u001b[0;34m.\u001b[0m\u001b[0masarray\u001b[0m\u001b[0;34m(\u001b[0m\u001b[0marray\u001b[0m\u001b[0;34m,\u001b[0m \u001b[0morder\u001b[0m\u001b[0;34m=\u001b[0m\u001b[0morder\u001b[0m\u001b[0;34m,\u001b[0m \u001b[0mdtype\u001b[0m\u001b[0;34m=\u001b[0m\u001b[0mdtype\u001b[0m\u001b[0;34m)\u001b[0m\u001b[0;34m\u001b[0m\u001b[0;34m\u001b[0m\u001b[0m\n\u001b[0m\u001b[1;32m    857\u001b[0m             \u001b[0;32mexcept\u001b[0m \u001b[0mComplexWarning\u001b[0m \u001b[0;32mas\u001b[0m \u001b[0mcomplex_warning\u001b[0m\u001b[0;34m:\u001b[0m\u001b[0;34m\u001b[0m\u001b[0;34m\u001b[0m\u001b[0m\n\u001b[1;32m    858\u001b[0m                 raise ValueError(\n",
      "\u001b[0;32m~/opt/anaconda3/lib/python3.8/site-packages/numpy/core/_asarray.py\u001b[0m in \u001b[0;36masarray\u001b[0;34m(a, dtype, order, like)\u001b[0m\n\u001b[1;32m    100\u001b[0m         \u001b[0;32mreturn\u001b[0m \u001b[0m_asarray_with_like\u001b[0m\u001b[0;34m(\u001b[0m\u001b[0ma\u001b[0m\u001b[0;34m,\u001b[0m \u001b[0mdtype\u001b[0m\u001b[0;34m=\u001b[0m\u001b[0mdtype\u001b[0m\u001b[0;34m,\u001b[0m \u001b[0morder\u001b[0m\u001b[0;34m=\u001b[0m\u001b[0morder\u001b[0m\u001b[0;34m,\u001b[0m \u001b[0mlike\u001b[0m\u001b[0;34m=\u001b[0m\u001b[0mlike\u001b[0m\u001b[0;34m)\u001b[0m\u001b[0;34m\u001b[0m\u001b[0;34m\u001b[0m\u001b[0m\n\u001b[1;32m    101\u001b[0m \u001b[0;34m\u001b[0m\u001b[0m\n\u001b[0;32m--> 102\u001b[0;31m     \u001b[0;32mreturn\u001b[0m \u001b[0marray\u001b[0m\u001b[0;34m(\u001b[0m\u001b[0ma\u001b[0m\u001b[0;34m,\u001b[0m \u001b[0mdtype\u001b[0m\u001b[0;34m,\u001b[0m \u001b[0mcopy\u001b[0m\u001b[0;34m=\u001b[0m\u001b[0;32mFalse\u001b[0m\u001b[0;34m,\u001b[0m \u001b[0morder\u001b[0m\u001b[0;34m=\u001b[0m\u001b[0morder\u001b[0m\u001b[0;34m)\u001b[0m\u001b[0;34m\u001b[0m\u001b[0;34m\u001b[0m\u001b[0m\n\u001b[0m\u001b[1;32m    103\u001b[0m \u001b[0;34m\u001b[0m\u001b[0m\n\u001b[1;32m    104\u001b[0m \u001b[0;34m\u001b[0m\u001b[0m\n",
      "\u001b[0;32m~/opt/anaconda3/lib/python3.8/site-packages/pandas/core/generic.py\u001b[0m in \u001b[0;36m__array__\u001b[0;34m(self, dtype)\u001b[0m\n\u001b[1;32m   1897\u001b[0m \u001b[0;34m\u001b[0m\u001b[0m\n\u001b[1;32m   1898\u001b[0m     \u001b[0;32mdef\u001b[0m \u001b[0m__array__\u001b[0m\u001b[0;34m(\u001b[0m\u001b[0mself\u001b[0m\u001b[0;34m,\u001b[0m \u001b[0mdtype\u001b[0m\u001b[0;34m=\u001b[0m\u001b[0;32mNone\u001b[0m\u001b[0;34m)\u001b[0m \u001b[0;34m->\u001b[0m \u001b[0mnp\u001b[0m\u001b[0;34m.\u001b[0m\u001b[0mndarray\u001b[0m\u001b[0;34m:\u001b[0m\u001b[0;34m\u001b[0m\u001b[0;34m\u001b[0m\u001b[0m\n\u001b[0;32m-> 1899\u001b[0;31m         \u001b[0;32mreturn\u001b[0m \u001b[0mnp\u001b[0m\u001b[0;34m.\u001b[0m\u001b[0masarray\u001b[0m\u001b[0;34m(\u001b[0m\u001b[0mself\u001b[0m\u001b[0;34m.\u001b[0m\u001b[0m_values\u001b[0m\u001b[0;34m,\u001b[0m \u001b[0mdtype\u001b[0m\u001b[0;34m=\u001b[0m\u001b[0mdtype\u001b[0m\u001b[0;34m)\u001b[0m\u001b[0;34m\u001b[0m\u001b[0;34m\u001b[0m\u001b[0m\n\u001b[0m\u001b[1;32m   1900\u001b[0m \u001b[0;34m\u001b[0m\u001b[0m\n\u001b[1;32m   1901\u001b[0m     def __array_wrap__(\n",
      "\u001b[0;32m~/opt/anaconda3/lib/python3.8/site-packages/numpy/core/_asarray.py\u001b[0m in \u001b[0;36masarray\u001b[0;34m(a, dtype, order, like)\u001b[0m\n\u001b[1;32m    100\u001b[0m         \u001b[0;32mreturn\u001b[0m \u001b[0m_asarray_with_like\u001b[0m\u001b[0;34m(\u001b[0m\u001b[0ma\u001b[0m\u001b[0;34m,\u001b[0m \u001b[0mdtype\u001b[0m\u001b[0;34m=\u001b[0m\u001b[0mdtype\u001b[0m\u001b[0;34m,\u001b[0m \u001b[0morder\u001b[0m\u001b[0;34m=\u001b[0m\u001b[0morder\u001b[0m\u001b[0;34m,\u001b[0m \u001b[0mlike\u001b[0m\u001b[0;34m=\u001b[0m\u001b[0mlike\u001b[0m\u001b[0;34m)\u001b[0m\u001b[0;34m\u001b[0m\u001b[0;34m\u001b[0m\u001b[0m\n\u001b[1;32m    101\u001b[0m \u001b[0;34m\u001b[0m\u001b[0m\n\u001b[0;32m--> 102\u001b[0;31m     \u001b[0;32mreturn\u001b[0m \u001b[0marray\u001b[0m\u001b[0;34m(\u001b[0m\u001b[0ma\u001b[0m\u001b[0;34m,\u001b[0m \u001b[0mdtype\u001b[0m\u001b[0;34m,\u001b[0m \u001b[0mcopy\u001b[0m\u001b[0;34m=\u001b[0m\u001b[0;32mFalse\u001b[0m\u001b[0;34m,\u001b[0m \u001b[0morder\u001b[0m\u001b[0;34m=\u001b[0m\u001b[0morder\u001b[0m\u001b[0;34m)\u001b[0m\u001b[0;34m\u001b[0m\u001b[0;34m\u001b[0m\u001b[0m\n\u001b[0m\u001b[1;32m    103\u001b[0m \u001b[0;34m\u001b[0m\u001b[0m\n\u001b[1;32m    104\u001b[0m \u001b[0;34m\u001b[0m\u001b[0m\n",
      "\u001b[0;31mValueError\u001b[0m: could not convert string to float: 'Non-Luxary'"
     ]
    }
   ],
   "source": [
    "#Assigining object to Decsion Tree\n",
    "\n",
    "DTR=DecisionTreeRegressor(random_state=1)\n",
    "\n",
    "#fitting the model\n",
    "\n",
    "DTR_model=DTR.fit(X_train,y_train)\n",
    "\n",
    "#Checking the train score\n",
    "\n",
    "print('Train r2 score :',DTR_model.score(X_train,y_train))\n",
    "\n",
    "#Checking the test score\n",
    "\n",
    "print('Test r2 score :',DTR_model.score(X_test,y_test))\n",
    "\n",
    "y_pred_DT_tr=DTR_model.predict(X_train)\n",
    "y_pred_DT_ts=DTR_model.predict(X_test)\n",
    "\n",
    "print('MAE train score :',mean_absolute_error(y_train,y_pred_DT_tr))\n",
    "print('MAE test score :',mean_absolute_error(y_test,y_pred_DT_ts))"
   ]
  },
  {
   "cell_type": "code",
   "execution_count": 409,
   "id": "7cd94c25",
   "metadata": {},
   "outputs": [
    {
     "name": "stdout",
     "output_type": "stream",
     "text": [
      "Train r2 score : 0.9908903139294152\n",
      "Test r2 score : 0.0004351542068075087\n",
      "MAE train score : 202.06287114567516\n",
      "MAE test score : 10994.691957906223\n",
      "MAPE train score : 0.08894485610393744\n",
      "MAPE test score : 6.351588073061893\n",
      "RMSE train score : 14.214882030663327\n",
      "RMSE test score : 104.85557666574641\n"
     ]
    }
   ],
   "source": [
    "print('Train r2 score :',DTR_model.score(X_train,y_train))\n",
    "print('Test r2 score :',DTR_model.score(X_test,y_test))\n",
    "print('MAE train score :',mean_absolute_error(y_train,y_pred_DT_tr))\n",
    "print('MAE test score :',mean_absolute_error(y_test,y_pred_DT_ts))\n",
    "print('MAPE train score :',mean_absolute_percentage_error(y_train,y_pred_DT_tr))\n",
    "print('MAPE test score :',mean_absolute_percentage_error(y_test,y_pred_DT_ts))\n",
    "print('RMSE train score :',np.sqrt(mean_absolute_error(y_train,y_pred_DT_tr)))\n",
    "print('RMSE test score :',np.sqrt(mean_absolute_error(y_test,y_pred_DT_ts)))"
   ]
  },
  {
   "cell_type": "code",
   "execution_count": 427,
   "id": "ef48495f",
   "metadata": {},
   "outputs": [],
   "source": [
    "Scorecard_1=pd.DataFrame({'Train_r2':0.99,'Test_r2':0.00,'Train_MAE':202.06,'Test_MAE':10994.69,'Train_MAPE':0.08,'Test_MAPE':6.35,'Train_RMSE':14.21,'Test_RMSE':104.85},index=['DT_Base_Model'])"
   ]
  },
  {
   "cell_type": "markdown",
   "id": "85bd4a65",
   "metadata": {},
   "source": [
    "# REFITTING THE DECSION TREE MODEL USING HYPER PARAMETERS GENERATED BY GRID SEARCH CV"
   ]
  },
  {
   "cell_type": "code",
   "execution_count": 428,
   "id": "246791d3",
   "metadata": {},
   "outputs": [
    {
     "name": "stdout",
     "output_type": "stream",
     "text": [
      "Train r2 score : 0.14707950820916782\n",
      "Test r2 score : -0.00027396392855361107\n",
      "MAE train score : 10590.05533967972\n",
      "MAE test score : 15234.075236599818\n"
     ]
    }
   ],
   "source": [
    "DTR_GSP=DecisionTreeRegressor(max_depth=5,max_features='auto',max_leaf_nodes=None,min_samples_leaf=1,min_weight_fraction_leaf=0.1,splitter='best',random_state=1)\n",
    "\n",
    "#fitting the model\n",
    "\n",
    "DTR_GSP_model=DTR_GSP.fit(X_train,y_train)\n",
    "\n",
    "#Checking the train score\n",
    "\n",
    "print('Train r2 score :',DTR_GSP_model.score(X_train,y_train))\n",
    "\n",
    "#Checking the test score\n",
    "\n",
    "print('Test r2 score :',DTR_GSP_model.score(X_test,y_test))\n",
    "\n",
    "y_pred_DTGS_tr=DTR_GSP_model.predict(X_train)\n",
    "y_pred_DTGS_ts=DTR_GSP_model.predict(X_test)\n",
    "\n",
    "print('MAE train score :',mean_absolute_error(y_train,y_pred_DTGS_tr))\n",
    "print('MAE test score :',mean_absolute_error(y_test,y_pred_DTGS_ts))"
   ]
  },
  {
   "cell_type": "code",
   "execution_count": 429,
   "id": "031f16b8",
   "metadata": {},
   "outputs": [
    {
     "name": "stdout",
     "output_type": "stream",
     "text": [
      "Train r2 score : 0.14707950820916782\n",
      "Test r2 score : -0.00027396392855361107\n",
      "MAE train score : 10590.05533967972\n",
      "MAE test score : 15234.075236599818\n",
      "MAPE train score : 18.24130518769177\n",
      "MAPE test score : 11.410521602853885\n",
      "RMSE train score : 102.90799453725508\n",
      "RMSE test score : 123.42639602856359\n"
     ]
    }
   ],
   "source": [
    "print('Train r2 score :',DTR_GSP_model.score(X_train,y_train))\n",
    "print('Test r2 score :',DTR_GSP_model.score(X_test,y_test))\n",
    "print('MAE train score :',mean_absolute_error(y_train,y_pred_DTGS_tr))\n",
    "print('MAE test score :',mean_absolute_error(y_test,y_pred_DTGS_ts))\n",
    "print('MAPE train score :',mean_absolute_percentage_error(y_train,y_pred_DTGS_tr))\n",
    "print('MAPE test score :',mean_absolute_percentage_error(y_test,y_pred_DTGS_ts))\n",
    "print('RMSE train score :',np.sqrt(mean_absolute_error(y_train,y_pred_DTGS_tr)))\n",
    "print('RMSE test score :',np.sqrt(mean_absolute_error(y_test,y_pred_DTGS_ts)))"
   ]
  },
  {
   "cell_type": "code",
   "execution_count": 430,
   "id": "2c596864",
   "metadata": {},
   "outputs": [],
   "source": [
    "Scorecard_2=pd.DataFrame({'Train_r2':0.14,'Test_r2':-0.00,'Train_MAE':10590.05,'Test_MAE':15234.07,'Train_MAPE':18.24,'Test_MAPE':11.41,'Train_RMSE':102.90,'Test_RMSE':123.42},index=['DT_Tuned_Model'])"
   ]
  },
  {
   "cell_type": "markdown",
   "id": "82a2243a",
   "metadata": {},
   "source": [
    "# RANDOM FORREST REGRESSOR BASE MODEL"
   ]
  },
  {
   "cell_type": "code",
   "execution_count": 373,
   "id": "9e78d4f6",
   "metadata": {},
   "outputs": [
    {
     "name": "stdout",
     "output_type": "stream",
     "text": [
      "Train r2 score : 0.9430025004075697\n",
      "Test r2 score : 0.0008499691190305692\n",
      "MAE train score : 1906.858461385266\n",
      "MAE test score : 9698.965368759262\n"
     ]
    }
   ],
   "source": [
    "#Assigining object to Random Forrest \n",
    "\n",
    "RF=RandomForestRegressor(random_state=1)\n",
    "\n",
    "#fitting the model\n",
    "\n",
    "RF_model=RF.fit(X_train,y_train)\n",
    "\n",
    "#Checking the train score\n",
    "\n",
    "print('Train r2 score :',RF_model.score(X_train,y_train))\n",
    "\n",
    "#Checking the test score\n",
    "\n",
    "print('Test r2 score :',RF_model.score(X_test,y_test))\n",
    "\n",
    "y_pred_RF_tr=RF_model.predict(X_train)\n",
    "y_pred_RF_ts=RF_model.predict(X_test)\n",
    "\n",
    "print('MAE train score :',mean_absolute_error(y_train,y_pred_RF_tr))\n",
    "print('MAE test score :',mean_absolute_error(y_test,y_pred_RF_ts))"
   ]
  },
  {
   "cell_type": "code",
   "execution_count": 431,
   "id": "06601dfb",
   "metadata": {},
   "outputs": [
    {
     "name": "stdout",
     "output_type": "stream",
     "text": [
      "Train r2 score : 0.9430025004075697\n",
      "Test r2 score : 0.0008499691190305692\n",
      "MAE train score : 1906.858461385266\n",
      "MAE test score : 9698.965368759262\n",
      "MAPE train score : 4.887508695349441\n",
      "MAPE test score : 6.068527989241535\n",
      "RMSE train score : 43.66759051499483\n",
      "RMSE test score : 98.48332533357747\n"
     ]
    }
   ],
   "source": [
    "print('Train r2 score :',RF_model.score(X_train,y_train))\n",
    "print('Test r2 score :',RF_model.score(X_test,y_test))\n",
    "print('MAE train score :',mean_absolute_error(y_train,y_pred_RF_tr))\n",
    "print('MAE test score :',mean_absolute_error(y_test,y_pred_RF_ts))\n",
    "print('MAPE train score :',mean_absolute_percentage_error(y_train,y_pred_RF_tr))\n",
    "print('MAPE test score :',mean_absolute_percentage_error(y_test,y_pred_RF_ts))\n",
    "print('RMSE train score :',np.sqrt(mean_absolute_error(y_train,y_pred_RF_tr)))\n",
    "print('RMSE test score :',np.sqrt(mean_absolute_error(y_test,y_pred_RF_ts)))"
   ]
  },
  {
   "cell_type": "code",
   "execution_count": 447,
   "id": "e6e3ead2",
   "metadata": {},
   "outputs": [],
   "source": [
    "Scorecard_3=pd.DataFrame({'Train_r2':0.94,'Test_r2':0.00,'Train_MAE':1906.85,'Test_MAE':9698.96,'Train_MAPE':4.88,'Test_MAPE':6.06,'Train_RMSE':43.66,'Test_RMSE':98.48},index=['RF_Base_Model'])"
   ]
  },
  {
   "cell_type": "markdown",
   "id": "9b03d259",
   "metadata": {},
   "source": [
    "# REFITTING THE RANDOM FORREST TREE MODEL USING HYPER PARAMETERS GENERATED BY GRID SEARCH CV"
   ]
  },
  {
   "cell_type": "code",
   "execution_count": 374,
   "id": "501dac59",
   "metadata": {},
   "outputs": [
    {
     "name": "stdout",
     "output_type": "stream",
     "text": [
      "Train r2 score : 0.1801695099334948\n",
      "Test r2 score : -0.000208816773523246\n",
      "MAE train score : 1906.858461385266\n",
      "MAE test score : 9698.965368759262\n"
     ]
    }
   ],
   "source": [
    "RF_GS=RandomForestRegressor(max_depth=5,max_features= 'auto',max_leaf_nodes= None,min_samples_leaf= 1,min_weight_fraction_leaf= 0.1,\n",
    "n_estimators= 30,random_state=1)\n",
    "\n",
    "#fitting the model\n",
    "\n",
    "RF_GS_model=RF_GS.fit(X_train,y_train)\n",
    "\n",
    "#Checking the train score\n",
    "\n",
    "print('Train r2 score :',RF_GS_model.score(X_train,y_train))\n",
    "\n",
    "#Checking the test score\n",
    "\n",
    "print('Test r2 score :',RF_GS_model.score(X_test,y_test))\n",
    "\n",
    "y_pred_RFGS_tr=RF_model.predict(X_train)\n",
    "y_pred_RFGS_ts=RF_model.predict(X_test)\n",
    "\n",
    "print('MAE train score :',mean_absolute_error(y_train,y_pred_RFGS_tr))\n",
    "print('MAE test score :',mean_absolute_error(y_test,y_pred_RFGS_ts))"
   ]
  },
  {
   "cell_type": "code",
   "execution_count": 432,
   "id": "e0f9176a",
   "metadata": {},
   "outputs": [
    {
     "name": "stdout",
     "output_type": "stream",
     "text": [
      "Train r2 score : 0.1801695099334948\n",
      "Test r2 score : -0.000208816773523246\n",
      "MAE train score : 1906.858461385266\n",
      "MAE test score : 9698.965368759262\n",
      "MAPE train score : 4.887508695349441\n",
      "MAPE test score : 6.068527989241535\n",
      "RMSE train score : 43.66759051499483\n",
      "RMSE test score : 98.48332533357747\n"
     ]
    }
   ],
   "source": [
    "print('Train r2 score :',RF_GS_model.score(X_train,y_train))\n",
    "print('Test r2 score :',RF_GS_model.score(X_test,y_test))\n",
    "print('MAE train score :',mean_absolute_error(y_train,y_pred_RFGS_tr))\n",
    "print('MAE test score :',mean_absolute_error(y_test,y_pred_RFGS_ts))\n",
    "print('MAPE train score :',mean_absolute_percentage_error(y_train,y_pred_RFGS_tr))\n",
    "print('MAPE test score :',mean_absolute_percentage_error(y_test,y_pred_RFGS_ts))\n",
    "print('RMSE train score :',np.sqrt(mean_absolute_error(y_train,y_pred_RFGS_tr)))\n",
    "print('RMSE test score :',np.sqrt(mean_absolute_error(y_test,y_pred_RFGS_ts)))"
   ]
  },
  {
   "cell_type": "code",
   "execution_count": 434,
   "id": "42ec69c5",
   "metadata": {},
   "outputs": [],
   "source": [
    "Scorecard_4=pd.DataFrame({'Train_r2':0.18,'Test_r2':-0.00,'Train_MAE':1906.85,'Test_MAE':9698.96,'Train_MAPE':4.88,'Test_MAPE':6.06,'Train_RMSE':43.66,'Test_RMSE':98.48},index=['RF_Tuned_Model'])"
   ]
  },
  {
   "cell_type": "markdown",
   "id": "23e9def7",
   "metadata": {},
   "source": [
    "# ADABOOST BASE MODEL"
   ]
  },
  {
   "cell_type": "code",
   "execution_count": 377,
   "id": "07316a67",
   "metadata": {},
   "outputs": [
    {
     "name": "stdout",
     "output_type": "stream",
     "text": [
      "Train r2 score : 0.3827764306612229\n",
      "Test r2 score : 0.00022374819542769764\n",
      "MAE train score : 11765.457715275183\n",
      "MAE test score : 16524.80816883086\n"
     ]
    }
   ],
   "source": [
    "AdaB=AdaBoostRegressor(random_state=1)\n",
    "\n",
    "#fitting the model\n",
    "\n",
    "AdaB_model=AdaB.fit(X_train,y_train)\n",
    "\n",
    "#Checking the train score\n",
    "\n",
    "print('Train r2 score :',AdaB_model.score(X_train,y_train))\n",
    "\n",
    "#Checking the test score\n",
    "\n",
    "print('Test r2 score :',AdaB_model.score(X_test,y_test))\n",
    "\n",
    "y_pred_AD_tr=AdaB_model.predict(X_train)\n",
    "y_pred_AD_ts=AdaB_model.predict(X_test)\n",
    "\n",
    "print('MAE train score :',mean_absolute_error(y_train,y_pred_AD_tr))\n",
    "print('MAE test score :',mean_absolute_error(y_test,y_pred_AD_ts))"
   ]
  },
  {
   "cell_type": "code",
   "execution_count": 433,
   "id": "99a7b384",
   "metadata": {},
   "outputs": [
    {
     "name": "stdout",
     "output_type": "stream",
     "text": [
      "Train r2 score : 0.3827764306612229\n",
      "Test r2 score : 0.00022374819542769764\n",
      "MAE train score : 11765.457715275183\n",
      "MAE test score : 16524.80816883086\n",
      "MAPE train score : 25.510442979441876\n",
      "MAPE test score : 16.36221485822421\n",
      "RMSE train score : 108.46869463248456\n",
      "RMSE test score : 128.54885518288702\n"
     ]
    }
   ],
   "source": [
    "print('Train r2 score :',AdaB_model.score(X_train,y_train))\n",
    "print('Test r2 score :',AdaB_model.score(X_test,y_test))\n",
    "print('MAE train score :',mean_absolute_error(y_train,y_pred_AD_tr))\n",
    "print('MAE test score :',mean_absolute_error(y_test,y_pred_AD_ts))\n",
    "print('MAPE train score :',mean_absolute_percentage_error(y_train,y_pred_AD_tr))\n",
    "print('MAPE test score :',mean_absolute_percentage_error(y_test,y_pred_AD_ts))\n",
    "print('RMSE train score :',np.sqrt(mean_absolute_error(y_train,y_pred_AD_tr)))\n",
    "print('RMSE test score :',np.sqrt(mean_absolute_error(y_test,y_pred_AD_ts)))"
   ]
  },
  {
   "cell_type": "code",
   "execution_count": 435,
   "id": "80d44d9d",
   "metadata": {},
   "outputs": [],
   "source": [
    "Scorecard_5=pd.DataFrame({'Train_r2':0.38,'Test_r2':0.00,'Train_MAE':11765.45,'Test_MAE':16524.80,'Train_MAPE':25.51,'Test_MAPE':16.36,'Train_RMSE':108.46,'Test_RMSE':128.54},index=['AdaBoost_Base_Model'])"
   ]
  },
  {
   "cell_type": "markdown",
   "id": "2d4f4ced",
   "metadata": {},
   "source": [
    "# REFITTING ADABOOST MODEL USING HYPER PARAMETERS GENERATED BY GRID SEARCH CV"
   ]
  },
  {
   "cell_type": "code",
   "execution_count": 379,
   "id": "e03bc585",
   "metadata": {},
   "outputs": [
    {
     "name": "stdout",
     "output_type": "stream",
     "text": [
      "Train r2 score : 0.377940949893776\n",
      "Test r2 score : -4.0021832589776096e-05\n",
      "MAE train score : 11153.810242996602\n",
      "MAE test score : 15944.321732731945\n"
     ]
    }
   ],
   "source": [
    "AdaB_GS=AdaBoostRegressor(learning_rate= 1.0, loss= 'square', n_estimators=20,random_state=1)\n",
    "\n",
    "#fitting the model\n",
    "\n",
    "AdaB_GS_model=AdaB_GS.fit(X_train,y_train)\n",
    "\n",
    "#Checking the train score\n",
    "\n",
    "print('Train r2 score :',AdaB_GS_model.score(X_train,y_train))\n",
    "\n",
    "#Checking the test score\n",
    "\n",
    "print('Test r2 score :',AdaB_GS_model.score(X_test,y_test))\n",
    "\n",
    "y_pred_ADGS_tr=AdaB_GS_model.predict(X_train)\n",
    "y_pred_ADGS_ts=AdaB_GS_model.predict(X_test)\n",
    "\n",
    "print('MAE train score :',mean_absolute_error(y_train,y_pred_ADGS_tr))\n",
    "print('MAE test score :',mean_absolute_error(y_test,y_pred_ADGS_ts))"
   ]
  },
  {
   "cell_type": "code",
   "execution_count": 436,
   "id": "2d0ec1e9",
   "metadata": {},
   "outputs": [
    {
     "name": "stdout",
     "output_type": "stream",
     "text": [
      "Train r2 score : 0.377940949893776\n",
      "Test r2 score : -4.0021832589776096e-05\n",
      "MAE train score : 11153.810242996602\n",
      "MAE test score : 15944.321732731945\n",
      "MAPE train score : 22.799909515772335\n",
      "MAPE test score : 14.19034379927929\n",
      "RMSE train score : 105.61160089212076\n",
      "RMSE test score : 126.27082692661811\n"
     ]
    }
   ],
   "source": [
    "print('Train r2 score :',AdaB_GS_model.score(X_train,y_train))\n",
    "print('Test r2 score :',AdaB_GS_model.score(X_test,y_test))\n",
    "print('MAE train score :',mean_absolute_error(y_train,y_pred_ADGS_tr))\n",
    "print('MAE test score :',mean_absolute_error(y_test,y_pred_ADGS_ts))\n",
    "print('MAPE train score :',mean_absolute_percentage_error(y_train,y_pred_ADGS_tr))\n",
    "print('MAPE test score :',mean_absolute_percentage_error(y_test,y_pred_ADGS_ts))\n",
    "print('RMSE train score :',np.sqrt(mean_absolute_error(y_train,y_pred_ADGS_tr)))\n",
    "print('RMSE test score :',np.sqrt(mean_absolute_error(y_test,y_pred_ADGS_ts)))"
   ]
  },
  {
   "cell_type": "code",
   "execution_count": 439,
   "id": "0681a8b5",
   "metadata": {},
   "outputs": [],
   "source": [
    "Scorecard_6=pd.DataFrame({'Train_r2':0.37,'Test_r2':-0.00,'Train_MAE':11153.81,'Test_MAE':15944.32,'Train_MAPE':22.79,'Test_MAPE':14.19,'Train_RMSE':105.6161,'Test_RMSE':126.27},index=['AdaBoost_Tuned_Model'])"
   ]
  },
  {
   "cell_type": "markdown",
   "id": "61f832d3",
   "metadata": {},
   "source": [
    "# GRADIENTBOOST BASE MODEL"
   ]
  },
  {
   "cell_type": "code",
   "execution_count": 380,
   "id": "aee379e2",
   "metadata": {},
   "outputs": [
    {
     "name": "stdout",
     "output_type": "stream",
     "text": [
      "Train r2 score : 0.6918660716151662\n",
      "Test r2 score : 0.0005892773123932216\n",
      "MAE train score : 6860.324624710423\n",
      "MAE test score : 11825.420949577989\n"
     ]
    }
   ],
   "source": [
    "GradB=GradientBoostingRegressor(random_state=1)\n",
    "\n",
    "#fitting the model\n",
    "\n",
    "GradB_model=GradB.fit(X_train,y_train)\n",
    "\n",
    "#Checking the train score\n",
    "\n",
    "print('Train r2 score :',GradB_model.score(X_train,y_train))\n",
    "\n",
    "#Checking the test score\n",
    "\n",
    "print('Test r2 score :',GradB_model.score(X_test,y_test))\n",
    "\n",
    "y_pred_GB_tr=GradB_model.predict(X_train)\n",
    "y_pred_GB_ts=GradB_model.predict(X_test)\n",
    "\n",
    "print('MAE train score :',mean_absolute_error(y_train,y_pred_GB_tr))\n",
    "print('MAE test score :',mean_absolute_error(y_test,y_pred_GB_ts))"
   ]
  },
  {
   "cell_type": "code",
   "execution_count": 438,
   "id": "2469dfb0",
   "metadata": {},
   "outputs": [
    {
     "name": "stdout",
     "output_type": "stream",
     "text": [
      "Train r2 score : 0.6918660716151662\n",
      "Test r2 score : 0.0005892773123932216\n",
      "MAE train score : 6860.324624710423\n",
      "MAE test score : 11825.420949577989\n",
      "MAPE train score : 15.270775364685823\n",
      "MAPE test score : 9.05194090486821\n",
      "RMSE train score : 82.82707663989127\n",
      "RMSE test score : 108.74475136565438\n"
     ]
    }
   ],
   "source": [
    "print('Train r2 score :',GradB_model.score(X_train,y_train))\n",
    "print('Test r2 score :',GradB_model.score(X_test,y_test))\n",
    "print('MAE train score :',mean_absolute_error(y_train,y_pred_GB_tr))\n",
    "print('MAE test score :',mean_absolute_error(y_test,y_pred_GB_ts))\n",
    "print('MAPE train score :',mean_absolute_percentage_error(y_train,y_pred_GB_tr))\n",
    "print('MAPE test score :',mean_absolute_percentage_error(y_test,y_pred_GB_ts))\n",
    "print('RMSE train score :',np.sqrt(mean_absolute_error(y_train,y_pred_GB_tr)))\n",
    "print('RMSE test score :',np.sqrt(mean_absolute_error(y_test,y_pred_GB_ts)))"
   ]
  },
  {
   "cell_type": "code",
   "execution_count": 440,
   "id": "c0b86db8",
   "metadata": {},
   "outputs": [],
   "source": [
    "Scorecard_7=pd.DataFrame({'Train_r2':0.69,'Test_r2':0.00,'Train_MAE':6860.32,'Test_MAE':11825.42,'Train_MAPE':15.27,'Test_MAPE':9.05,'Train_RMSE':82.82,'Test_RMSE':108.74},index=['GradBoost_Base_Model'])"
   ]
  },
  {
   "cell_type": "markdown",
   "id": "88c6c503",
   "metadata": {},
   "source": [
    "# REFITTING GRADIENTBOOST MODEL USING HYPER PARAMETERS GENERATED BY GRID SEARCH CV"
   ]
  },
  {
   "cell_type": "code",
   "execution_count": 389,
   "id": "94bc7ad5",
   "metadata": {},
   "outputs": [
    {
     "name": "stdout",
     "output_type": "stream",
     "text": [
      "Train r2 score : 0.515650044456996\n",
      "Test r2 score : 4.2125225234501684e-05\n",
      "MAE train score : 8045.956295928698\n",
      "MAE test score : 12955.219499706242\n"
     ]
    }
   ],
   "source": [
    "GradB_GS=GradientBoostingRegressor(criterion= 'squared_error',learning_rate=0.3,loss= 'squared_error',max_depth= 2,max_features= 'auto',\n",
    "max_leaf_nodes= 3,min_samples_leaf= 2,min_samples_split= 2,n_estimators= 50,random_state=1)\n",
    "\n",
    "#fitting the model\n",
    "\n",
    "GradB_GS_model=GradB_GS.fit(X_train,y_train)\n",
    "\n",
    "#Checking the train score\n",
    "\n",
    "print('Train r2 score :',GradB_GS_model.score(X_train,y_train))\n",
    "\n",
    "#Checking the test score\n",
    "\n",
    "print('Test r2 score :',GradB_GS_model.score(X_test,y_test))\n",
    "\n",
    "y_pred_GBGS_tr=GradB_GS_model.predict(X_train)\n",
    "y_pred_GBGS_ts=GradB_GS_model.predict(X_test)\n",
    "\n",
    "print('MAE train score :',mean_absolute_error(y_train,y_pred_GBGS_tr))\n",
    "print('MAE test score :',mean_absolute_error(y_test,y_pred_GBGS_ts))"
   ]
  },
  {
   "cell_type": "code",
   "execution_count": 442,
   "id": "15caf905",
   "metadata": {},
   "outputs": [
    {
     "name": "stdout",
     "output_type": "stream",
     "text": [
      "Train r2 score : 0.515650044456996\n",
      "Test r2 score : 4.2125225234501684e-05\n",
      "MAE train score : 8045.956295928698\n",
      "MAE test score : 12955.219499706242\n",
      "MAPE train score : 17.79577446389519\n",
      "MAPE test score : 9.780877906199471\n",
      "RMSE train score : 89.69925471222544\n",
      "RMSE test score : 113.82099762217094\n"
     ]
    }
   ],
   "source": [
    "print('Train r2 score :',GradB_GS_model.score(X_train,y_train))\n",
    "print('Test r2 score :',GradB_GS_model.score(X_test,y_test))\n",
    "print('MAE train score :',mean_absolute_error(y_train,y_pred_GBGS_tr))\n",
    "print('MAE test score :',mean_absolute_error(y_test,y_pred_GBGS_ts))\n",
    "print('MAPE train score :',mean_absolute_percentage_error(y_train,y_pred_GBGS_tr))\n",
    "print('MAPE test score :',mean_absolute_percentage_error(y_test,y_pred_GBGS_ts))\n",
    "print('RMSE train score :',np.sqrt(mean_absolute_error(y_train,y_pred_GBGS_tr)))\n",
    "print('RMSE test score :',np.sqrt(mean_absolute_error(y_test,y_pred_GBGS_ts)))"
   ]
  },
  {
   "cell_type": "code",
   "execution_count": 457,
   "id": "ff7a80c9",
   "metadata": {},
   "outputs": [],
   "source": [
    "Scorecard_8=pd.DataFrame({'Train_r2':0.51,'Test_r2':0.00,'Train_MAE':8045.95,'Test_MAE':12955.21,'Train_MAPE':17.79,'Test_MAPE':9.78,'Train_RMSE':89.69,'Test_RMSE':113.82},index=['GradBoost_Tuned_Model'])"
   ]
  },
  {
   "cell_type": "markdown",
   "id": "1712b7eb",
   "metadata": {},
   "source": [
    "# XGTBOOST BASE MODEL"
   ]
  },
  {
   "cell_type": "code",
   "execution_count": 390,
   "id": "2278bdf0",
   "metadata": {},
   "outputs": [
    {
     "name": "stdout",
     "output_type": "stream",
     "text": [
      "Train r2 score : 0.9262981103736635\n",
      "Test r2 score : 0.0005350312079527297\n",
      "MAE train score : 3573.799876071655\n",
      "MAE test score : 10243.381758104228\n"
     ]
    }
   ],
   "source": [
    "XGB=XGBRegressor(random_state=1) \n",
    "\n",
    "#fitting the model\n",
    "\n",
    "XGB_model=XGB.fit(X_train.values,y_train)\n",
    "\n",
    "#Checking the train score\n",
    "\n",
    "print('Train r2 score :',XGB_model.score(X_train,y_train))\n",
    "\n",
    "#Checking the test score\n",
    "\n",
    "print('Test r2 score :',XGB_model.score(X_test,y_test))\n",
    "\n",
    "y_pred_XG_tr=XGB_model.predict(X_train)\n",
    "y_pred_XG_ts=XGB_model.predict(X_test)\n",
    "\n",
    "print('MAE train score :',mean_absolute_error(y_train,y_pred_XG_tr))\n",
    "print('MAE test score :',mean_absolute_error(y_test,y_pred_XG_ts))"
   ]
  },
  {
   "cell_type": "code",
   "execution_count": 444,
   "id": "6af3a4f7",
   "metadata": {},
   "outputs": [
    {
     "name": "stdout",
     "output_type": "stream",
     "text": [
      "Train r2 score : 0.9262981103736635\n",
      "Test r2 score : 0.0005350312079527297\n",
      "MAE train score : 3573.799876071655\n",
      "MAE test score : 10243.381758104228\n",
      "MAPE train score : 8.839611735479432\n",
      "MAPE test score : 6.803421876436486\n",
      "RMSE train score : 59.781266932640825\n",
      "RMSE test score : 101.20959321183061\n"
     ]
    }
   ],
   "source": [
    "print('Train r2 score :',XGB_model.score(X_train,y_train))\n",
    "print('Test r2 score :',XGB_model.score(X_test,y_test))\n",
    "print('MAE train score :',mean_absolute_error(y_train,y_pred_XG_tr))\n",
    "print('MAE test score :',mean_absolute_error(y_test,y_pred_XG_ts))\n",
    "print('MAPE train score :',mean_absolute_percentage_error(y_train,y_pred_XG_tr))\n",
    "print('MAPE test score :',mean_absolute_percentage_error(y_test,y_pred_XG_ts))\n",
    "print('RMSE train score :',np.sqrt(mean_absolute_error(y_train,y_pred_XG_tr)))\n",
    "print('RMSE test score :',np.sqrt(mean_absolute_error(y_test,y_pred_XG_ts)))"
   ]
  },
  {
   "cell_type": "code",
   "execution_count": 452,
   "id": "fca71241",
   "metadata": {},
   "outputs": [],
   "source": [
    "Scorecard_9=pd.DataFrame({'Train_r2':0.92,'Test_r2':0.00,'Train_MAE':3573.79,'Test_MAE':10243.38,'Train_MAPE':8.83,'Test_MAPE':6.80,'Train_RMSE':59.78,'Test_RMSE':101.20},index=['XGBoost_Base_Model'])"
   ]
  },
  {
   "cell_type": "code",
   "execution_count": 450,
   "id": "c72587cd",
   "metadata": {},
   "outputs": [
    {
     "name": "stdout",
     "output_type": "stream",
     "text": [
      "Train r2 score : 0.817269057060548\n",
      "Test r2 score : 0.0007298398394066652\n",
      "MAE train score : 5396.121363612576\n",
      "MAE test score : 10849.14921496373\n"
     ]
    }
   ],
   "source": [
    "XGB_GS=XGBRegressor(n_estimators=100,max_depth=5,eta=0.1)\n",
    "\n",
    "#fitting the model\n",
    "\n",
    "XGB_GS_model=XGB_GS.fit(X_train.values,y_train)\n",
    "\n",
    "#Checking the train score\n",
    "\n",
    "print('Train r2 score :',XGB_GS_model.score(X_train,y_train))\n",
    "\n",
    "#Checking the test score\n",
    "\n",
    "print('Test r2 score :',XGB_GS_model.score(X_test,y_test))\n",
    "\n",
    "y_pred_XGGS_tr=XGB_GS_model.predict(X_train)\n",
    "y_pred_XGGS_ts=XGB_GS_model.predict(X_test)\n",
    "\n",
    "print('MAE train score :',mean_absolute_error(y_train,y_pred_XGGS_tr))\n",
    "print('MAE test score :',mean_absolute_error(y_test,y_pred_XGGS_ts))"
   ]
  },
  {
   "cell_type": "code",
   "execution_count": 451,
   "id": "a4f58961",
   "metadata": {},
   "outputs": [
    {
     "name": "stdout",
     "output_type": "stream",
     "text": [
      "Train r2 score : 0.817269057060548\n",
      "Test r2 score : 0.0007298398394066652\n",
      "MAE train score : 5396.121363612576\n",
      "MAE test score : 10849.14921496373\n",
      "MAPE train score : 12.331393266814086\n",
      "MAPE test score : 7.7914289940387205\n",
      "RMSE train score : 73.4582967649848\n",
      "RMSE test score : 104.15924930107614\n"
     ]
    }
   ],
   "source": [
    "print('Train r2 score :',XGB_GS_model.score(X_train,y_train))\n",
    "print('Test r2 score :',XGB_GS_model.score(X_test,y_test))\n",
    "print('MAE train score :',mean_absolute_error(y_train,y_pred_XGGS_tr))\n",
    "print('MAE test score :',mean_absolute_error(y_test,y_pred_XGGS_ts))\n",
    "print('MAPE train score :',mean_absolute_percentage_error(y_train,y_pred_XGGS_tr))\n",
    "print('MAPE test score :',mean_absolute_percentage_error(y_test,y_pred_XGGS_ts))\n",
    "print('RMSE train score :',np.sqrt(mean_absolute_error(y_train,y_pred_XGGS_tr)))\n",
    "print('RMSE test score :',np.sqrt(mean_absolute_error(y_test,y_pred_XGGS_ts)))"
   ]
  },
  {
   "cell_type": "code",
   "execution_count": 453,
   "id": "543ef65f",
   "metadata": {},
   "outputs": [],
   "source": [
    "Scorecard_10=pd.DataFrame({'Train_r2':0.81,'Test_r2':0.00,'Train_MAE':5396.12,'Test_MAE':10849.14,'Train_MAPE':12.33,'Test_MAPE':7.79,'Train_RMSE':73.45,'Test_RMSE':104.15},index=['XGBoost_Tuned_Model'])"
   ]
  },
  {
   "cell_type": "code",
   "execution_count": 458,
   "id": "3bf884d5",
   "metadata": {},
   "outputs": [
    {
     "data": {
      "text/html": [
       "<div>\n",
       "<style scoped>\n",
       "    .dataframe tbody tr th:only-of-type {\n",
       "        vertical-align: middle;\n",
       "    }\n",
       "\n",
       "    .dataframe tbody tr th {\n",
       "        vertical-align: top;\n",
       "    }\n",
       "\n",
       "    .dataframe thead th {\n",
       "        text-align: right;\n",
       "    }\n",
       "</style>\n",
       "<table border=\"1\" class=\"dataframe\">\n",
       "  <thead>\n",
       "    <tr style=\"text-align: right;\">\n",
       "      <th></th>\n",
       "      <th>Train_r2</th>\n",
       "      <th>Test_r2</th>\n",
       "      <th>Train_MAE</th>\n",
       "      <th>Test_MAE</th>\n",
       "      <th>Train_MAPE</th>\n",
       "      <th>Test_MAPE</th>\n",
       "      <th>Train_RMSE</th>\n",
       "      <th>Test_RMSE</th>\n",
       "    </tr>\n",
       "  </thead>\n",
       "  <tbody>\n",
       "    <tr>\n",
       "      <th>DT_Base_Model</th>\n",
       "      <td>0.99</td>\n",
       "      <td>0.0</td>\n",
       "      <td>202.06</td>\n",
       "      <td>10994.69</td>\n",
       "      <td>0.08</td>\n",
       "      <td>6.35</td>\n",
       "      <td>14.2100</td>\n",
       "      <td>104.85</td>\n",
       "    </tr>\n",
       "    <tr>\n",
       "      <th>DT_Tuned_Model</th>\n",
       "      <td>0.14</td>\n",
       "      <td>-0.0</td>\n",
       "      <td>10590.05</td>\n",
       "      <td>15234.07</td>\n",
       "      <td>18.24</td>\n",
       "      <td>11.41</td>\n",
       "      <td>102.9000</td>\n",
       "      <td>123.42</td>\n",
       "    </tr>\n",
       "    <tr>\n",
       "      <th>RF_Base_Model</th>\n",
       "      <td>0.94</td>\n",
       "      <td>0.0</td>\n",
       "      <td>1906.85</td>\n",
       "      <td>9698.96</td>\n",
       "      <td>4.88</td>\n",
       "      <td>6.06</td>\n",
       "      <td>43.6600</td>\n",
       "      <td>98.48</td>\n",
       "    </tr>\n",
       "    <tr>\n",
       "      <th>RF_Tuned_Model</th>\n",
       "      <td>0.18</td>\n",
       "      <td>-0.0</td>\n",
       "      <td>1906.85</td>\n",
       "      <td>9698.96</td>\n",
       "      <td>4.88</td>\n",
       "      <td>6.06</td>\n",
       "      <td>43.6600</td>\n",
       "      <td>98.48</td>\n",
       "    </tr>\n",
       "    <tr>\n",
       "      <th>AdaBoost_Base_Model</th>\n",
       "      <td>0.38</td>\n",
       "      <td>0.0</td>\n",
       "      <td>11765.45</td>\n",
       "      <td>16524.80</td>\n",
       "      <td>25.51</td>\n",
       "      <td>16.36</td>\n",
       "      <td>108.4600</td>\n",
       "      <td>128.54</td>\n",
       "    </tr>\n",
       "    <tr>\n",
       "      <th>AdaBoost_Tuned_Model</th>\n",
       "      <td>0.37</td>\n",
       "      <td>-0.0</td>\n",
       "      <td>11153.81</td>\n",
       "      <td>15944.32</td>\n",
       "      <td>22.79</td>\n",
       "      <td>14.19</td>\n",
       "      <td>105.6161</td>\n",
       "      <td>126.27</td>\n",
       "    </tr>\n",
       "    <tr>\n",
       "      <th>GradBoost_Base_Model</th>\n",
       "      <td>0.69</td>\n",
       "      <td>0.0</td>\n",
       "      <td>6860.32</td>\n",
       "      <td>11825.42</td>\n",
       "      <td>15.27</td>\n",
       "      <td>9.05</td>\n",
       "      <td>82.8200</td>\n",
       "      <td>108.74</td>\n",
       "    </tr>\n",
       "    <tr>\n",
       "      <th>GradBoost_Tuned_Model</th>\n",
       "      <td>0.51</td>\n",
       "      <td>0.0</td>\n",
       "      <td>8045.95</td>\n",
       "      <td>12955.21</td>\n",
       "      <td>17.79</td>\n",
       "      <td>9.78</td>\n",
       "      <td>89.6900</td>\n",
       "      <td>113.82</td>\n",
       "    </tr>\n",
       "    <tr>\n",
       "      <th>XGBoost_Base_Model</th>\n",
       "      <td>0.92</td>\n",
       "      <td>0.0</td>\n",
       "      <td>3573.79</td>\n",
       "      <td>10243.38</td>\n",
       "      <td>8.83</td>\n",
       "      <td>6.80</td>\n",
       "      <td>59.7800</td>\n",
       "      <td>101.20</td>\n",
       "    </tr>\n",
       "    <tr>\n",
       "      <th>XGBoost_Tuned_Model</th>\n",
       "      <td>0.81</td>\n",
       "      <td>0.0</td>\n",
       "      <td>5396.12</td>\n",
       "      <td>10849.14</td>\n",
       "      <td>12.33</td>\n",
       "      <td>7.79</td>\n",
       "      <td>73.4500</td>\n",
       "      <td>104.15</td>\n",
       "    </tr>\n",
       "  </tbody>\n",
       "</table>\n",
       "</div>"
      ],
      "text/plain": [
       "                       Train_r2  Test_r2  Train_MAE  Test_MAE  Train_MAPE  \\\n",
       "DT_Base_Model              0.99      0.0     202.06  10994.69        0.08   \n",
       "DT_Tuned_Model             0.14     -0.0   10590.05  15234.07       18.24   \n",
       "RF_Base_Model              0.94      0.0    1906.85   9698.96        4.88   \n",
       "RF_Tuned_Model             0.18     -0.0    1906.85   9698.96        4.88   \n",
       "AdaBoost_Base_Model        0.38      0.0   11765.45  16524.80       25.51   \n",
       "AdaBoost_Tuned_Model       0.37     -0.0   11153.81  15944.32       22.79   \n",
       "GradBoost_Base_Model       0.69      0.0    6860.32  11825.42       15.27   \n",
       "GradBoost_Tuned_Model      0.51      0.0    8045.95  12955.21       17.79   \n",
       "XGBoost_Base_Model         0.92      0.0    3573.79  10243.38        8.83   \n",
       "XGBoost_Tuned_Model        0.81      0.0    5396.12  10849.14       12.33   \n",
       "\n",
       "                       Test_MAPE  Train_RMSE  Test_RMSE  \n",
       "DT_Base_Model               6.35     14.2100     104.85  \n",
       "DT_Tuned_Model             11.41    102.9000     123.42  \n",
       "RF_Base_Model               6.06     43.6600      98.48  \n",
       "RF_Tuned_Model              6.06     43.6600      98.48  \n",
       "AdaBoost_Base_Model        16.36    108.4600     128.54  \n",
       "AdaBoost_Tuned_Model       14.19    105.6161     126.27  \n",
       "GradBoost_Base_Model        9.05     82.8200     108.74  \n",
       "GradBoost_Tuned_Model       9.78     89.6900     113.82  \n",
       "XGBoost_Base_Model          6.80     59.7800     101.20  \n",
       "XGBoost_Tuned_Model         7.79     73.4500     104.15  "
      ]
     },
     "execution_count": 458,
     "metadata": {},
     "output_type": "execute_result"
    }
   ],
   "source": [
    "pd.concat([Scorecard_1,Scorecard_2,Scorecard_3,Scorecard_4,Scorecard_5,Scorecard_6,Scorecard_7,Scorecard_8,Scorecard_9,Scorecard_10],axis=0)"
   ]
  },
  {
   "cell_type": "code",
   "execution_count": 1,
   "id": "ebcf8e5a",
   "metadata": {},
   "outputs": [
    {
     "ename": "NameError",
     "evalue": "name 'pd' is not defined",
     "output_type": "error",
     "traceback": [
      "\u001b[0;31m---------------------------------------------------------------------------\u001b[0m",
      "\u001b[0;31mNameError\u001b[0m                                 Traceback (most recent call last)",
      "\u001b[0;32m<ipython-input-1-e5d02bb40778>\u001b[0m in \u001b[0;36m<module>\u001b[0;34m\u001b[0m\n\u001b[1;32m      1\u001b[0m \u001b[0;31m# create a dataframe that stores the feature names and their importance\u001b[0m\u001b[0;34m\u001b[0m\u001b[0;34m\u001b[0m\u001b[0;34m\u001b[0m\u001b[0m\n\u001b[1;32m      2\u001b[0m \u001b[0;31m# 'feature_importances_' returns the features based on the average gain\u001b[0m\u001b[0;34m\u001b[0m\u001b[0;34m\u001b[0m\u001b[0;34m\u001b[0m\u001b[0m\n\u001b[0;32m----> 3\u001b[0;31m important_features = pd.DataFrame({'Features': X_train.columns, \n\u001b[0m\u001b[1;32m      4\u001b[0m                                    'Importance': XGB_model.feature_importances_})\n\u001b[1;32m      5\u001b[0m \u001b[0;34m\u001b[0m\u001b[0m\n",
      "\u001b[0;31mNameError\u001b[0m: name 'pd' is not defined"
     ]
    }
   ],
   "source": [
    "# create a dataframe that stores the feature names and their importance\n",
    "# 'feature_importances_' returns the features based on the average gain \n",
    "important_features = pd.DataFrame({'Features': X_train.columns, \n",
    "                                   'Importance': XGB_model.feature_importances_})\n",
    "\n",
    "# sort the dataframe in the descending order according to the feature importance\n",
    "important_features = important_features.sort_values('Importance', ascending = False)\n",
    "\n",
    "# create a barplot to visualize the features based on their importance\n",
    "sns.barplot(x = 'Importance', y = 'Features', data = important_features)\n",
    "\n",
    "# add plot and axes labels\n",
    "# set text size using 'fontsize'\n",
    "plt.title('Feature Importance', fontsize = 15)\n",
    "plt.xlabel('Importance', fontsize = 15)\n",
    "plt.ylabel('Features', fontsize = 15)\n",
    "\n",
    "# display the plot\n",
    "plt.show()"
   ]
  },
  {
   "cell_type": "code",
   "execution_count": null,
   "id": "14ca9395",
   "metadata": {},
   "outputs": [],
   "source": []
  }
 ],
 "metadata": {
  "kernelspec": {
   "display_name": "Python 3",
   "language": "python",
   "name": "python3"
  },
  "language_info": {
   "codemirror_mode": {
    "name": "ipython",
    "version": 3
   },
   "file_extension": ".py",
   "mimetype": "text/x-python",
   "name": "python",
   "nbconvert_exporter": "python",
   "pygments_lexer": "ipython3",
   "version": "3.8.8"
  }
 },
 "nbformat": 4,
 "nbformat_minor": 5
}
